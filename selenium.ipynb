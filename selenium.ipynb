{
 "cells": [
  {
   "cell_type": "markdown",
   "metadata": {},
   "source": [
    "# Write a python program to scrape data for “Data Analyst” Job position in “Bangalore” location. You have to scrape the job-title, job-location, company_name,experience_required. You have to scrape first 10 jobs data."
   ]
  },
  {
   "cell_type": "code",
   "execution_count": 1,
   "metadata": {},
   "outputs": [],
   "source": [
    "#importing the libraries\n",
    "import selenium\n",
    "import pandas as pd\n",
    "from selenium import webdriver"
   ]
  },
  {
   "cell_type": "code",
   "execution_count": 2,
   "metadata": {},
   "outputs": [],
   "source": [
    "#importing the driver\n",
    "driver =webdriver.Chrome(r\"C:\\Users\\pavan\\Downloads\\chromedriver_win32\\chromedriver.exe\")"
   ]
  },
  {
   "cell_type": "code",
   "execution_count": 3,
   "metadata": {},
   "outputs": [],
   "source": [
    "#importing the url\n",
    "url = 'https://www.naukri.com/'\n",
    "driver.get(url)"
   ]
  },
  {
   "cell_type": "code",
   "execution_count": 4,
   "metadata": {},
   "outputs": [
    {
     "data": {
      "text/plain": [
       "<selenium.webdriver.remote.webelement.WebElement (session=\"1aff947d298ebbb5d40cb2934f907dbf\", element=\"c61bd217-ee8a-4e74-9b48-75d0a26f782f\")>"
      ]
     },
     "execution_count": 4,
     "metadata": {},
     "output_type": "execute_result"
    }
   ],
   "source": [
    "#importing the keyword\n",
    "search_job = driver.find_element_by_id('qsb-keyword-sugg')\n",
    "search_job"
   ]
  },
  {
   "cell_type": "code",
   "execution_count": 5,
   "metadata": {},
   "outputs": [],
   "source": [
    "search_job.send_keys('Data Analyst')"
   ]
  },
  {
   "cell_type": "code",
   "execution_count": 6,
   "metadata": {},
   "outputs": [],
   "source": [
    "#importing the location\n",
    "search_loc = driver.find_element_by_id('qsb-location-sugg')\n",
    "search_loc.send_keys('Bangalore')"
   ]
  },
  {
   "cell_type": "code",
   "execution_count": 7,
   "metadata": {},
   "outputs": [],
   "source": [
    "#clicking the serch button \n",
    "search_btn = driver.find_element_by_xpath(\"//button[@class='btn']\")\n",
    "search_btn.click()"
   ]
  },
  {
   "cell_type": "code",
   "execution_count": 9,
   "metadata": {},
   "outputs": [
    {
     "data": {
      "text/plain": [
       "[<selenium.webdriver.remote.webelement.WebElement (session=\"1aff947d298ebbb5d40cb2934f907dbf\", element=\"b3399ee5-01a7-4ee0-b7d3-41303d47012e\")>,\n",
       " <selenium.webdriver.remote.webelement.WebElement (session=\"1aff947d298ebbb5d40cb2934f907dbf\", element=\"4702d3b9-aa8b-4218-999d-50fb2015b2bb\")>,\n",
       " <selenium.webdriver.remote.webelement.WebElement (session=\"1aff947d298ebbb5d40cb2934f907dbf\", element=\"291d2afd-5797-4ff3-8408-c4fa3859f3d2\")>,\n",
       " <selenium.webdriver.remote.webelement.WebElement (session=\"1aff947d298ebbb5d40cb2934f907dbf\", element=\"5143ead6-3c49-4e19-b6d3-8927fc16f0b0\")>,\n",
       " <selenium.webdriver.remote.webelement.WebElement (session=\"1aff947d298ebbb5d40cb2934f907dbf\", element=\"5bc88e32-4d9b-4e93-b97b-cd9b35064aee\")>,\n",
       " <selenium.webdriver.remote.webelement.WebElement (session=\"1aff947d298ebbb5d40cb2934f907dbf\", element=\"aa2be33e-29d3-4d05-9470-6fdbd9b29715\")>,\n",
       " <selenium.webdriver.remote.webelement.WebElement (session=\"1aff947d298ebbb5d40cb2934f907dbf\", element=\"36080c57-ca7c-4bb3-9df7-8a8c66b2ae0d\")>,\n",
       " <selenium.webdriver.remote.webelement.WebElement (session=\"1aff947d298ebbb5d40cb2934f907dbf\", element=\"f37ef510-9559-48e1-b7ed-2e7fd3876bd3\")>,\n",
       " <selenium.webdriver.remote.webelement.WebElement (session=\"1aff947d298ebbb5d40cb2934f907dbf\", element=\"a66c9bcc-6d99-4499-88fb-edd129c46819\")>,\n",
       " <selenium.webdriver.remote.webelement.WebElement (session=\"1aff947d298ebbb5d40cb2934f907dbf\", element=\"c9f50e5a-3623-40ee-b375-6de07d74f259\")>,\n",
       " <selenium.webdriver.remote.webelement.WebElement (session=\"1aff947d298ebbb5d40cb2934f907dbf\", element=\"7d388f39-f1d5-4ceb-9a3e-62dbb534adea\")>,\n",
       " <selenium.webdriver.remote.webelement.WebElement (session=\"1aff947d298ebbb5d40cb2934f907dbf\", element=\"283ce1a0-1b72-4e6f-8039-f5df9023e914\")>,\n",
       " <selenium.webdriver.remote.webelement.WebElement (session=\"1aff947d298ebbb5d40cb2934f907dbf\", element=\"080b4c5a-b1c6-4cdf-857a-da6d60693fa2\")>,\n",
       " <selenium.webdriver.remote.webelement.WebElement (session=\"1aff947d298ebbb5d40cb2934f907dbf\", element=\"d68f77c3-83b1-4b07-b1ca-e0c1dd99b030\")>,\n",
       " <selenium.webdriver.remote.webelement.WebElement (session=\"1aff947d298ebbb5d40cb2934f907dbf\", element=\"ff7cf6fc-840b-4b0c-953e-6ab2e154e658\")>,\n",
       " <selenium.webdriver.remote.webelement.WebElement (session=\"1aff947d298ebbb5d40cb2934f907dbf\", element=\"8c8b3fa3-24d7-428a-bb2d-3db162133680\")>,\n",
       " <selenium.webdriver.remote.webelement.WebElement (session=\"1aff947d298ebbb5d40cb2934f907dbf\", element=\"f29a1424-71e1-4a52-96ad-94c491a0dd15\")>,\n",
       " <selenium.webdriver.remote.webelement.WebElement (session=\"1aff947d298ebbb5d40cb2934f907dbf\", element=\"9128a5f5-52ec-4bb6-9c44-0cb1b8165ffd\")>,\n",
       " <selenium.webdriver.remote.webelement.WebElement (session=\"1aff947d298ebbb5d40cb2934f907dbf\", element=\"61cd04df-710b-4748-97ba-8f0b0246000e\")>,\n",
       " <selenium.webdriver.remote.webelement.WebElement (session=\"1aff947d298ebbb5d40cb2934f907dbf\", element=\"a143d83b-8073-417f-bc12-baf5dabb66f4\")>]"
      ]
     },
     "execution_count": 9,
     "metadata": {},
     "output_type": "execute_result"
    }
   ],
   "source": [
    "#scaping the job tag\n",
    "titles_tags=driver.find_elements_by_xpath(\"//a[@class='title fw500 ellipsis']\")\n",
    "titles_tags"
   ]
  },
  {
   "cell_type": "code",
   "execution_count": 10,
   "metadata": {},
   "outputs": [
    {
     "data": {
      "text/plain": [
       "['Data Analyst - Quant & Data Mining',\n",
       " 'Data Analyst',\n",
       " 'Data Analyst',\n",
       " 'Marketing Technology Data Analyst',\n",
       " 'Product Data Analyst ( Leading MNC )',\n",
       " 'Process Data Analyst',\n",
       " 'Hiring Data Analyst For Leading E commerce GIANT',\n",
       " 'Data Analyst',\n",
       " 'Data Analyst II - Customer Support',\n",
       " 'Data Analyst (Contractual)',\n",
       " 'Data Analyst (Contractual)',\n",
       " 'Data Analyst (Remote)',\n",
       " 'Technical Data Analyst - Progton Technologies',\n",
       " 'Data Analyst - Category Demand Management (Revenue & Growth)',\n",
       " 'Data Analyst',\n",
       " 'Product Data Analyst - IT',\n",
       " 'Data Analyst',\n",
       " 'ACO Data Analyst Call Rina',\n",
       " 'Data Analyst',\n",
       " 'Data Analyst']"
      ]
     },
     "execution_count": 10,
     "metadata": {},
     "output_type": "execute_result"
    }
   ],
   "source": [
    "#appling forloop\n",
    "job_titles=[]\n",
    "for i in titles_tags:\n",
    "    job_titles.append(i.text)\n",
    "job_titles"
   ]
  },
  {
   "cell_type": "code",
   "execution_count": 11,
   "metadata": {},
   "outputs": [
    {
     "data": {
      "text/plain": [
       "[<selenium.webdriver.remote.webelement.WebElement (session=\"1aff947d298ebbb5d40cb2934f907dbf\", element=\"d0108d6d-e2ee-4711-8ebf-cf5f04703a03\")>,\n",
       " <selenium.webdriver.remote.webelement.WebElement (session=\"1aff947d298ebbb5d40cb2934f907dbf\", element=\"78d8f606-b43c-46e2-9602-fec8c31ccdf3\")>,\n",
       " <selenium.webdriver.remote.webelement.WebElement (session=\"1aff947d298ebbb5d40cb2934f907dbf\", element=\"5275a653-be07-4089-8ca5-f16753e75965\")>,\n",
       " <selenium.webdriver.remote.webelement.WebElement (session=\"1aff947d298ebbb5d40cb2934f907dbf\", element=\"1aa48c22-7272-4bd7-b27c-726c63347f2f\")>,\n",
       " <selenium.webdriver.remote.webelement.WebElement (session=\"1aff947d298ebbb5d40cb2934f907dbf\", element=\"b08e3f26-8f4c-41f0-96f0-5a16097d17c6\")>,\n",
       " <selenium.webdriver.remote.webelement.WebElement (session=\"1aff947d298ebbb5d40cb2934f907dbf\", element=\"5bf98910-d980-4947-9644-abaa3876444c\")>,\n",
       " <selenium.webdriver.remote.webelement.WebElement (session=\"1aff947d298ebbb5d40cb2934f907dbf\", element=\"6565ad6a-75ef-48db-b753-921cf7ecc9ae\")>,\n",
       " <selenium.webdriver.remote.webelement.WebElement (session=\"1aff947d298ebbb5d40cb2934f907dbf\", element=\"3272009a-5271-4d20-a914-75568eec7b1a\")>,\n",
       " <selenium.webdriver.remote.webelement.WebElement (session=\"1aff947d298ebbb5d40cb2934f907dbf\", element=\"fef482ac-128e-4c0d-b3b9-36b090fe2aea\")>,\n",
       " <selenium.webdriver.remote.webelement.WebElement (session=\"1aff947d298ebbb5d40cb2934f907dbf\", element=\"aaedb724-a2df-40e8-a589-67f12bc7db5a\")>,\n",
       " <selenium.webdriver.remote.webelement.WebElement (session=\"1aff947d298ebbb5d40cb2934f907dbf\", element=\"ca890c0b-b89e-4439-a5a1-deed457a33d4\")>,\n",
       " <selenium.webdriver.remote.webelement.WebElement (session=\"1aff947d298ebbb5d40cb2934f907dbf\", element=\"9c0906c3-efe3-40eb-a2a7-bb0800e5ea63\")>,\n",
       " <selenium.webdriver.remote.webelement.WebElement (session=\"1aff947d298ebbb5d40cb2934f907dbf\", element=\"28445a30-f2d3-48ec-b040-cf31422bc02b\")>,\n",
       " <selenium.webdriver.remote.webelement.WebElement (session=\"1aff947d298ebbb5d40cb2934f907dbf\", element=\"02174ecd-8a21-4db6-b191-b1adecbee106\")>,\n",
       " <selenium.webdriver.remote.webelement.WebElement (session=\"1aff947d298ebbb5d40cb2934f907dbf\", element=\"949e432a-69b3-4f52-b90e-ba2a87b77e99\")>,\n",
       " <selenium.webdriver.remote.webelement.WebElement (session=\"1aff947d298ebbb5d40cb2934f907dbf\", element=\"3d578f4c-b64b-400d-8562-e1fef8c71294\")>,\n",
       " <selenium.webdriver.remote.webelement.WebElement (session=\"1aff947d298ebbb5d40cb2934f907dbf\", element=\"1b1c396b-da1c-44e3-af06-52dafb500636\")>,\n",
       " <selenium.webdriver.remote.webelement.WebElement (session=\"1aff947d298ebbb5d40cb2934f907dbf\", element=\"42ec633b-bd17-46f0-82f7-c31dd1b8a31a\")>,\n",
       " <selenium.webdriver.remote.webelement.WebElement (session=\"1aff947d298ebbb5d40cb2934f907dbf\", element=\"abef5840-d358-4589-b32e-233db0089466\")>,\n",
       " <selenium.webdriver.remote.webelement.WebElement (session=\"1aff947d298ebbb5d40cb2934f907dbf\", element=\"8638ac23-8d08-4fdc-9d74-d93311809750\")>]"
      ]
     },
     "execution_count": 11,
     "metadata": {},
     "output_type": "execute_result"
    }
   ],
   "source": [
    "#scraping the company tag\n",
    "companies_tags=driver.find_elements_by_xpath(\"//a[@class='subTitle ellipsis fleft']\")\n",
    "companies_tags"
   ]
  },
  {
   "cell_type": "code",
   "execution_count": 12,
   "metadata": {},
   "outputs": [
    {
     "data": {
      "text/plain": [
       "['Catalyst',\n",
       " 'PharmEasy',\n",
       " 'Bion',\n",
       " 'WeGo',\n",
       " 'BRAINHUNT CONSULTANTS PRIVATE LIMITED',\n",
       " 'Hitachi ABB Power Grids',\n",
       " 'Rivera Manpower Services',\n",
       " 'Near Pte. Ltd.',\n",
       " 'VIMEO TECHNOLOGIES PRIVATE LIMITED',\n",
       " 'Flipkart Internet Private Limited',\n",
       " 'Flipkart Internet Private Limited',\n",
       " 'ICF Consulting',\n",
       " 'Progton Technologies LLP',\n",
       " 'Myntra Designs Pvt. Ltd.',\n",
       " 'Roppen Transportation Services Private Limited',\n",
       " 'GAMA India',\n",
       " 'Novel Office',\n",
       " 'White Horse Manpower Consultancy Private Limited',\n",
       " 'Bion',\n",
       " 'Radial HR Solutions']"
      ]
     },
     "execution_count": 12,
     "metadata": {},
     "output_type": "execute_result"
    }
   ],
   "source": [
    "#appling the forloop\n",
    "company_names=[]\n",
    "for i in companies_tags:\n",
    "    company_names.append(i.text)\n",
    "company_names"
   ]
  },
  {
   "cell_type": "code",
   "execution_count": 14,
   "metadata": {},
   "outputs": [
    {
     "data": {
      "text/plain": [
       "[<selenium.webdriver.remote.webelement.WebElement (session=\"1aff947d298ebbb5d40cb2934f907dbf\", element=\"ba1015b3-0e3e-47e9-a26c-dcde7b50910c\")>,\n",
       " <selenium.webdriver.remote.webelement.WebElement (session=\"1aff947d298ebbb5d40cb2934f907dbf\", element=\"972aedcb-f606-467c-ae40-054ebd4bad7a\")>,\n",
       " <selenium.webdriver.remote.webelement.WebElement (session=\"1aff947d298ebbb5d40cb2934f907dbf\", element=\"4b22dc41-e9e8-4291-866b-c690c9f3a813\")>,\n",
       " <selenium.webdriver.remote.webelement.WebElement (session=\"1aff947d298ebbb5d40cb2934f907dbf\", element=\"f54fa858-f372-4c50-aefc-e0a3b6f350b6\")>,\n",
       " <selenium.webdriver.remote.webelement.WebElement (session=\"1aff947d298ebbb5d40cb2934f907dbf\", element=\"55766ca5-1adc-4d01-a60d-28f6e8b836e2\")>,\n",
       " <selenium.webdriver.remote.webelement.WebElement (session=\"1aff947d298ebbb5d40cb2934f907dbf\", element=\"0f9e01e3-9100-4d3d-b021-73ab705943cc\")>,\n",
       " <selenium.webdriver.remote.webelement.WebElement (session=\"1aff947d298ebbb5d40cb2934f907dbf\", element=\"1f714bb1-b591-4d59-82ec-0533e2c2b97f\")>,\n",
       " <selenium.webdriver.remote.webelement.WebElement (session=\"1aff947d298ebbb5d40cb2934f907dbf\", element=\"4744fc2d-8bc3-4808-a815-8a40bb8a8c05\")>,\n",
       " <selenium.webdriver.remote.webelement.WebElement (session=\"1aff947d298ebbb5d40cb2934f907dbf\", element=\"125b89f4-0358-4b7d-95cd-d9ba7b4e2457\")>,\n",
       " <selenium.webdriver.remote.webelement.WebElement (session=\"1aff947d298ebbb5d40cb2934f907dbf\", element=\"f0c5b18f-12d8-4eb9-9aec-5445e90cd0e1\")>,\n",
       " <selenium.webdriver.remote.webelement.WebElement (session=\"1aff947d298ebbb5d40cb2934f907dbf\", element=\"bd0b8605-49c6-42bf-a5c2-ee56e66ec521\")>,\n",
       " <selenium.webdriver.remote.webelement.WebElement (session=\"1aff947d298ebbb5d40cb2934f907dbf\", element=\"862aca2f-503d-4ba7-8347-6eaea0948cea\")>,\n",
       " <selenium.webdriver.remote.webelement.WebElement (session=\"1aff947d298ebbb5d40cb2934f907dbf\", element=\"f07317c3-b271-4ac8-9fd4-9450a85876e1\")>,\n",
       " <selenium.webdriver.remote.webelement.WebElement (session=\"1aff947d298ebbb5d40cb2934f907dbf\", element=\"5f509169-1311-435b-80e1-3ac764e9b1e4\")>,\n",
       " <selenium.webdriver.remote.webelement.WebElement (session=\"1aff947d298ebbb5d40cb2934f907dbf\", element=\"17318705-84e7-4f97-ac6f-a9c33e8729a0\")>,\n",
       " <selenium.webdriver.remote.webelement.WebElement (session=\"1aff947d298ebbb5d40cb2934f907dbf\", element=\"902ef3c4-1da6-492e-9057-8e00c3a30604\")>,\n",
       " <selenium.webdriver.remote.webelement.WebElement (session=\"1aff947d298ebbb5d40cb2934f907dbf\", element=\"b4f58d76-69c5-4d9c-95c2-b2b9dbac5974\")>,\n",
       " <selenium.webdriver.remote.webelement.WebElement (session=\"1aff947d298ebbb5d40cb2934f907dbf\", element=\"c9c5b305-568c-42ad-8ff5-a61868fb0a32\")>,\n",
       " <selenium.webdriver.remote.webelement.WebElement (session=\"1aff947d298ebbb5d40cb2934f907dbf\", element=\"37726433-046f-4654-b6a5-16baaef1a041\")>,\n",
       " <selenium.webdriver.remote.webelement.WebElement (session=\"1aff947d298ebbb5d40cb2934f907dbf\", element=\"6238029e-0aab-407a-bcef-ff71e2b4345f\")>]"
      ]
     },
     "execution_count": 14,
     "metadata": {},
     "output_type": "execute_result"
    }
   ],
   "source": [
    "#scraping the experince tag \n",
    "experience_tags=driver.find_elements_by_xpath(\"//li[@class='fleft grey-text br2 placeHolderLi experience']//span\")\n",
    "experience_tags"
   ]
  },
  {
   "cell_type": "code",
   "execution_count": 15,
   "metadata": {},
   "outputs": [
    {
     "data": {
      "text/plain": [
       "['2-6 Yrs',\n",
       " '1-3 Yrs',\n",
       " '1-3 Yrs',\n",
       " '2-4 Yrs',\n",
       " '2-5 Yrs',\n",
       " '2-6 Yrs',\n",
       " '1-5 Yrs',\n",
       " '2-5 Yrs',\n",
       " '1-5 Yrs',\n",
       " '1-4 Yrs',\n",
       " '1-4 Yrs',\n",
       " '1-2 Yrs',\n",
       " '0-2 Yrs',\n",
       " '1-4 Yrs',\n",
       " '1-3 Yrs',\n",
       " '2-4 Yrs',\n",
       " '0-3 Yrs',\n",
       " '2-4 Yrs',\n",
       " '2-7 Yrs',\n",
       " '2-5 Yrs']"
      ]
     },
     "execution_count": 15,
     "metadata": {},
     "output_type": "execute_result"
    }
   ],
   "source": [
    "#appling the forloop\n",
    "experience_list=[]\n",
    "for i in experience_tags:\n",
    "    experience_list.append(i.text)\n",
    "experience_list"
   ]
  },
  {
   "cell_type": "code",
   "execution_count": 16,
   "metadata": {},
   "outputs": [
    {
     "data": {
      "text/plain": [
       "[<selenium.webdriver.remote.webelement.WebElement (session=\"1aff947d298ebbb5d40cb2934f907dbf\", element=\"7436364a-489a-46b1-8cd8-4fe3f9fddc8a\")>,\n",
       " <selenium.webdriver.remote.webelement.WebElement (session=\"1aff947d298ebbb5d40cb2934f907dbf\", element=\"e69d3e49-8523-4a52-90cc-332a6afc1704\")>,\n",
       " <selenium.webdriver.remote.webelement.WebElement (session=\"1aff947d298ebbb5d40cb2934f907dbf\", element=\"905c9df3-4d6a-4259-a63b-fd05e0ed0ae7\")>,\n",
       " <selenium.webdriver.remote.webelement.WebElement (session=\"1aff947d298ebbb5d40cb2934f907dbf\", element=\"bc00196e-497d-4e00-bf62-a93a1a530b8f\")>,\n",
       " <selenium.webdriver.remote.webelement.WebElement (session=\"1aff947d298ebbb5d40cb2934f907dbf\", element=\"10adf390-03dd-4e0a-b492-2f46f6c8a60c\")>,\n",
       " <selenium.webdriver.remote.webelement.WebElement (session=\"1aff947d298ebbb5d40cb2934f907dbf\", element=\"8aad214f-9b99-4f90-9664-755a839ec345\")>,\n",
       " <selenium.webdriver.remote.webelement.WebElement (session=\"1aff947d298ebbb5d40cb2934f907dbf\", element=\"1708755a-a11d-4d77-b72f-a51275a2d20f\")>,\n",
       " <selenium.webdriver.remote.webelement.WebElement (session=\"1aff947d298ebbb5d40cb2934f907dbf\", element=\"abc778e0-71ed-4353-9a94-d305e3b84745\")>,\n",
       " <selenium.webdriver.remote.webelement.WebElement (session=\"1aff947d298ebbb5d40cb2934f907dbf\", element=\"3ef408b5-c86b-4b7d-be65-b4c3d6de1a0a\")>,\n",
       " <selenium.webdriver.remote.webelement.WebElement (session=\"1aff947d298ebbb5d40cb2934f907dbf\", element=\"7a0659f4-a605-4be2-b1f1-c83d9f2608f4\")>,\n",
       " <selenium.webdriver.remote.webelement.WebElement (session=\"1aff947d298ebbb5d40cb2934f907dbf\", element=\"abc70786-a86e-4133-9e60-769205c24293\")>,\n",
       " <selenium.webdriver.remote.webelement.WebElement (session=\"1aff947d298ebbb5d40cb2934f907dbf\", element=\"a6f7a8d5-9418-4602-9f00-8801e28ff7a6\")>,\n",
       " <selenium.webdriver.remote.webelement.WebElement (session=\"1aff947d298ebbb5d40cb2934f907dbf\", element=\"d45edf41-6ed2-4d66-a8cf-64d664958119\")>,\n",
       " <selenium.webdriver.remote.webelement.WebElement (session=\"1aff947d298ebbb5d40cb2934f907dbf\", element=\"d80916e4-d7ff-4917-b86b-827ae5bc17ad\")>,\n",
       " <selenium.webdriver.remote.webelement.WebElement (session=\"1aff947d298ebbb5d40cb2934f907dbf\", element=\"5c1af5cd-98a5-48cc-bd4f-dce5ddc0f96a\")>,\n",
       " <selenium.webdriver.remote.webelement.WebElement (session=\"1aff947d298ebbb5d40cb2934f907dbf\", element=\"c827312c-fd8b-4007-86fa-47543a313290\")>,\n",
       " <selenium.webdriver.remote.webelement.WebElement (session=\"1aff947d298ebbb5d40cb2934f907dbf\", element=\"c45f8009-928b-4717-9267-74b7458cc836\")>,\n",
       " <selenium.webdriver.remote.webelement.WebElement (session=\"1aff947d298ebbb5d40cb2934f907dbf\", element=\"bf07237e-15e1-49f7-b802-c3c41803cbb4\")>,\n",
       " <selenium.webdriver.remote.webelement.WebElement (session=\"1aff947d298ebbb5d40cb2934f907dbf\", element=\"41f1c1e1-ea86-4308-9d06-c76d2eaa3cdc\")>,\n",
       " <selenium.webdriver.remote.webelement.WebElement (session=\"1aff947d298ebbb5d40cb2934f907dbf\", element=\"f265f30f-4b2b-4ada-9c6e-e4bb30ed5447\")>]"
      ]
     },
     "execution_count": 16,
     "metadata": {},
     "output_type": "execute_result"
    }
   ],
   "source": [
    "#scraping the location ta\n",
    "location_tags=driver.find_elements_by_xpath(\"//li[@class='fleft grey-text br2 placeHolderLi location']//span\")\n",
    "location_tags"
   ]
  },
  {
   "cell_type": "code",
   "execution_count": 19,
   "metadata": {},
   "outputs": [
    {
     "data": {
      "text/plain": [
       "['Bangalore/Bengaluru',\n",
       " 'Bangalore/Bengaluru',\n",
       " 'Bangalore/Bengaluru',\n",
       " 'Bangalore/Bengaluru',\n",
       " 'Bangalore/Bengaluru',\n",
       " 'Bangalore/Bengaluru',\n",
       " 'Bangalore/Bengaluru, Delhi / NCR, Mumbai (All Areas)',\n",
       " 'Bangalore/Bengaluru',\n",
       " 'Bangalore/Bengaluru',\n",
       " 'Bangalore/Bengaluru(Bellandur)',\n",
       " 'Bangalore/Bengaluru(Bellandur)',\n",
       " 'Bangalore/Bengaluru',\n",
       " 'Bangalore/Bengaluru',\n",
       " 'Bangalore/Bengaluru',\n",
       " 'Bangalore/Bengaluru',\n",
       " 'Bangalore/Bengaluru',\n",
       " 'Bangalore/Bengaluru',\n",
       " 'Bangalore/Bengaluru',\n",
       " 'Bangalore/Bengaluru',\n",
       " 'Bangalore/Bengaluru']"
      ]
     },
     "execution_count": 19,
     "metadata": {},
     "output_type": "execute_result"
    }
   ],
   "source": [
    "#applying the forloop \n",
    "location_list=[]\n",
    "for i in location_tags:\n",
    "    location_list.append(i.text)\n",
    "location_list"
   ]
  },
  {
   "cell_type": "code",
   "execution_count": 20,
   "metadata": {},
   "outputs": [],
   "source": [
    "#appling the dataframe\n",
    "jobs=pd.DataFrame({})\n",
    "jobs['title']=job_titles\n",
    "jobs['company']=company_names\n",
    "jobs['experience_required']=experience_list\n",
    "jobs['location']=location_list\n"
   ]
  },
  {
   "cell_type": "code",
   "execution_count": 22,
   "metadata": {},
   "outputs": [
    {
     "data": {
      "text/html": [
       "<div>\n",
       "<style scoped>\n",
       "    .dataframe tbody tr th:only-of-type {\n",
       "        vertical-align: middle;\n",
       "    }\n",
       "\n",
       "    .dataframe tbody tr th {\n",
       "        vertical-align: top;\n",
       "    }\n",
       "\n",
       "    .dataframe thead th {\n",
       "        text-align: right;\n",
       "    }\n",
       "</style>\n",
       "<table border=\"1\" class=\"dataframe\">\n",
       "  <thead>\n",
       "    <tr style=\"text-align: right;\">\n",
       "      <th></th>\n",
       "      <th>title</th>\n",
       "      <th>company</th>\n",
       "      <th>experience_required</th>\n",
       "      <th>location</th>\n",
       "    </tr>\n",
       "  </thead>\n",
       "  <tbody>\n",
       "    <tr>\n",
       "      <th>0</th>\n",
       "      <td>Data Analyst - Quant &amp; Data Mining</td>\n",
       "      <td>Catalyst</td>\n",
       "      <td>2-6 Yrs</td>\n",
       "      <td>Bangalore/Bengaluru</td>\n",
       "    </tr>\n",
       "    <tr>\n",
       "      <th>1</th>\n",
       "      <td>Data Analyst</td>\n",
       "      <td>PharmEasy</td>\n",
       "      <td>1-3 Yrs</td>\n",
       "      <td>Bangalore/Bengaluru</td>\n",
       "    </tr>\n",
       "    <tr>\n",
       "      <th>2</th>\n",
       "      <td>Data Analyst</td>\n",
       "      <td>Bion</td>\n",
       "      <td>1-3 Yrs</td>\n",
       "      <td>Bangalore/Bengaluru</td>\n",
       "    </tr>\n",
       "    <tr>\n",
       "      <th>3</th>\n",
       "      <td>Marketing Technology Data Analyst</td>\n",
       "      <td>WeGo</td>\n",
       "      <td>2-4 Yrs</td>\n",
       "      <td>Bangalore/Bengaluru</td>\n",
       "    </tr>\n",
       "    <tr>\n",
       "      <th>4</th>\n",
       "      <td>Product Data Analyst ( Leading MNC )</td>\n",
       "      <td>BRAINHUNT CONSULTANTS PRIVATE LIMITED</td>\n",
       "      <td>2-5 Yrs</td>\n",
       "      <td>Bangalore/Bengaluru</td>\n",
       "    </tr>\n",
       "    <tr>\n",
       "      <th>5</th>\n",
       "      <td>Process Data Analyst</td>\n",
       "      <td>Hitachi ABB Power Grids</td>\n",
       "      <td>2-6 Yrs</td>\n",
       "      <td>Bangalore/Bengaluru</td>\n",
       "    </tr>\n",
       "    <tr>\n",
       "      <th>6</th>\n",
       "      <td>Hiring Data Analyst For Leading E commerce GIANT</td>\n",
       "      <td>Rivera Manpower Services</td>\n",
       "      <td>1-5 Yrs</td>\n",
       "      <td>Bangalore/Bengaluru, Delhi / NCR, Mumbai (All ...</td>\n",
       "    </tr>\n",
       "    <tr>\n",
       "      <th>7</th>\n",
       "      <td>Data Analyst</td>\n",
       "      <td>Near Pte. Ltd.</td>\n",
       "      <td>2-5 Yrs</td>\n",
       "      <td>Bangalore/Bengaluru</td>\n",
       "    </tr>\n",
       "    <tr>\n",
       "      <th>8</th>\n",
       "      <td>Data Analyst II - Customer Support</td>\n",
       "      <td>VIMEO TECHNOLOGIES PRIVATE LIMITED</td>\n",
       "      <td>1-5 Yrs</td>\n",
       "      <td>Bangalore/Bengaluru</td>\n",
       "    </tr>\n",
       "    <tr>\n",
       "      <th>9</th>\n",
       "      <td>Data Analyst (Contractual)</td>\n",
       "      <td>Flipkart Internet Private Limited</td>\n",
       "      <td>1-4 Yrs</td>\n",
       "      <td>Bangalore/Bengaluru(Bellandur)</td>\n",
       "    </tr>\n",
       "  </tbody>\n",
       "</table>\n",
       "</div>"
      ],
      "text/plain": [
       "                                              title  \\\n",
       "0                Data Analyst - Quant & Data Mining   \n",
       "1                                      Data Analyst   \n",
       "2                                      Data Analyst   \n",
       "3                 Marketing Technology Data Analyst   \n",
       "4              Product Data Analyst ( Leading MNC )   \n",
       "5                              Process Data Analyst   \n",
       "6  Hiring Data Analyst For Leading E commerce GIANT   \n",
       "7                                      Data Analyst   \n",
       "8                Data Analyst II - Customer Support   \n",
       "9                        Data Analyst (Contractual)   \n",
       "\n",
       "                                 company experience_required  \\\n",
       "0                               Catalyst             2-6 Yrs   \n",
       "1                              PharmEasy             1-3 Yrs   \n",
       "2                                   Bion             1-3 Yrs   \n",
       "3                                   WeGo             2-4 Yrs   \n",
       "4  BRAINHUNT CONSULTANTS PRIVATE LIMITED             2-5 Yrs   \n",
       "5                Hitachi ABB Power Grids             2-6 Yrs   \n",
       "6               Rivera Manpower Services             1-5 Yrs   \n",
       "7                         Near Pte. Ltd.             2-5 Yrs   \n",
       "8     VIMEO TECHNOLOGIES PRIVATE LIMITED             1-5 Yrs   \n",
       "9      Flipkart Internet Private Limited             1-4 Yrs   \n",
       "\n",
       "                                            location  \n",
       "0                                Bangalore/Bengaluru  \n",
       "1                                Bangalore/Bengaluru  \n",
       "2                                Bangalore/Bengaluru  \n",
       "3                                Bangalore/Bengaluru  \n",
       "4                                Bangalore/Bengaluru  \n",
       "5                                Bangalore/Bengaluru  \n",
       "6  Bangalore/Bengaluru, Delhi / NCR, Mumbai (All ...  \n",
       "7                                Bangalore/Bengaluru  \n",
       "8                                Bangalore/Bengaluru  \n",
       "9                     Bangalore/Bengaluru(Bellandur)  "
      ]
     },
     "execution_count": 22,
     "metadata": {},
     "output_type": "execute_result"
    }
   ],
   "source": [
    "#the data set\n",
    "jobs.head(10)"
   ]
  },
  {
   "cell_type": "code",
   "execution_count": null,
   "metadata": {},
   "outputs": [],
   "source": []
  },
  {
   "cell_type": "markdown",
   "metadata": {},
   "source": [
    "# Write a python program to scrape data for “Data Scientist” Job position in “Bangalore” location. You have to scrape the job-title, job-location,company_name, full job-description. You have to scrape first 10 jobs data."
   ]
  },
  {
   "cell_type": "code",
   "execution_count": 1,
   "metadata": {},
   "outputs": [],
   "source": [
    "#importing the libraries\n",
    "import selenium\n",
    "import pandas as pd\n",
    "from selenium import webdriver\n",
    "import time\n",
    "from selenium.common.exceptions import NoSuchElementException"
   ]
  },
  {
   "cell_type": "code",
   "execution_count": 2,
   "metadata": {},
   "outputs": [],
   "source": [
    "#importing the driver\n",
    "driver =webdriver.Chrome(r\"C:\\Users\\pavan\\Downloads\\chromedriver_win32\\chromedriver.exe\")"
   ]
  },
  {
   "cell_type": "code",
   "execution_count": 3,
   "metadata": {},
   "outputs": [],
   "source": [
    "#importing the url\n",
    "url = 'https://www.naukri.com/'\n",
    "driver.get(url)"
   ]
  },
  {
   "cell_type": "code",
   "execution_count": 4,
   "metadata": {},
   "outputs": [
    {
     "data": {
      "text/plain": [
       "<selenium.webdriver.remote.webelement.WebElement (session=\"b908adf186504962e5321ec4bcaa5db8\", element=\"89014f43-45bf-4ce3-94dc-eefde02bb7d7\")>"
      ]
     },
     "execution_count": 4,
     "metadata": {},
     "output_type": "execute_result"
    }
   ],
   "source": [
    "#importing the keyword\n",
    "search_job = driver.find_element_by_id('qsb-keyword-sugg')\n",
    "search_job"
   ]
  },
  {
   "cell_type": "code",
   "execution_count": 5,
   "metadata": {},
   "outputs": [],
   "source": [
    "search_job.send_keys('Data Scientist')"
   ]
  },
  {
   "cell_type": "code",
   "execution_count": 6,
   "metadata": {},
   "outputs": [],
   "source": [
    "#importing the location\n",
    "search_loc = driver.find_element_by_id('qsb-location-sugg')\n",
    "search_loc.send_keys('Bangalore')"
   ]
  },
  {
   "cell_type": "code",
   "execution_count": 7,
   "metadata": {},
   "outputs": [],
   "source": [
    "#clicking the search button\n",
    "search_btn = driver.find_element_by_xpath(\"//button[@class='btn']\")\n",
    "search_btn.click()"
   ]
  },
  {
   "cell_type": "code",
   "execution_count": 8,
   "metadata": {},
   "outputs": [
    {
     "data": {
      "text/plain": [
       "[<selenium.webdriver.remote.webelement.WebElement (session=\"b908adf186504962e5321ec4bcaa5db8\", element=\"87d1dd5c-184a-4516-b168-1c96f88744b4\")>,\n",
       " <selenium.webdriver.remote.webelement.WebElement (session=\"b908adf186504962e5321ec4bcaa5db8\", element=\"10f32381-076d-464a-b1b4-ea119ede4e20\")>,\n",
       " <selenium.webdriver.remote.webelement.WebElement (session=\"b908adf186504962e5321ec4bcaa5db8\", element=\"6507237b-b78a-41e5-8330-4c7022f431ff\")>,\n",
       " <selenium.webdriver.remote.webelement.WebElement (session=\"b908adf186504962e5321ec4bcaa5db8\", element=\"47e34ca8-0021-4adb-8a03-dad77bd81c2c\")>,\n",
       " <selenium.webdriver.remote.webelement.WebElement (session=\"b908adf186504962e5321ec4bcaa5db8\", element=\"368eef36-4ec9-4fb0-a75d-acf851d8ae92\")>,\n",
       " <selenium.webdriver.remote.webelement.WebElement (session=\"b908adf186504962e5321ec4bcaa5db8\", element=\"79c5223f-0cff-47ad-a106-25179fc4dd8b\")>,\n",
       " <selenium.webdriver.remote.webelement.WebElement (session=\"b908adf186504962e5321ec4bcaa5db8\", element=\"bbc0629e-816c-43c0-b232-b440d3bb18e7\")>,\n",
       " <selenium.webdriver.remote.webelement.WebElement (session=\"b908adf186504962e5321ec4bcaa5db8\", element=\"3b4f0059-d5b2-400f-8347-e5bbb73c6e86\")>,\n",
       " <selenium.webdriver.remote.webelement.WebElement (session=\"b908adf186504962e5321ec4bcaa5db8\", element=\"1383b504-6910-4bd8-97b3-004ccbfa3174\")>,\n",
       " <selenium.webdriver.remote.webelement.WebElement (session=\"b908adf186504962e5321ec4bcaa5db8\", element=\"9750a34e-5a8c-4912-b5e7-6c523de50dcc\")>,\n",
       " <selenium.webdriver.remote.webelement.WebElement (session=\"b908adf186504962e5321ec4bcaa5db8\", element=\"7119ca42-bc10-4390-930f-b86503813d73\")>,\n",
       " <selenium.webdriver.remote.webelement.WebElement (session=\"b908adf186504962e5321ec4bcaa5db8\", element=\"f99d6779-43fc-4fcc-9805-0f4a09a5c6e6\")>,\n",
       " <selenium.webdriver.remote.webelement.WebElement (session=\"b908adf186504962e5321ec4bcaa5db8\", element=\"a6846359-0392-499a-b245-ebe8bfc31a4a\")>,\n",
       " <selenium.webdriver.remote.webelement.WebElement (session=\"b908adf186504962e5321ec4bcaa5db8\", element=\"0416db65-aa35-488c-a9d1-7f3c847ed214\")>,\n",
       " <selenium.webdriver.remote.webelement.WebElement (session=\"b908adf186504962e5321ec4bcaa5db8\", element=\"78f2333c-eb73-49ce-be23-541dc438f79c\")>,\n",
       " <selenium.webdriver.remote.webelement.WebElement (session=\"b908adf186504962e5321ec4bcaa5db8\", element=\"d29ffb63-911e-4fe6-bfae-ae86a6fa5b13\")>,\n",
       " <selenium.webdriver.remote.webelement.WebElement (session=\"b908adf186504962e5321ec4bcaa5db8\", element=\"cc627d8b-a9b8-43c2-876a-c381cba5d35f\")>,\n",
       " <selenium.webdriver.remote.webelement.WebElement (session=\"b908adf186504962e5321ec4bcaa5db8\", element=\"d3625e72-02b7-4d68-aa4a-da21e90302f4\")>,\n",
       " <selenium.webdriver.remote.webelement.WebElement (session=\"b908adf186504962e5321ec4bcaa5db8\", element=\"718fa759-550c-46c0-88ac-33fbf4a39372\")>,\n",
       " <selenium.webdriver.remote.webelement.WebElement (session=\"b908adf186504962e5321ec4bcaa5db8\", element=\"cece6fcc-a39e-4d08-a95d-4ff254ab9211\")>]"
      ]
     },
     "execution_count": 8,
     "metadata": {},
     "output_type": "execute_result"
    }
   ],
   "source": [
    "#importing the company tag\n",
    "companies_tags=driver.find_elements_by_xpath(\"//a[@class='subTitle ellipsis fleft']\")\n",
    "companies_tags"
   ]
  },
  {
   "cell_type": "code",
   "execution_count": 9,
   "metadata": {},
   "outputs": [
    {
     "data": {
      "text/plain": [
       "['Inflexion Analytix Private Limited',\n",
       " 'IBM India Pvt. Limited',\n",
       " 'Superior Group',\n",
       " 'FabHotel Aay Kay Model Town',\n",
       " 'Baker Hughes Incorporated',\n",
       " 'Baker Hughes - The Network',\n",
       " 'ORMAE (Operations Research Machine learning & Analytics Experts LLP)',\n",
       " 'ALTEN CALSOFT LABS (INDIA) PRIVATE LIMITED',\n",
       " 'Multi Recruit',\n",
       " 'FabHotel Aay Kay Model Town']"
      ]
     },
     "execution_count": 9,
     "metadata": {},
     "output_type": "execute_result"
    }
   ],
   "source": [
    "#applying the forloop\n",
    "company_names=[]\n",
    "for i in companies_tags[:10]:\n",
    "    company_names.append(i.text)\n",
    "company_names"
   ]
  },
  {
   "cell_type": "code",
   "execution_count": 10,
   "metadata": {},
   "outputs": [
    {
     "data": {
      "text/plain": [
       "[<selenium.webdriver.remote.webelement.WebElement (session=\"b908adf186504962e5321ec4bcaa5db8\", element=\"042e694b-57ba-4083-9693-508a6234395d\")>,\n",
       " <selenium.webdriver.remote.webelement.WebElement (session=\"b908adf186504962e5321ec4bcaa5db8\", element=\"d3d772ac-bc4f-4ecd-9da4-4cf1afb2cd29\")>,\n",
       " <selenium.webdriver.remote.webelement.WebElement (session=\"b908adf186504962e5321ec4bcaa5db8\", element=\"88a434fb-a292-4fa5-9ad1-9a45b135cf0a\")>,\n",
       " <selenium.webdriver.remote.webelement.WebElement (session=\"b908adf186504962e5321ec4bcaa5db8\", element=\"bdd62af6-bbc1-4c8f-9ae9-6899bb25c0f4\")>,\n",
       " <selenium.webdriver.remote.webelement.WebElement (session=\"b908adf186504962e5321ec4bcaa5db8\", element=\"ddfff009-bc29-441f-a97f-24075f83af74\")>,\n",
       " <selenium.webdriver.remote.webelement.WebElement (session=\"b908adf186504962e5321ec4bcaa5db8\", element=\"bf97349d-9ec8-4f4b-b495-4ccc4e0b7606\")>,\n",
       " <selenium.webdriver.remote.webelement.WebElement (session=\"b908adf186504962e5321ec4bcaa5db8\", element=\"aa283fda-5412-49b8-ae96-53af1d37e7aa\")>,\n",
       " <selenium.webdriver.remote.webelement.WebElement (session=\"b908adf186504962e5321ec4bcaa5db8\", element=\"42bb06ff-7686-4f18-8625-02e1d6cf98fc\")>,\n",
       " <selenium.webdriver.remote.webelement.WebElement (session=\"b908adf186504962e5321ec4bcaa5db8\", element=\"01b01067-fb2a-4ef4-9dbf-b63ead33f4aa\")>,\n",
       " <selenium.webdriver.remote.webelement.WebElement (session=\"b908adf186504962e5321ec4bcaa5db8\", element=\"30afb044-9913-47a8-82fa-0ccd2ceb87bb\")>,\n",
       " <selenium.webdriver.remote.webelement.WebElement (session=\"b908adf186504962e5321ec4bcaa5db8\", element=\"2743db28-80fa-4da9-9413-7a26cb2c8414\")>,\n",
       " <selenium.webdriver.remote.webelement.WebElement (session=\"b908adf186504962e5321ec4bcaa5db8\", element=\"3f259eaf-4c4b-48b2-b9c6-ee41f6c5285e\")>,\n",
       " <selenium.webdriver.remote.webelement.WebElement (session=\"b908adf186504962e5321ec4bcaa5db8\", element=\"88d86f13-4b95-435f-a858-51213ca91960\")>,\n",
       " <selenium.webdriver.remote.webelement.WebElement (session=\"b908adf186504962e5321ec4bcaa5db8\", element=\"f5bb2b76-e5fc-470c-a619-8688cb1245ea\")>,\n",
       " <selenium.webdriver.remote.webelement.WebElement (session=\"b908adf186504962e5321ec4bcaa5db8\", element=\"40fef818-170b-4234-aa51-dcca8f0f5f59\")>,\n",
       " <selenium.webdriver.remote.webelement.WebElement (session=\"b908adf186504962e5321ec4bcaa5db8\", element=\"3c52472c-1a33-416f-a5ad-6de76493c773\")>,\n",
       " <selenium.webdriver.remote.webelement.WebElement (session=\"b908adf186504962e5321ec4bcaa5db8\", element=\"2088f59e-8774-4cf3-acd9-312cec797207\")>,\n",
       " <selenium.webdriver.remote.webelement.WebElement (session=\"b908adf186504962e5321ec4bcaa5db8\", element=\"8d1915e9-8d1d-4e7b-88a7-b1a6fab6dc28\")>,\n",
       " <selenium.webdriver.remote.webelement.WebElement (session=\"b908adf186504962e5321ec4bcaa5db8\", element=\"859c0958-3e01-4b5f-ad36-71e6bbb7f5f6\")>,\n",
       " <selenium.webdriver.remote.webelement.WebElement (session=\"b908adf186504962e5321ec4bcaa5db8\", element=\"0dd18bc1-a183-44ae-9c66-8ef86cc57bd7\")>]"
      ]
     },
     "execution_count": 10,
     "metadata": {},
     "output_type": "execute_result"
    }
   ],
   "source": [
    "# importing the location tag\n",
    "location_tags=driver.find_elements_by_xpath(\"//li[@class='fleft grey-text br2 placeHolderLi location']//span\")\n",
    "location_tags"
   ]
  },
  {
   "cell_type": "code",
   "execution_count": 11,
   "metadata": {},
   "outputs": [
    {
     "data": {
      "text/plain": [
       "['Hyderabad/Secunderabad, Chennai, Bangalore/Bengaluru',\n",
       " 'Bangalore/Bengaluru',\n",
       " 'Bangalore/Bengaluru',\n",
       " 'Bangalore/Bengaluru',\n",
       " 'Bangalore/Bengaluru',\n",
       " 'Bangalore/Bengaluru',\n",
       " 'Bangalore/Bengaluru',\n",
       " 'Bangalore/Bengaluru(Dairy Circle)',\n",
       " 'Bangalore/Bengaluru',\n",
       " 'Bangalore/Bengaluru']"
      ]
     },
     "execution_count": 11,
     "metadata": {},
     "output_type": "execute_result"
    }
   ],
   "source": [
    "#applying the forloop\n",
    "location_list=[]\n",
    "for i in location_tags[:10]:\n",
    "    location_list.append(i.text)\n",
    "location_list"
   ]
  },
  {
   "cell_type": "code",
   "execution_count": null,
   "metadata": {},
   "outputs": [],
   "source": []
  },
  {
   "cell_type": "code",
   "execution_count": 12,
   "metadata": {},
   "outputs": [],
   "source": [
    "urls=[]\n",
    "for i in driver.find_elements_by_xpath(\"//a[@class='title fw500 ellipsis']\"):\n",
    "    urls.append(i.get_attribute(\"href\"))"
   ]
  },
  {
   "cell_type": "code",
   "execution_count": 13,
   "metadata": {},
   "outputs": [
    {
     "data": {
      "text/plain": [
       "20"
      ]
     },
     "execution_count": 13,
     "metadata": {},
     "output_type": "execute_result"
    }
   ],
   "source": [
    "len(urls)"
   ]
  },
  {
   "cell_type": "code",
   "execution_count": 14,
   "metadata": {},
   "outputs": [
    {
     "data": {
      "text/plain": [
       "['https://www.naukri.com/job-listings-data-scientist-data-analyst-business-analyst-inflexion-analytix-private-limited-hyderabad-secunderabad-chennai-bangalore-bengaluru-0-to-3-years-020721003625?src=jobsearchDesk&sid=16257180444125856&xp=1&px=1',\n",
       " 'https://www.naukri.com/job-listings-data-scientist-advanced-analytics-ibm-india-pvt-limited-bangalore-bengaluru-5-to-10-years-070721908032?src=jobsearchDesk&sid=16257180444125856&xp=2&px=1',\n",
       " 'https://www.naukri.com/job-listings-senior-data-scientist-superior-group-bangalore-bengaluru-4-to-9-years-070721500778?src=jobsearchDesk&sid=16257180444125856&xp=3&px=1',\n",
       " 'https://www.naukri.com/job-listings-sr-data-scientist-fabhotel-aay-kay-model-town-bangalore-bengaluru-2-to-5-years-070721500535?src=jobsearchDesk&sid=16257180444125856&xp=4&px=1',\n",
       " 'https://www.naukri.com/job-listings-sr-data-scientist-baker-hughes-incorporated-bangalore-bengaluru-3-to-7-years-060721500843?src=jobsearchDesk&sid=16257180444125856&xp=5&px=1',\n",
       " 'https://www.naukri.com/job-listings-sr-data-scientist-baker-hughes-the-network-bangalore-bengaluru-4-to-8-years-060721500839?src=jobsearchDesk&sid=16257180444125856&xp=6&px=1',\n",
       " 'https://www.naukri.com/job-listings-senior-data-scientist-ormae-operations-research-machine-learning-analytics-experts-llp-bangalore-bengaluru-5-to-10-years-070721500357?src=jobsearchDesk&sid=16257180444125856&xp=7&px=1',\n",
       " 'https://www.naukri.com/job-listings-lead-data-scientist-alten-calsoft-labs-india-private-limited-bangalore-bengaluru-10-to-13-years-040621007518?src=jobsearchDesk&sid=16257180444125856&xp=8&px=1',\n",
       " 'https://www.naukri.com/job-listings-sr-data-scientist-multi-recruit-bangalore-bengaluru-5-to-7-years-060721004826?src=jobsearchDesk&sid=16257180444125856&xp=9&px=1',\n",
       " 'https://www.naukri.com/job-listings-data-scientist-fabhotel-aay-kay-model-town-bangalore-bengaluru-1-to-4-years-060721500918?src=jobsearchDesk&sid=16257180444125856&xp=10&px=1',\n",
       " 'https://www.naukri.com/job-listings-data-scientist-kredx-bangalore-bengaluru-3-to-5-years-060721902376?src=jobsearchDesk&sid=16257180444125856&xp=11&px=1',\n",
       " 'https://www.naukri.com/job-listings-data-scientist-scaleorg-chennai-bangalore-bengaluru-3-to-8-years-060721500049?src=jobsearchDesk&sid=16257180444125856&xp=12&px=1',\n",
       " 'https://www.naukri.com/job-listings-data-scientist-superior-group-bangalore-bengaluru-3-to-8-years-070721500780?src=jobsearchDesk&sid=16257180444125856&xp=13&px=1',\n",
       " 'https://www.naukri.com/job-listings-principal-data-scientist-superior-group-bangalore-bengaluru-3-to-10-years-070721500779?src=jobsearchDesk&sid=16257180444125856&xp=14&px=1',\n",
       " 'https://www.naukri.com/job-listings-data-science-data-scientist-stalwart-management-consulting-bangalore-bengaluru-5-to-10-years-070721500743?src=jobsearchDesk&sid=16257180444125856&xp=15&px=1',\n",
       " 'https://www.naukri.com/job-listings-data-scientist-oracle-india-pvt-ltd-noida-bangalore-bengaluru-5-to-9-years-010621004567?src=jobsearchDesk&sid=16257180444125856&xp=16&px=1',\n",
       " 'https://www.naukri.com/job-listings-lead-data-scientist-ii-female-candidates-only-wow-jobs-wow-softech-pvt-ltd-bangalore-bengaluru-8-to-13-years-010721007729?src=jobsearchDesk&sid=16257180444125856&xp=17&px=1',\n",
       " 'https://www.naukri.com/job-listings-senior-data-scientist-roppen-transportation-services-private-limited-bangalore-bengaluru-5-to-8-years-010721000825?src=jobsearchDesk&sid=16257180444125856&xp=18&px=1',\n",
       " 'https://www.naukri.com/job-listings-senior-data-scientist-24-7-customer-private-ltd-bangalore-bengaluru-5-to-10-years-280621501037?src=jobsearchDesk&sid=16257180444125856&xp=19&px=1',\n",
       " 'https://www.naukri.com/job-listings-senior-data-scientist-fabhotel-aay-kay-model-town-bangalore-bengaluru-6-to-7-years-020721501495?src=jobsearchDesk&sid=16257180444125856&xp=20&px=1']"
      ]
     },
     "execution_count": 14,
     "metadata": {},
     "output_type": "execute_result"
    }
   ],
   "source": [
    "urls"
   ]
  },
  {
   "cell_type": "code",
   "execution_count": 15,
   "metadata": {},
   "outputs": [],
   "source": [
    "job_title=[]\n",
    "job_description=[]"
   ]
  },
  {
   "cell_type": "code",
   "execution_count": 16,
   "metadata": {},
   "outputs": [],
   "source": [
    "#applying the forloop\n",
    "for i in urls[:10]:\n",
    "    driver.get(i)\n",
    "    time.sleep(3)\n",
    "    try:\n",
    "        job= driver.find_element_by_xpath(\"//h1[@class='jd-header-title']\")\n",
    "        job_title.append(job.text)\n",
    "    except NoSuchElementException:\n",
    "        job_title.append('-')\n",
    "        \n",
    "    try:\n",
    "        job_desc= driver.find_element_by_xpath(\"//section[@class='job-desc']\")\n",
    "        job_description.append(job_desc.text)\n",
    "    except:\n",
    "        job_description.append('-')"
   ]
  },
  {
   "cell_type": "code",
   "execution_count": 17,
   "metadata": {},
   "outputs": [
    {
     "name": "stdout",
     "output_type": "stream",
     "text": [
      "10\n",
      "10\n"
     ]
    }
   ],
   "source": [
    "print(len(job_title))\n",
    "print(len(job_description))"
   ]
  },
  {
   "cell_type": "code",
   "execution_count": 18,
   "metadata": {},
   "outputs": [
    {
     "data": {
      "text/plain": [
       "[\"Job description\\nJob description\\n\\nJob Role: Data Scientist/Data Analyst /Business Analyst\\n\\nLocation: Chennai/Bangalore/Hyderabad\\n\\nGreetings from CAIA - Center for Artificial Intelligence & Advanced Analytics\\n43% of companies experienced a high deficit of skilled resources with Advanced Analytical skills and AI implementing capabilities in the year 2020. CAIA gives you a great opportunity to enter the world of future technologies and Innovations- Data Science, Analytics, AI, Data Visualization, and Cloud Computing.\\n\\nWhile 2020 was a year like no other, we are living in an interesting times where data is reshaping the world, and businesses are rapidly adopting technology to gain an edge over others. Hence, there's a substantial increase in demand for technology professionals who can implement systems in data science, machine learning, and AI in Tier 1 and Tier 2 organizations working closely with us.\\n\\nTo help you build a sustainable career we would like you to utilize data, software and Analytical approaches in Data Science and AI to upskill and get recruited into an organization appreciating your skilling journey.\\nApplications invited from all Freshers and experienced candidates (0-3 yrs) aspiring to make a career in Artificial Intelligence and Advanced Analytics and Data Science.\\nIf you wish to make a shift in your career or undergo a career transition, upskilling is essential since it allows you to learn more about the domain and acquire the required skills.\\n\\nCall to schedule interview Monday -Saturday from 10:00 am to 7 Pm\\n\\nKoodesh B- +91 73395 11107\\nManigandan B - +91 93444 57360\\n\\nEmail :\\n\\ncareerguidance.koodes@centerforaia.com\\nmanigandan@centerforaia.com\\n\\nWhat is needed from you?\\nFreshers who wish to start their career in Analytics and AI and professionals who wish to\\nupskill or change their domain to analytics and emerging technologies are free to apply.\\nEducational background in any one of the following- BE/B.Tech, ME/M Tech, MSc, BSc/MSc Math's and Statistics, B Com, BCA, BSc CS, BSC IT, MSC IT, MCA\\nSkills relating to Mathematics/Statistics.\\nNatural passion towards numbers, business, coding, Analytics, and Artificial Intelligence, Machine Learning, visualization\\nGood verbal and written communication skills\\nAbility to understand domains in businesses across various sectors\\n\\nSelection procedure includes\\nAptitude Test & Communication Exam - Online / Offline\\nSQL/Python test - Online / Offline\\nCandidates who clear the above will have one-one discussions with our Career Guidance Manager for further evaluation and processing of your Resume.\\n\\nAll the Shortlisted candidates will be eligible to continue the corporate training with CAIA\\nWhat you can expect from us?\\n\\nYou will get trained on the following modules for a period of 12-14 weeks:\\nSQL & PLSQL\\nData Wrangling using Python\\nData Visualization Using Power-BI\\nStatistics for Machine Learning\\nArtificial Intelligence, Data Interpretation\\nSupervised & Unsupervised Learning,\\nNLP & Deep Learning\\nCloud Data Lake\\nBusiness intelligence & Data Visualization\\nSimulation Projects\\nExpected Outcome?\\n\\nAt the end of the Training you are expected to be well versed with the following:\\nAnalysis of large and complex data sets from multiple sources\\nDevelopment and evaluation of data analytics models, algorithms, and solutions\\nUnderstanding/implementation of ML algorithms, performance tuning, and reporting\\nImplementation of algorithms to mine targeted data and the ability to convert data into a business story\\nTranslation of business requirements into technical requirements; Data extraction, preparation, and transformation\\nIdentification, development, and implementation of statistical techniques and algorithms that address business challenges and adds value to the organization\\nRequirement Analysis and communication of findings in the form of a meaningful story with the stakeholders\\nFinding analytical solutions to abstract business issues.\\nApply objective analysis of facts before coming to a conclusion\\n\\nRoleData Analyst\\nIndustry TypeIT Services & Consulting\\nFunctional AreaAnalytics & Business Intelligence\\nEmployment TypeFull Time, Permanent\\nRole CategoryAnalytics & BI\\nEducation\\nUG :B.Com/B.Com(Hons) in Any Specialization, B.Tech/BE in Any Specialization, BBA/BMS/BBM/BBS in Any Specialization, BCA in Any Specialization, Any Graduate, B.Sc/B.Sc(Hons) in Any Specialization\\nKey Skills\\nBusiness IntelligencePower BiData WranglingArtificial IntelligenceBig DataITMachine LearningStatisticsAnalyticsDeep LearningBusiness AnalysisSQLData ScienceNLPCloud ComputingData AnalysisData VisualizationData WarehousingData AnalyticsETLPython\",\n",
       " '-',\n",
       " 'Job description\\nKey Responsibilities:\\nProvide advanced analytical capabilities to support and drive data science initiatives\\nMines and extracts data and apply statistics and algorithms necessary to derive insights for Org s Digital\\nSupports the generation of an automated insights generation framework for Org s business partners to effectively interpret data\\nProvides actionable insights through data science for Recommendations, SEO and Collections selling\\nWork closely with the product and engineering teams to execute key initiatives\\nTracks success of Org s through the development of dashboard reports that measure financial results, customer satisfaction, and engagement metrics\\nConducts deep statistical analysis, including predictive and prescriptive modeling in order to provide a competitive advantage at Org s\\nMaintains expert-level knowledge on industry trends, emerging technologies, and new methodologies and applies it to projects as well as using it to guide team members\\nLeads automation and analytical projects, collaborating across functions in Org s and Org s Digital\\nJob Requirements\\nRequired Skills:\\nIndustry experience as a Data Scientist and experience in machine learning, data mining, search relevancy ranking, recommender systems or informational retrieval.\\nHands-on experience with accessing data, Python, machine learning libraries, and deep learning libraries (ex: tensorflow/pytorch/Keras, scikit-learn/scipi, numpy, pandas, Golve, word2vec, fasttext, bert etc.).\\nAbility to improve product discovery by collaborating with other domain teams such as Personalization and Search\\nFluency in at-least one programming languages such as Python, Scala or Java.\\nPresent results and make recommendations in a clear manner to senior leadership\\nAbility to learn new analytical methods and technologies and apply in practical business problems\\nStrong communication skills, ability to interact with diverse team of people across business and engineering.\\nEffective analytical, troubleshooting and problem-solving skills for building systems to process both structured and unstructured data\\n  RoleSystem Analyst\\nIndustry TypeRecruitment / Staffing\\nFunctional AreaIT Software - Application Programming, Maintenance\\nEmployment TypeFull Time, Permanent\\nRole CategoryProgramming & Design\\nEducation\\nUG :Any Graduate\\nPG :Any Postgraduate\\nKey Skills\\nAutomationdata scienceAnalyticalMachine learningSCALAProgrammingSEOTroubleshootingData miningPython',\n",
       " 'Job description\\nAs as Senior Data Scientist, you will work in teams addressing statistical, machine learning and data understanding problems in a commercial technology and consultancy development environment. In this role, you will contribute to the development and deployment of modern machine learning, operational research, semantic analysis, and statistical methods for finding structure in large data sets.\\nAs a Sr Data Scientist, you will be responsible for:\\nDesigning and develop machine learning algorithms, software utilities, tools, data sets, and experiments to build AI models.\\nBuilding solutions and delivering code from proof of concept to production-level maturity following agile development principles.\\nBreaking down and understanding complex business problems, defining a solution, and implementing it using advanced quantitative methods.\\nKeeping up to date with state-of-the-art machine learning literature and industry best practices for large-scale robust algorithm development.\\nDocumenting developments and results as needed for documentation, publications, patent submissions, and internal or external presentations.\\nCollaborating with cross-functional teams across multiple offices and regions. Also, Work alongside software developers and software engineers to translate algorithms into commercially viable products and services.\\nUnit-Testing for production quality code development and supporting end-to-end testing of delivered software components.\\nWorking in technical teams in development, deployment, and application of applied analytics, predictive analytics, and prescriptive analytics.\\nFuel your passion, To be successful in this role you will:\\nHave bachelors in Computer Science or STEM Majors (Science, Technology, Engineering and Math). A minimum 4 yrs of professional experience.\\nHave knowledge of advanced statistical techniques and concepts (regression, properties of distributions, statistical tests, and proper usage, etc.) and experience with applications.\\nExperience in Machine Learning/AI techniques including Deep learning (RNN, CNN, GAN, etc.), Support Vector Machines; Regularization Techniques; Boosting, Random Forests, Ensemble Methods, image/video/audio processing, Bayesian statistics, and time series modelling.\\nHave extensive applied experience with Reinforcement Learning is desired.\\nHave experience in developing and deploying machine learning solutions in cloud environments like AWS, Azure, and GCP.\\nHave developed containerized solutions (Docker, Mesos, etc.).\\nHave solid programming skills for data sciences and numerical computing: Python, R, and SQL and ability to work with a variety of deep learning frameworks including TensorFlow, Keras, Caffe, etc.\\nHave hands-on skills in sourcing, manipulating, and analysing large volumes of data including SQL and NoSQL databases.\\nRoleSoftware Developer\\nIndustry TypeTravel & Tourism\\nFunctional AreaIT Software - System Programming\\nEmployment TypeFull Time, Permanent\\nRole CategoryProgramming & Design\\nEducation\\nUG :B.Sc/B.Sc(Hons) in Chemistry\\nPG :Any Postgraduate\\nKey Skills\\nComputer sciencedeep learningNoSQLGCPMachine learningAlgorithm developmentUnit testingSQLPython',\n",
       " 'Job description\\nAs as Senior Data Scientist, you will work in teams addressing statistical, machine learning and data understanding problems in a commercial technology and consultancy development environment. In this role, you will contribute to the development and deployment of modern machine learning, operational research, semantic analysis, and statistical methods for finding structure in large data sets.\\nAs a Sr Data Scientist, you will be responsible for:\\nDesigning and develop machine learning algorithms, software utilities, tools, data sets, and experiments to build AI models.\\nBuilding solutions and delivering code from proof of concept to production-level maturity following agile development principles.\\nBreaking down and understanding complex business problems, defining a solution, and implementing it using advanced quantitative methods.\\nKeeping up to date with state-of-the-art machine learning literature and industry best practices for large-scale robust algorithm development.\\nDocumenting developments and results as needed for documentation, publications, patent submissions, and internal or external presentations.\\nCollaborating with cross-functional teams across multiple offices and regions. Also, Work alongside software developers and software engineers to translate algorithms into commercially viable products and services.\\nUnit-Testing for production quality code development and supporting end-to-end testing of delivered software components.\\nWorking in technical teams in development, deployment, and application of applied analytics, predictive analytics, and prescriptive analytics.\\nFuel your passion, To be successful in this role you will:\\nHave bachelors in Computer Science or STEM Majors (Science, Technology, Engineering and Math). A minimum 4 yrs of professional experience.\\nHave knowledge of advanced statistical techniques and concepts (regression, properties of distributions, statistical tests, and proper usage, etc.) and experience with applications.\\nExperience in Machine Learning/AI techniques including Deep learning (RNN, CNN, GAN, etc.), Support Vector Machines; Regularization Techniques; Boosting, Random Forests, Ensemble Methods, image/video/audio processing, Bayesian statistics, and time series modelling.\\nHave extensive applied experience with Reinforcement Learning is desired.\\nHave experience in developing and deploying machine learning solutions in cloud environments like AWS, Azure, and GCP.\\nHave developed containerized solutions (Docker, Mesos, etc.).\\nHave solid programming skills for data sciences and numerical computing: Python, R, and SQL and ability to work with a variety of deep learning frameworks including TensorFlow, Keras, Caffe, etc.\\nHave hands-on skills in sourcing, manipulating, and analysing large volumes of data including SQL and NoSQL databases.\\nRoleSoftware Developer\\nIndustry TypePower\\nFunctional AreaIT Software - System Programming\\nEmployment TypeFull Time, Permanent\\nRole CategoryProgramming & Design\\nEducation\\nUG :B.Sc/B.Sc(Hons) in Chemistry\\nPG :Any Postgraduate\\nKey Skills\\nComputer sciencedeep learningNoSQLGCPMachine learningAlgorithm developmentUnit testingSQLPython',\n",
       " 'Job description\\nAs as Senior Data Scientist, you will work in teams addressing statistical, machine learning and data understanding problems in a commercial technology and consultancy development environment. In this role, you will contribute to the development and deployment of modern machine learning, operational research, semantic analysis, and statistical methods for finding structure in large data sets.\\nAs a Sr Data Scientist, you will be responsible for:\\nDesigning and develop machine learning algorithms, software utilities, tools, data sets, and experiments to build AI models.\\nBuilding solutions and delivering code from proof of concept to production-level maturity following agile development principles.\\nBreaking down and understanding complex business problems, defining a solution, and implementing it using advanced quantitative methods.\\nKeeping up to date with state-of-the-art machine learning literature and industry best practices for large-scale robust algorithm development.\\nDocumenting developments and results as needed for documentation, publications, patent submissions, and internal or external presentations.\\nCollaborating with cross-functional teams across multiple offices and regions. Also, Work alongside software developers and software engineers to translate algorithms into commercially viable products and services.\\nUnit-Testing for production quality code development and supporting end-to-end testing of delivered software components.\\nWorking in technical teams in development, deployment, and application of applied analytics, predictive analytics, and prescriptive analytics.\\nFuel your passion, To be successful in this role you will:\\nHave bachelors in Computer Science or STEM Majors (Science, Technology, Engineering and Math). A minimum 4 yrs of professional experience.\\nHave knowledge of advanced statistical techniques and concepts (regression, properties of distributions, statistical tests, and proper usage, etc.) and experience with applications.\\nExperience in Machine Learning/AI techniques including Deep learning (RNN, CNN, GAN, etc.), Support Vector Machines; Regularization Techniques; Boosting, Random Forests, Ensemble Methods, image/video/audio processing, Bayesian statistics, and time series modelling.\\nHave extensive applied experience with Reinforcement Learning is desired.\\nHave experience in developing and deploying machine learning solutions in cloud environments like AWS, Azure, and GCP.\\nHave developed containerized solutions (Docker, Mesos, etc.).\\nHave solid programming skills for data sciences and numerical computing: Python, R, and SQL and ability to work with a variety of deep learning frameworks including TensorFlow, Keras, Caffe, etc.\\nHave hands-on skills in sourcing, manipulating, and analysing large volumes of data including SQL and NoSQL databases.\\nRoleSoftware Developer\\nIndustry TypePower\\nFunctional AreaIT Software - System Programming\\nEmployment TypeFull Time, Permanent\\nRole CategoryProgramming & Design\\nEducation\\nUG :B.Sc/B.Sc(Hons) in Chemistry\\nPG :Any Postgraduate\\nKey Skills\\nComputer sciencedeep learningNoSQLGCPMachine learningAlgorithm developmentUnit testingSQLPython',\n",
       " 'Job description\\n2-10 years experience in machine learning algorithms, predictive analytics, demand forecasting in real-world projects\\nStrong statistical background in descriptive and inferential statistics, regression, forecasting techniques.\\nStrong programming background in Python (including packages like Tensorflow), R, D3.js , Tableau, Spark, SQL, MongoDB.\\nPreferred exposure to Optimization Meta-heuristic algorithm and related applications.\\nRequirements\\nEducation\\nBackground in a highly quantitative field like Data Science, Computer Science, Statistics, Applied Mathematics, Operations Research, Industrial Engineering, or similar fields.\\nSkills and Experience\\nShould have 2-10 years of experience in Data Science algorithm design and implementation, data analysis in different applied problems.\\nRoleSoftware Developer\\nIndustry TypeIT Services & Consulting\\nFunctional AreaIT Software - Other\\nEmployment TypeFull Time, Permanent\\nRole CategoryProgramming & Design\\nEducation\\nUG :Any Graduate\\nPG :Post Graduation Not Required\\nKey Skills\\nComputer scienceData analysisOperations researchdata scienceAnalyticalMachine learningMedical insuranceForecastingSQLPython',\n",
       " \"Job description\\nROLES AND RESPONSIBILITIES:\\nParticipate in customer workshops to understand customer problems and design solutions with Advanced Analytics\\nDefine Advanced Analytics Use Cases and Implementation Roadmap\\nBuild Prototypes, POCs and Production ready Data Science applications\\nSupport and enhance Data Science Models/Applications\\nManage customer relationship and drive account growth initiatives\\nCollaborate with Partners for understanding the trends and new solutions and presenting the same to the customers and sales\\nSKILLS AND QUALIFICATIONS:\\nOverall, 10 to 12 yrs. of exp in solving customer problems with Data and 7-8 years of experience as Data Scientist for Life Sciences, Health Care and FMCG\\nDeep understanding and minimum 5 years of hands-on experience in developing models using Machine Learning and Deep Learning related technologies (such as Keras, TensorFlow, pyTorch, Azure ML, AWS ML, Jupiter, MATLAB, etc.)\\nStrong programming skills in one or more scripting languages like R, Python)\\nExperience with Data Visualization tools like Tableau, Microsoft Power BI and SiSense\\nExposure to working on AI/Data Science/Analytics platforms like SAS, Microsoft AI, Amazon AI, IBM WATSON, H20,\\nStrong business acumen to understand business objectives & dynamics and possess excellent written and verbal communication skills for coordinating across teams\\nExperience with common data science toolkits, such as Python, R, Weka, NumPy, MATLAB, etc\\nProficient in algorithms on regression modelling (linear/logistic), supervised and unsupervised classification, tree-based techniques (Decision trees /Random forest), neural nets, bagging, Pattern Mining and boosting techniques, etc.\\nStrong hold of concepts in Statistics and expertise in Machine Logs Processing, text mining and text analytics\\nMaster's degree in Statistics, Applied Math, Operations Research, Economics, or a related quantitative field with working experience as a Data Scientist\\n\\nRoleTechnical Architect\\nIndustry TypeIT Services & Consulting\\nFunctional AreaIT Software - Application Programming, Maintenance\\nEmployment TypeFull Time, Permanent\\nRole CategoryProgramming & Design\\nEducation\\nUG :Any Graduate\\nKey Skills\\nData ScienceArtificial IntelligenceText AnalyticsTableauMachine LearningDeep LearningPython\",\n",
       " \"Job description\\nActively engage with internal business teams to understand their challenges and deliver robust, data-driven solutions.\\nWork alongside global counterparts to solve data-intensive problems using standard analytical frameworks and tools.\\nBe encouraged and expected to innovate and be creative in your data analysis, problem-solving, and presentation of solutions.\\nNetwork and collaborate with a broad range of internal business units to define and deliver joint solutions.\\nWork alongside customers to leverage cutting-edge technology (machine learning, streaming analytics, and real big data) to creatively solve problems and disrupt existing business models.\\n\\nIn this role, we are looking for:\\nA problem-solving mindset with the ability to understand business challenges and how to apply your analytics expertise to solve them.\\nThe unique person who can present complex mathematical solutions in a simple manner that most will understand, including customers.\\nAn individual excited by innovation and new technology and eager to finds ways to employ these innovations in practice.\\nA team mentality, empowered by the ability to work with a diverse set of individuals.\\n\\nBasic Qualifications\\nA Bachelors's degree in Data Science, Math, Statistics, Computer Science, or related field with an emphasis on analytics.\\n5+ Years professional experience in a data scientist/analyst role or similar.\\nProficiency in your statistics/analytics/visualization tool of choice, but preferably in the Microsoft Azure Suite, including Azure ML Studio and PowerBI as well as R, Python, SQL.\\n\\nPreferred Qualifications\\nExcellent communication, organizational transformation, and leadership skills\\nDemonstrated excellence in Data Science, Business Analytics, and Engineering\\nRoleData Analyst\\nIndustry TypeChemicals\\nFunctional AreaAnalytics & Business Intelligence\\nEmployment TypeFull Time, Permanent\\nRole CategoryAnalytics & BI\\nEducation\\nUG :B.Tech/BE in Any Specialization\\nKey Skills\\nData scientistPower BiMachine LearningPythonSQL\",\n",
       " 'Job description\\nAs a Data Scientist, you would be working with subject matter experts in energy production. You will help in building models on reliability, predictive analysis, production optimizations and other interesting industry problems.\\nAs a Data Scientist, you will be responsible for:\\nContributing in development and deployment of applied, predictive and prescriptive analytics. Develop self-learning systems that can predict failures and autocorrect based on data\\nGathering analysing data, devising data science solutions for high-performance models in scalable code. Propose innovative algorithms and pursue patents where appropriate.\\nWorking with engineering teams to incorporate solutions and create intuitive UX stories. Partner with data engineers on data quality assessment, cleansing and analytics.\\nResearching and evaluating emerging technology and market trends to assist in project development and operational support for multiple teams or complex scenarios.\\nContributing to the development of software and data delivery platforms that are service-oriented with reusable components across multiple teams.\\nCreating reports and other artifacts to document your work and outcomes. Communicating methods, findings, and hypotheses with stakeholders.\\nFuel your passion\\nTo be successful in this role you will:\\nHave a Bachelor s Degree in Computer Science or in STEM, Majors. 3+ years as data scientist and technical hands-on coding experience.\\nHave experience in Machine Learning/AI techniques including Deep learning (RNN, CNN, GAN, etc), Support Vector Machines; Regularization Techniques; Boosting, Random Forests, Ensemble Methods, image/video/audio processing, Bayesian and time series modelling.\\nHave experience in Parallel programming frameworks for GPUs, TPUs and developed containerized solutions (Docker/Mesos etc).\\nHave good implementation experience with R, Python, Perl, Ruby, Scala, Apache Spark, Storm, SAS and ability to work with a variety of Deep learning frameworks including TensorFlow, Keras, Caffe, CNTK, etc\\nHave hands-on skills in sourcing, manipulating and analysing large volumes of data including SQL and NoSQL databases\\nHave proven experience in using well-established supervised and unsupervised machine learning methods for large industry-strength data analysis problems.\\nReviews, analyses and develops architectural requirements at domain level, aligning architectural requirements with software development strategy. Leads and facilitates the domains architecture governance process based on EAs governance structure.\\nRoleClinical Research Associate/Scientist\\nIndustry TypeTravel & Tourism\\nFunctional AreaMedical, Healthcare, R&D, Pharmaceuticals, Biotechnology\\nEmployment TypeFull Time, Permanent\\nRole CategoryR&D\\nEducation\\nUG :Any Graduate\\nPG :Any Postgraduate\\nKey Skills\\nComputer scienceData analysisSASCodingMachine learningPerlRubyAnalyticsSQLPython']"
      ]
     },
     "execution_count": 18,
     "metadata": {},
     "output_type": "execute_result"
    }
   ],
   "source": [
    "job_description"
   ]
  },
  {
   "cell_type": "code",
   "execution_count": 19,
   "metadata": {},
   "outputs": [
    {
     "data": {
      "text/plain": [
       "['Data Scientist / Data Analyst -Business Analyst',\n",
       " '-',\n",
       " 'Senior Data Scientist',\n",
       " 'Sr Data Scientist',\n",
       " 'Sr Data Scientist',\n",
       " 'Sr Data Scientist',\n",
       " 'Senior Data Scientist',\n",
       " 'Lead Data Scientist',\n",
       " 'Sr. Data Scientist',\n",
       " 'Data Scientist']"
      ]
     },
     "execution_count": 19,
     "metadata": {},
     "output_type": "execute_result"
    }
   ],
   "source": [
    "job_title"
   ]
  },
  {
   "cell_type": "code",
   "execution_count": 20,
   "metadata": {},
   "outputs": [],
   "source": [
    "#appling the dataframe\n",
    "jobs=pd.DataFrame({})\n",
    "jobs['title']=job_title\n",
    "jobs['company']=company_names\n",
    "jobs['location']=location_list\n",
    "jobs['description']=job_description"
   ]
  },
  {
   "cell_type": "code",
   "execution_count": 21,
   "metadata": {},
   "outputs": [
    {
     "data": {
      "text/html": [
       "<div>\n",
       "<style scoped>\n",
       "    .dataframe tbody tr th:only-of-type {\n",
       "        vertical-align: middle;\n",
       "    }\n",
       "\n",
       "    .dataframe tbody tr th {\n",
       "        vertical-align: top;\n",
       "    }\n",
       "\n",
       "    .dataframe thead th {\n",
       "        text-align: right;\n",
       "    }\n",
       "</style>\n",
       "<table border=\"1\" class=\"dataframe\">\n",
       "  <thead>\n",
       "    <tr style=\"text-align: right;\">\n",
       "      <th></th>\n",
       "      <th>title</th>\n",
       "      <th>company</th>\n",
       "      <th>location</th>\n",
       "      <th>description</th>\n",
       "    </tr>\n",
       "  </thead>\n",
       "  <tbody>\n",
       "    <tr>\n",
       "      <th>0</th>\n",
       "      <td>Data Scientist / Data Analyst -Business Analyst</td>\n",
       "      <td>Inflexion Analytix Private Limited</td>\n",
       "      <td>Hyderabad/Secunderabad, Chennai, Bangalore/Ben...</td>\n",
       "      <td>Job description\\nJob description\\n\\nJob Role: ...</td>\n",
       "    </tr>\n",
       "    <tr>\n",
       "      <th>1</th>\n",
       "      <td>-</td>\n",
       "      <td>IBM India Pvt. Limited</td>\n",
       "      <td>Bangalore/Bengaluru</td>\n",
       "      <td>-</td>\n",
       "    </tr>\n",
       "    <tr>\n",
       "      <th>2</th>\n",
       "      <td>Senior Data Scientist</td>\n",
       "      <td>Superior Group</td>\n",
       "      <td>Bangalore/Bengaluru</td>\n",
       "      <td>Job description\\nKey Responsibilities:\\nProvid...</td>\n",
       "    </tr>\n",
       "    <tr>\n",
       "      <th>3</th>\n",
       "      <td>Sr Data Scientist</td>\n",
       "      <td>FabHotel Aay Kay Model Town</td>\n",
       "      <td>Bangalore/Bengaluru</td>\n",
       "      <td>Job description\\nAs as Senior Data Scientist, ...</td>\n",
       "    </tr>\n",
       "    <tr>\n",
       "      <th>4</th>\n",
       "      <td>Sr Data Scientist</td>\n",
       "      <td>Baker Hughes Incorporated</td>\n",
       "      <td>Bangalore/Bengaluru</td>\n",
       "      <td>Job description\\nAs as Senior Data Scientist, ...</td>\n",
       "    </tr>\n",
       "    <tr>\n",
       "      <th>5</th>\n",
       "      <td>Sr Data Scientist</td>\n",
       "      <td>Baker Hughes - The Network</td>\n",
       "      <td>Bangalore/Bengaluru</td>\n",
       "      <td>Job description\\nAs as Senior Data Scientist, ...</td>\n",
       "    </tr>\n",
       "    <tr>\n",
       "      <th>6</th>\n",
       "      <td>Senior Data Scientist</td>\n",
       "      <td>ORMAE (Operations Research Machine learning &amp; ...</td>\n",
       "      <td>Bangalore/Bengaluru</td>\n",
       "      <td>Job description\\n2-10 years experience in mach...</td>\n",
       "    </tr>\n",
       "    <tr>\n",
       "      <th>7</th>\n",
       "      <td>Lead Data Scientist</td>\n",
       "      <td>ALTEN CALSOFT LABS (INDIA) PRIVATE LIMITED</td>\n",
       "      <td>Bangalore/Bengaluru(Dairy Circle)</td>\n",
       "      <td>Job description\\nROLES AND RESPONSIBILITIES:\\n...</td>\n",
       "    </tr>\n",
       "    <tr>\n",
       "      <th>8</th>\n",
       "      <td>Sr. Data Scientist</td>\n",
       "      <td>Multi Recruit</td>\n",
       "      <td>Bangalore/Bengaluru</td>\n",
       "      <td>Job description\\nActively engage with internal...</td>\n",
       "    </tr>\n",
       "    <tr>\n",
       "      <th>9</th>\n",
       "      <td>Data Scientist</td>\n",
       "      <td>FabHotel Aay Kay Model Town</td>\n",
       "      <td>Bangalore/Bengaluru</td>\n",
       "      <td>Job description\\nAs a Data Scientist, you woul...</td>\n",
       "    </tr>\n",
       "  </tbody>\n",
       "</table>\n",
       "</div>"
      ],
      "text/plain": [
       "                                             title  \\\n",
       "0  Data Scientist / Data Analyst -Business Analyst   \n",
       "1                                                -   \n",
       "2                            Senior Data Scientist   \n",
       "3                                Sr Data Scientist   \n",
       "4                                Sr Data Scientist   \n",
       "5                                Sr Data Scientist   \n",
       "6                            Senior Data Scientist   \n",
       "7                              Lead Data Scientist   \n",
       "8                               Sr. Data Scientist   \n",
       "9                                   Data Scientist   \n",
       "\n",
       "                                             company  \\\n",
       "0                 Inflexion Analytix Private Limited   \n",
       "1                             IBM India Pvt. Limited   \n",
       "2                                     Superior Group   \n",
       "3                        FabHotel Aay Kay Model Town   \n",
       "4                          Baker Hughes Incorporated   \n",
       "5                         Baker Hughes - The Network   \n",
       "6  ORMAE (Operations Research Machine learning & ...   \n",
       "7         ALTEN CALSOFT LABS (INDIA) PRIVATE LIMITED   \n",
       "8                                      Multi Recruit   \n",
       "9                        FabHotel Aay Kay Model Town   \n",
       "\n",
       "                                            location  \\\n",
       "0  Hyderabad/Secunderabad, Chennai, Bangalore/Ben...   \n",
       "1                                Bangalore/Bengaluru   \n",
       "2                                Bangalore/Bengaluru   \n",
       "3                                Bangalore/Bengaluru   \n",
       "4                                Bangalore/Bengaluru   \n",
       "5                                Bangalore/Bengaluru   \n",
       "6                                Bangalore/Bengaluru   \n",
       "7                  Bangalore/Bengaluru(Dairy Circle)   \n",
       "8                                Bangalore/Bengaluru   \n",
       "9                                Bangalore/Bengaluru   \n",
       "\n",
       "                                         description  \n",
       "0  Job description\\nJob description\\n\\nJob Role: ...  \n",
       "1                                                  -  \n",
       "2  Job description\\nKey Responsibilities:\\nProvid...  \n",
       "3  Job description\\nAs as Senior Data Scientist, ...  \n",
       "4  Job description\\nAs as Senior Data Scientist, ...  \n",
       "5  Job description\\nAs as Senior Data Scientist, ...  \n",
       "6  Job description\\n2-10 years experience in mach...  \n",
       "7  Job description\\nROLES AND RESPONSIBILITIES:\\n...  \n",
       "8  Job description\\nActively engage with internal...  \n",
       "9  Job description\\nAs a Data Scientist, you woul...  "
      ]
     },
     "execution_count": 21,
     "metadata": {},
     "output_type": "execute_result"
    }
   ],
   "source": [
    "#the data set\n",
    "jobs.head(10)"
   ]
  },
  {
   "cell_type": "code",
   "execution_count": null,
   "metadata": {},
   "outputs": [],
   "source": []
  },
  {
   "cell_type": "markdown",
   "metadata": {},
   "source": [
    "# In this question you have to scrape data using the filters available on the webpage as shown below"
   ]
  },
  {
   "cell_type": "code",
   "execution_count": 3,
   "metadata": {},
   "outputs": [],
   "source": [
    "#importing the libraries\n",
    "import selenium\n",
    "import pandas as pd\n",
    "from selenium import webdriver\n",
    "import time\n",
    "from selenium.common.exceptions import NoSuchElementException"
   ]
  },
  {
   "cell_type": "code",
   "execution_count": 4,
   "metadata": {},
   "outputs": [],
   "source": [
    "#importing the driver\n",
    "driver =webdriver.Chrome(r\"C:\\Users\\pavan\\Downloads\\chromedriver_win32\\chromedriver.exe\")"
   ]
  },
  {
   "cell_type": "code",
   "execution_count": 5,
   "metadata": {},
   "outputs": [],
   "source": [
    "#importing the url\n",
    "url = 'https://www.naukri.com/'\n",
    "driver.get(url)"
   ]
  },
  {
   "cell_type": "code",
   "execution_count": 6,
   "metadata": {},
   "outputs": [
    {
     "data": {
      "text/plain": [
       "<selenium.webdriver.remote.webelement.WebElement (session=\"b62fba4620abe02d88037be45eb10aea\", element=\"77b785d0-2707-4c42-9ce5-53ebfaa6b387\")>"
      ]
     },
     "execution_count": 6,
     "metadata": {},
     "output_type": "execute_result"
    }
   ],
   "source": [
    "#importing the keyword\n",
    "search_job = driver.find_element_by_id('qsb-keyword-sugg')\n",
    "search_job"
   ]
  },
  {
   "cell_type": "code",
   "execution_count": 7,
   "metadata": {},
   "outputs": [],
   "source": [
    "search_job.send_keys('Data Scientist')"
   ]
  },
  {
   "cell_type": "code",
   "execution_count": 8,
   "metadata": {},
   "outputs": [],
   "source": [
    "#clicking the search button\n",
    "search_btn = driver.find_element_by_xpath(\"//button[@cla#ss='btn']\")\n",
    "search_btn.click()"
   ]
  },
  {
   "cell_type": "code",
   "execution_count": 24,
   "metadata": {},
   "outputs": [],
   "source": [
    "#appling the location filter\n",
    "location_filter = driver.find_element_by_xpath('/html/body/div[1]/div[3]/div[2]/section[1]/div[2]/div[2]/div[2]/div[2]/label/p')\n",
    "location_filter.click()"
   ]
  },
  {
   "cell_type": "code",
   "execution_count": 25,
   "metadata": {},
   "outputs": [],
   "source": [
    "#applying the salary filter \n",
    "salary_filter = driver.find_element_by_xpath('/html/body/div[1]/div[3]/div[2]/section[1]/div[2]/div[3]/div[2]/div[2]/label/p')\n",
    "salary_filter.click()"
   ]
  },
  {
   "cell_type": "code",
   "execution_count": 27,
   "metadata": {},
   "outputs": [
    {
     "data": {
      "text/plain": [
       "[<selenium.webdriver.remote.webelement.WebElement (session=\"ebf737c814cc1f4a3b588e0ab31894e2\", element=\"ef872a8e-ff01-4fad-90dd-a294ff4c6c95\")>,\n",
       " <selenium.webdriver.remote.webelement.WebElement (session=\"ebf737c814cc1f4a3b588e0ab31894e2\", element=\"a3422450-eedf-4c61-a11d-c618db930d27\")>,\n",
       " <selenium.webdriver.remote.webelement.WebElement (session=\"ebf737c814cc1f4a3b588e0ab31894e2\", element=\"9f6e3d14-ec90-48b6-9f5c-11f1df172ba6\")>,\n",
       " <selenium.webdriver.remote.webelement.WebElement (session=\"ebf737c814cc1f4a3b588e0ab31894e2\", element=\"b4bed5fa-bbed-4a5c-b611-f77ae87651b9\")>,\n",
       " <selenium.webdriver.remote.webelement.WebElement (session=\"ebf737c814cc1f4a3b588e0ab31894e2\", element=\"5ae9c6b5-82d3-4195-87ea-a49dac897e33\")>,\n",
       " <selenium.webdriver.remote.webelement.WebElement (session=\"ebf737c814cc1f4a3b588e0ab31894e2\", element=\"bbb3cb1e-a385-4420-b88f-64b2caf53463\")>,\n",
       " <selenium.webdriver.remote.webelement.WebElement (session=\"ebf737c814cc1f4a3b588e0ab31894e2\", element=\"3995b537-5110-49b3-857f-3dce6fa64bc1\")>,\n",
       " <selenium.webdriver.remote.webelement.WebElement (session=\"ebf737c814cc1f4a3b588e0ab31894e2\", element=\"862e1b26-39c0-4f91-b0d8-6c65d5ac8c71\")>,\n",
       " <selenium.webdriver.remote.webelement.WebElement (session=\"ebf737c814cc1f4a3b588e0ab31894e2\", element=\"4a88a371-ec89-4269-9406-da0ba8654362\")>,\n",
       " <selenium.webdriver.remote.webelement.WebElement (session=\"ebf737c814cc1f4a3b588e0ab31894e2\", element=\"aa3d7f64-4e23-457f-872d-145edca6b574\")>,\n",
       " <selenium.webdriver.remote.webelement.WebElement (session=\"ebf737c814cc1f4a3b588e0ab31894e2\", element=\"31b34efe-be7b-44ec-859a-4652d8c0a8eb\")>,\n",
       " <selenium.webdriver.remote.webelement.WebElement (session=\"ebf737c814cc1f4a3b588e0ab31894e2\", element=\"dd1721ce-f72d-4183-89af-24fab8bd7801\")>,\n",
       " <selenium.webdriver.remote.webelement.WebElement (session=\"ebf737c814cc1f4a3b588e0ab31894e2\", element=\"b20dc7b6-50bb-43ba-bb59-e9ef73af028f\")>,\n",
       " <selenium.webdriver.remote.webelement.WebElement (session=\"ebf737c814cc1f4a3b588e0ab31894e2\", element=\"5cb29bfc-47b1-44b0-9090-03c3be26f63b\")>,\n",
       " <selenium.webdriver.remote.webelement.WebElement (session=\"ebf737c814cc1f4a3b588e0ab31894e2\", element=\"7d00df33-39dc-4137-84ab-89b96305906c\")>,\n",
       " <selenium.webdriver.remote.webelement.WebElement (session=\"ebf737c814cc1f4a3b588e0ab31894e2\", element=\"4d95ba00-45f4-471f-9617-c0313452c3e3\")>,\n",
       " <selenium.webdriver.remote.webelement.WebElement (session=\"ebf737c814cc1f4a3b588e0ab31894e2\", element=\"780c54aa-f09b-4b51-b474-977b07e604af\")>,\n",
       " <selenium.webdriver.remote.webelement.WebElement (session=\"ebf737c814cc1f4a3b588e0ab31894e2\", element=\"313bc945-8a40-4f0c-a659-6fc9ad3d14c2\")>,\n",
       " <selenium.webdriver.remote.webelement.WebElement (session=\"ebf737c814cc1f4a3b588e0ab31894e2\", element=\"0482235a-71bd-45b2-8c2e-a816c9ea76ff\")>,\n",
       " <selenium.webdriver.remote.webelement.WebElement (session=\"ebf737c814cc1f4a3b588e0ab31894e2\", element=\"382908da-df71-47ef-b7ed-1ddafc3d821b\")>]"
      ]
     },
     "execution_count": 27,
     "metadata": {},
     "output_type": "execute_result"
    }
   ],
   "source": [
    "#emporting the job tag\n",
    "titles_tags=driver.find_elements_by_xpath(\"//a[@class='title fw500 ellipsis']\")\n",
    "titles_tags"
   ]
  },
  {
   "cell_type": "code",
   "execution_count": 28,
   "metadata": {},
   "outputs": [
    {
     "data": {
      "text/plain": [
       "['Data Scientist / Data Analyst -Business Analyst',\n",
       " 'Only Fresher / Data Scientist / Data Analyst / Analytics - MNC OSC',\n",
       " 'Data Scientist -Delhi',\n",
       " 'Data Scientist - Text NLP | Noida',\n",
       " 'Data Scientist',\n",
       " 'Data Scientist - Machine Learning/NLP',\n",
       " 'Data Scientist - Machine Learning/NLP',\n",
       " 'Data analytics / Data scientist intern (work from Home)',\n",
       " 'Chaayos is Looking For Data Scientist',\n",
       " 'Data Scientist',\n",
       " 'Data Engineers /Data Scientist - CES IT LTD - CMMI LVL 5',\n",
       " 'We are hiring- Data Scientist +Python- Noida',\n",
       " 'Senior Data Scientist',\n",
       " 'Data Scientist',\n",
       " 'Data Scientist',\n",
       " 'Data Scientist',\n",
       " 'Data Scientist',\n",
       " 'Associate Data Scientist',\n",
       " 'Data Scientist Machine Learning',\n",
       " 'Data Scientist']"
      ]
     },
     "execution_count": 28,
     "metadata": {},
     "output_type": "execute_result"
    }
   ],
   "source": [
    "#applying the forloop\n",
    "job_titles=[]\n",
    "for i in titles_tags:\n",
    "    job_titles.append(i.text)\n",
    "job_titles"
   ]
  },
  {
   "cell_type": "code",
   "execution_count": 29,
   "metadata": {},
   "outputs": [
    {
     "data": {
      "text/plain": [
       "[<selenium.webdriver.remote.webelement.WebElement (session=\"ebf737c814cc1f4a3b588e0ab31894e2\", element=\"50741aa8-fc98-43fc-85f3-ae776cc9b272\")>,\n",
       " <selenium.webdriver.remote.webelement.WebElement (session=\"ebf737c814cc1f4a3b588e0ab31894e2\", element=\"07538673-ad60-48a1-840d-1a80645b9fa8\")>,\n",
       " <selenium.webdriver.remote.webelement.WebElement (session=\"ebf737c814cc1f4a3b588e0ab31894e2\", element=\"73a80ff1-822a-4715-b73e-a92c8babbd5d\")>,\n",
       " <selenium.webdriver.remote.webelement.WebElement (session=\"ebf737c814cc1f4a3b588e0ab31894e2\", element=\"16eccd87-e22b-4c61-b04a-fe807c467133\")>,\n",
       " <selenium.webdriver.remote.webelement.WebElement (session=\"ebf737c814cc1f4a3b588e0ab31894e2\", element=\"b24037f0-028d-4f97-a5ce-e93ac6912c29\")>,\n",
       " <selenium.webdriver.remote.webelement.WebElement (session=\"ebf737c814cc1f4a3b588e0ab31894e2\", element=\"83519890-aa66-462e-b073-9b9b085c1aa5\")>,\n",
       " <selenium.webdriver.remote.webelement.WebElement (session=\"ebf737c814cc1f4a3b588e0ab31894e2\", element=\"c2dd6754-4619-4335-8705-0a7827dda1a9\")>,\n",
       " <selenium.webdriver.remote.webelement.WebElement (session=\"ebf737c814cc1f4a3b588e0ab31894e2\", element=\"38038ed1-2511-49b2-bf76-2e059cba2e79\")>,\n",
       " <selenium.webdriver.remote.webelement.WebElement (session=\"ebf737c814cc1f4a3b588e0ab31894e2\", element=\"b4e22915-0331-48b1-bc6b-ab4ed2e174a7\")>,\n",
       " <selenium.webdriver.remote.webelement.WebElement (session=\"ebf737c814cc1f4a3b588e0ab31894e2\", element=\"088d089b-e54f-45e8-b902-5463d30f80e1\")>,\n",
       " <selenium.webdriver.remote.webelement.WebElement (session=\"ebf737c814cc1f4a3b588e0ab31894e2\", element=\"a4623acc-3af1-4276-b04f-65ae564db529\")>,\n",
       " <selenium.webdriver.remote.webelement.WebElement (session=\"ebf737c814cc1f4a3b588e0ab31894e2\", element=\"6d3c4f69-a618-4bad-9c68-6fa239a41f75\")>,\n",
       " <selenium.webdriver.remote.webelement.WebElement (session=\"ebf737c814cc1f4a3b588e0ab31894e2\", element=\"950bf35f-9637-44a0-97ce-3955469b19e5\")>,\n",
       " <selenium.webdriver.remote.webelement.WebElement (session=\"ebf737c814cc1f4a3b588e0ab31894e2\", element=\"e1722e78-6577-43df-a707-d21dd07150f5\")>,\n",
       " <selenium.webdriver.remote.webelement.WebElement (session=\"ebf737c814cc1f4a3b588e0ab31894e2\", element=\"40a49018-08cb-4804-866c-d7de7e2841d8\")>,\n",
       " <selenium.webdriver.remote.webelement.WebElement (session=\"ebf737c814cc1f4a3b588e0ab31894e2\", element=\"db9814f3-5527-472b-8da9-d0cec511629f\")>,\n",
       " <selenium.webdriver.remote.webelement.WebElement (session=\"ebf737c814cc1f4a3b588e0ab31894e2\", element=\"8ec5e12e-5170-477c-85dd-24d8912fd3e6\")>,\n",
       " <selenium.webdriver.remote.webelement.WebElement (session=\"ebf737c814cc1f4a3b588e0ab31894e2\", element=\"11811f2b-1f0b-41db-9292-30daa4cd769d\")>,\n",
       " <selenium.webdriver.remote.webelement.WebElement (session=\"ebf737c814cc1f4a3b588e0ab31894e2\", element=\"7950551c-7445-4a5b-a875-1d3bfa5a5d9b\")>,\n",
       " <selenium.webdriver.remote.webelement.WebElement (session=\"ebf737c814cc1f4a3b588e0ab31894e2\", element=\"1c5505f2-a85b-4d05-aa9f-15460fe5f2c0\")>]"
      ]
     },
     "execution_count": 29,
     "metadata": {},
     "output_type": "execute_result"
    }
   ],
   "source": [
    "#importing the company tag\n",
    "companies_tags=driver.find_elements_by_xpath(\"//a[@class='subTitle ellipsis fleft']\")\n",
    "companies_tags"
   ]
  },
  {
   "cell_type": "code",
   "execution_count": 30,
   "metadata": {},
   "outputs": [
    {
     "data": {
      "text/plain": [
       "['Inflexion Analytix Private Limited',\n",
       " 'GABA Consultancy services',\n",
       " 'CHANGE LEADERS CONSULTING',\n",
       " 'Acidaes Solutions Pvt. Ltd.',\n",
       " 'NEC CORPORATION INDIA PRIVATE LIMITED',\n",
       " 'TalPro',\n",
       " 'TalPro',\n",
       " 'TalkValley LLC',\n",
       " 'Chaayos (Sunshine Teahouse Pvt. Ltd.)',\n",
       " 'Fractal Analytics',\n",
       " 'CES Ltd.',\n",
       " 'RANDSTAD INDIA PVT LTD',\n",
       " 'iNICU',\n",
       " 'BlackBuck',\n",
       " 'Country Veggie',\n",
       " 'Mahajan Imaging',\n",
       " 'Mahajan Imaging',\n",
       " 'Blow Trumpet Solutions',\n",
       " 'Delhivery',\n",
       " 'Milliman India Pvt Ltd']"
      ]
     },
     "execution_count": 30,
     "metadata": {},
     "output_type": "execute_result"
    }
   ],
   "source": [
    "#applying the forloop\n",
    "company_names=[]\n",
    "for i in companies_tags:\n",
    "    company_names.append(i.text)\n",
    "company_names"
   ]
  },
  {
   "cell_type": "code",
   "execution_count": null,
   "metadata": {},
   "outputs": [],
   "source": [
    "#scraping the experince tag \n",
    "experience_tags=driver.find_elements_by_xpath(\"//li[@class='fleft grey-text br2 placeHolderLi experience']//span\")\n",
    "experience_tags"
   ]
  },
  {
   "cell_type": "code",
   "execution_count": 32,
   "metadata": {},
   "outputs": [
    {
     "data": {
      "text/plain": [
       "['0-3 Yrs',\n",
       " '0-0 Yrs',\n",
       " '5-8 Yrs',\n",
       " '3-5 Yrs',\n",
       " '3-8 Yrs',\n",
       " '2-6 Yrs',\n",
       " '2-4 Yrs',\n",
       " '0-5 Yrs',\n",
       " '0-5 Yrs',\n",
       " '3-7 Yrs',\n",
       " '3-5 Yrs',\n",
       " '4-7 Yrs',\n",
       " '1-5 Yrs',\n",
       " '3-7 Yrs',\n",
       " '1-3 Yrs',\n",
       " '2-6 Yrs',\n",
       " '2-6 Yrs',\n",
       " '1-5 Yrs',\n",
       " '1-3 Yrs',\n",
       " '2-5 Yrs']"
      ]
     },
     "execution_count": 32,
     "metadata": {},
     "output_type": "execute_result"
    }
   ],
   "source": [
    "#applying the forloop\n",
    "experience_list=[]\n",
    "for i in experience_tags:\n",
    "    experience_list.append(i.text)\n",
    "experience_list"
   ]
  },
  {
   "cell_type": "code",
   "execution_count": 33,
   "metadata": {},
   "outputs": [
    {
     "data": {
      "text/plain": [
       "[<selenium.webdriver.remote.webelement.WebElement (session=\"ebf737c814cc1f4a3b588e0ab31894e2\", element=\"eec8d1ee-9143-4b2b-bfd1-e99944802c18\")>,\n",
       " <selenium.webdriver.remote.webelement.WebElement (session=\"ebf737c814cc1f4a3b588e0ab31894e2\", element=\"03e56e6f-6896-4072-a63b-d03c62729251\")>,\n",
       " <selenium.webdriver.remote.webelement.WebElement (session=\"ebf737c814cc1f4a3b588e0ab31894e2\", element=\"96b7e8a2-6f26-4241-9e7a-645bafc156ee\")>,\n",
       " <selenium.webdriver.remote.webelement.WebElement (session=\"ebf737c814cc1f4a3b588e0ab31894e2\", element=\"6d2973f2-94ea-416a-a44f-fa48b83bd21a\")>,\n",
       " <selenium.webdriver.remote.webelement.WebElement (session=\"ebf737c814cc1f4a3b588e0ab31894e2\", element=\"0b485876-3d5c-4eb9-aff8-4f22f63712b0\")>,\n",
       " <selenium.webdriver.remote.webelement.WebElement (session=\"ebf737c814cc1f4a3b588e0ab31894e2\", element=\"a91b85e8-c71d-4b9b-b139-0ea383cd936d\")>,\n",
       " <selenium.webdriver.remote.webelement.WebElement (session=\"ebf737c814cc1f4a3b588e0ab31894e2\", element=\"e0e9bdd3-1c16-4dc4-a320-b15259a68c8b\")>,\n",
       " <selenium.webdriver.remote.webelement.WebElement (session=\"ebf737c814cc1f4a3b588e0ab31894e2\", element=\"198529c6-145f-4ed4-bb92-2ea78fd8f844\")>,\n",
       " <selenium.webdriver.remote.webelement.WebElement (session=\"ebf737c814cc1f4a3b588e0ab31894e2\", element=\"dfddc720-7cba-40d6-b8f1-7a045896e706\")>,\n",
       " <selenium.webdriver.remote.webelement.WebElement (session=\"ebf737c814cc1f4a3b588e0ab31894e2\", element=\"dbb61ac2-e160-4bb6-9d03-66b3e4866c6d\")>,\n",
       " <selenium.webdriver.remote.webelement.WebElement (session=\"ebf737c814cc1f4a3b588e0ab31894e2\", element=\"98620117-0d89-47c9-a9e5-7b45f4f250c5\")>,\n",
       " <selenium.webdriver.remote.webelement.WebElement (session=\"ebf737c814cc1f4a3b588e0ab31894e2\", element=\"b3b4fa3b-4b52-4545-9e6f-f5598d76770b\")>,\n",
       " <selenium.webdriver.remote.webelement.WebElement (session=\"ebf737c814cc1f4a3b588e0ab31894e2\", element=\"db3123c8-d31a-4a87-a3f9-d41263b3e1d5\")>,\n",
       " <selenium.webdriver.remote.webelement.WebElement (session=\"ebf737c814cc1f4a3b588e0ab31894e2\", element=\"7a854235-93f4-4f6a-bd90-a72a9aba302d\")>,\n",
       " <selenium.webdriver.remote.webelement.WebElement (session=\"ebf737c814cc1f4a3b588e0ab31894e2\", element=\"4572a55c-30c9-4c9e-be82-33e4794d4cd2\")>,\n",
       " <selenium.webdriver.remote.webelement.WebElement (session=\"ebf737c814cc1f4a3b588e0ab31894e2\", element=\"88ac982a-9345-4e9d-8225-b9f94deffe76\")>,\n",
       " <selenium.webdriver.remote.webelement.WebElement (session=\"ebf737c814cc1f4a3b588e0ab31894e2\", element=\"de32b24a-23c9-4dc7-ba40-4238918cd916\")>,\n",
       " <selenium.webdriver.remote.webelement.WebElement (session=\"ebf737c814cc1f4a3b588e0ab31894e2\", element=\"7fa60286-7a04-4816-bd08-6255f3e97617\")>,\n",
       " <selenium.webdriver.remote.webelement.WebElement (session=\"ebf737c814cc1f4a3b588e0ab31894e2\", element=\"2b12e357-637c-430e-bd9b-84cfc17be29a\")>,\n",
       " <selenium.webdriver.remote.webelement.WebElement (session=\"ebf737c814cc1f4a3b588e0ab31894e2\", element=\"fc580db9-ead8-4fd9-9051-ef1b955b39e6\")>]"
      ]
     },
     "execution_count": 33,
     "metadata": {},
     "output_type": "execute_result"
    }
   ],
   "source": [
    "#scraping the location tag\n",
    "location_tags=driver.find_elements_by_xpath(\"//li[@class='fleft grey-text br2 placeHolderLi location']//span\")\n",
    "location_tags"
   ]
  },
  {
   "cell_type": "code",
   "execution_count": 34,
   "metadata": {},
   "outputs": [
    {
     "data": {
      "text/plain": [
       "['Mumbai, Hyderabad/Secunderabad, Pune, Gurgaon/Gurugram, Chennai, Bangalore/Bengaluru',\n",
       " 'Noida, Gurgaon/Gurugram, Delhi / NCR',\n",
       " 'New Delhi',\n",
       " 'Noida',\n",
       " 'Noida',\n",
       " 'Gurgaon/Gurugram',\n",
       " 'Gurgaon/Gurugram',\n",
       " 'Kolkata, Bangalore/Bengaluru, Delhi / NCR',\n",
       " 'New Delhi',\n",
       " 'Mumbai, Gurgaon/Gurugram, Bangalore/Bengaluru',\n",
       " 'Kolkata, Hyderabad/Secunderabad, Pune, Ahmedabad, Chennai, Bangalore/Bengaluru, Delhi / NCR, Mumbai (All Areas)',\n",
       " 'Noida, Gurgaon/Gurugram, Delhi / NCR',\n",
       " 'Delhi',\n",
       " 'Gurgaon/Gurugram, Bangalore/Bengaluru',\n",
       " 'Bharuch, Jaipur, Bhopal, Mumbai, Jhansi, Nagpur, Ghaziabad, Jaunpur, Kanpur, New Delhi, Lucknow, Agra, Gurgaon/Gurugram, Rajkot, Bangalore/Bengaluru',\n",
       " 'New Delhi',\n",
       " 'Delhi',\n",
       " 'New Delhi',\n",
       " 'Gurgaon/Gurugram',\n",
       " 'Gurgaon/Gurugram, Delhi / NCR']"
      ]
     },
     "execution_count": 34,
     "metadata": {},
     "output_type": "execute_result"
    }
   ],
   "source": [
    "#applying the forloop\n",
    "location_list=[]\n",
    "for i in location_tags:\n",
    "    location_list.append(i.text)\n",
    "location_list"
   ]
  },
  {
   "cell_type": "code",
   "execution_count": 35,
   "metadata": {},
   "outputs": [],
   "source": [
    "#appling the dataframe\n",
    "jobs=pd.DataFrame({})\n",
    "jobs['title']=job_titles\n",
    "jobs['company']=company_names\n",
    "jobs['experience_required']=experience_list\n",
    "jobs['location']=location_list\n"
   ]
  },
  {
   "cell_type": "code",
   "execution_count": 36,
   "metadata": {},
   "outputs": [
    {
     "data": {
      "text/html": [
       "<div>\n",
       "<style scoped>\n",
       "    .dataframe tbody tr th:only-of-type {\n",
       "        vertical-align: middle;\n",
       "    }\n",
       "\n",
       "    .dataframe tbody tr th {\n",
       "        vertical-align: top;\n",
       "    }\n",
       "\n",
       "    .dataframe thead th {\n",
       "        text-align: right;\n",
       "    }\n",
       "</style>\n",
       "<table border=\"1\" class=\"dataframe\">\n",
       "  <thead>\n",
       "    <tr style=\"text-align: right;\">\n",
       "      <th></th>\n",
       "      <th>title</th>\n",
       "      <th>company</th>\n",
       "      <th>experience_required</th>\n",
       "      <th>location</th>\n",
       "    </tr>\n",
       "  </thead>\n",
       "  <tbody>\n",
       "    <tr>\n",
       "      <th>0</th>\n",
       "      <td>Data Scientist / Data Analyst -Business Analyst</td>\n",
       "      <td>Inflexion Analytix Private Limited</td>\n",
       "      <td>0-3 Yrs</td>\n",
       "      <td>Mumbai, Hyderabad/Secunderabad, Pune, Gurgaon/...</td>\n",
       "    </tr>\n",
       "    <tr>\n",
       "      <th>1</th>\n",
       "      <td>Only Fresher / Data Scientist / Data Analyst /...</td>\n",
       "      <td>GABA Consultancy services</td>\n",
       "      <td>0-0 Yrs</td>\n",
       "      <td>Noida, Gurgaon/Gurugram, Delhi / NCR</td>\n",
       "    </tr>\n",
       "    <tr>\n",
       "      <th>2</th>\n",
       "      <td>Data Scientist -Delhi</td>\n",
       "      <td>CHANGE LEADERS CONSULTING</td>\n",
       "      <td>5-8 Yrs</td>\n",
       "      <td>New Delhi</td>\n",
       "    </tr>\n",
       "    <tr>\n",
       "      <th>3</th>\n",
       "      <td>Data Scientist - Text NLP | Noida</td>\n",
       "      <td>Acidaes Solutions Pvt. Ltd.</td>\n",
       "      <td>3-5 Yrs</td>\n",
       "      <td>Noida</td>\n",
       "    </tr>\n",
       "    <tr>\n",
       "      <th>4</th>\n",
       "      <td>Data Scientist</td>\n",
       "      <td>NEC CORPORATION INDIA PRIVATE LIMITED</td>\n",
       "      <td>3-8 Yrs</td>\n",
       "      <td>Noida</td>\n",
       "    </tr>\n",
       "    <tr>\n",
       "      <th>5</th>\n",
       "      <td>Data Scientist - Machine Learning/NLP</td>\n",
       "      <td>TalPro</td>\n",
       "      <td>2-6 Yrs</td>\n",
       "      <td>Gurgaon/Gurugram</td>\n",
       "    </tr>\n",
       "    <tr>\n",
       "      <th>6</th>\n",
       "      <td>Data Scientist - Machine Learning/NLP</td>\n",
       "      <td>TalPro</td>\n",
       "      <td>2-4 Yrs</td>\n",
       "      <td>Gurgaon/Gurugram</td>\n",
       "    </tr>\n",
       "    <tr>\n",
       "      <th>7</th>\n",
       "      <td>Data analytics / Data scientist intern (work f...</td>\n",
       "      <td>TalkValley LLC</td>\n",
       "      <td>0-5 Yrs</td>\n",
       "      <td>Kolkata, Bangalore/Bengaluru, Delhi / NCR</td>\n",
       "    </tr>\n",
       "    <tr>\n",
       "      <th>8</th>\n",
       "      <td>Chaayos is Looking For Data Scientist</td>\n",
       "      <td>Chaayos (Sunshine Teahouse Pvt. Ltd.)</td>\n",
       "      <td>0-5 Yrs</td>\n",
       "      <td>New Delhi</td>\n",
       "    </tr>\n",
       "    <tr>\n",
       "      <th>9</th>\n",
       "      <td>Data Scientist</td>\n",
       "      <td>Fractal Analytics</td>\n",
       "      <td>3-7 Yrs</td>\n",
       "      <td>Mumbai, Gurgaon/Gurugram, Bangalore/Bengaluru</td>\n",
       "    </tr>\n",
       "  </tbody>\n",
       "</table>\n",
       "</div>"
      ],
      "text/plain": [
       "                                               title  \\\n",
       "0    Data Scientist / Data Analyst -Business Analyst   \n",
       "1  Only Fresher / Data Scientist / Data Analyst /...   \n",
       "2                              Data Scientist -Delhi   \n",
       "3                  Data Scientist - Text NLP | Noida   \n",
       "4                                     Data Scientist   \n",
       "5              Data Scientist - Machine Learning/NLP   \n",
       "6              Data Scientist - Machine Learning/NLP   \n",
       "7  Data analytics / Data scientist intern (work f...   \n",
       "8              Chaayos is Looking For Data Scientist   \n",
       "9                                     Data Scientist   \n",
       "\n",
       "                                 company experience_required  \\\n",
       "0     Inflexion Analytix Private Limited             0-3 Yrs   \n",
       "1              GABA Consultancy services             0-0 Yrs   \n",
       "2              CHANGE LEADERS CONSULTING             5-8 Yrs   \n",
       "3            Acidaes Solutions Pvt. Ltd.             3-5 Yrs   \n",
       "4  NEC CORPORATION INDIA PRIVATE LIMITED             3-8 Yrs   \n",
       "5                                 TalPro             2-6 Yrs   \n",
       "6                                 TalPro             2-4 Yrs   \n",
       "7                         TalkValley LLC             0-5 Yrs   \n",
       "8  Chaayos (Sunshine Teahouse Pvt. Ltd.)             0-5 Yrs   \n",
       "9                      Fractal Analytics             3-7 Yrs   \n",
       "\n",
       "                                            location  \n",
       "0  Mumbai, Hyderabad/Secunderabad, Pune, Gurgaon/...  \n",
       "1               Noida, Gurgaon/Gurugram, Delhi / NCR  \n",
       "2                                          New Delhi  \n",
       "3                                              Noida  \n",
       "4                                              Noida  \n",
       "5                                   Gurgaon/Gurugram  \n",
       "6                                   Gurgaon/Gurugram  \n",
       "7          Kolkata, Bangalore/Bengaluru, Delhi / NCR  \n",
       "8                                          New Delhi  \n",
       "9      Mumbai, Gurgaon/Gurugram, Bangalore/Bengaluru  "
      ]
     },
     "execution_count": 36,
     "metadata": {},
     "output_type": "execute_result"
    }
   ],
   "source": [
    "#the data set\n",
    "jobs.head(10)"
   ]
  },
  {
   "cell_type": "code",
   "execution_count": null,
   "metadata": {},
   "outputs": [],
   "source": []
  },
  {
   "cell_type": "markdown",
   "metadata": {},
   "source": [
    "# Write a python program to scrape data for first 10 job results for Data scientist Designation in Noida location. You have to scrape company_name, No. of days ago when job was posted, Rating of the company.\n"
   ]
  },
  {
   "cell_type": "code",
   "execution_count": 1,
   "metadata": {},
   "outputs": [],
   "source": [
    "#importing the libraries\n",
    "import selenium\n",
    "import pandas as pd\n",
    "from selenium import webdriver"
   ]
  },
  {
   "cell_type": "code",
   "execution_count": 7,
   "metadata": {},
   "outputs": [],
   "source": [
    "#importing the driver\n",
    "driver =webdriver.Chrome(r\"C:\\Users\\pavan\\Downloads\\chromedriver_win32\\chromedriver.exe\")"
   ]
  },
  {
   "cell_type": "code",
   "execution_count": 8,
   "metadata": {},
   "outputs": [],
   "source": [
    "#importing the url\n",
    "url = 'https://www.glassdoor.co.in/index.htm'\n",
    "driver.get(url)"
   ]
  },
  {
   "cell_type": "code",
   "execution_count": 9,
   "metadata": {},
   "outputs": [
    {
     "data": {
      "text/plain": [
       "<selenium.webdriver.remote.webelement.WebElement (session=\"17f32be0475e1e6bbb12d10de727ecca\", element=\"59aa62c8-7bf4-4045-9d95-314b6086462c\")>"
      ]
     },
     "execution_count": 9,
     "metadata": {},
     "output_type": "execute_result"
    }
   ],
   "source": [
    "#importing the keyword\n",
    "search_job = driver.find_element_by_id('sc.keyword')\n",
    "search_job"
   ]
  },
  {
   "cell_type": "code",
   "execution_count": 10,
   "metadata": {},
   "outputs": [],
   "source": [
    "search_job.send_keys('Data Scientist')"
   ]
  },
  {
   "cell_type": "code",
   "execution_count": 11,
   "metadata": {},
   "outputs": [],
   "source": [
    "#importing the location\n",
    "search_loc = driver.find_element_by_id('sc.location')\n",
    "search_loc.send_keys('Noida')"
   ]
  },
  {
   "cell_type": "code",
   "execution_count": 12,
   "metadata": {},
   "outputs": [],
   "source": [
    "#clicking the search button\n",
    "search_btn = driver.find_element_by_xpath(\"//button[@class='gd-ui-button ml-std col-auto SearchStyles__newSearchButton css-iixdfr']\")\n",
    "search_btn.click()"
   ]
  },
  {
   "cell_type": "code",
   "execution_count": null,
   "metadata": {},
   "outputs": [],
   "source": [
    "#scraping the company tag \n",
    "companies_tags=driver.find_elements_by_xpath(\"//div[@class='d-flex justify-content-between align-items-start']//span\")\n",
    "companies_tags"
   ]
  },
  {
   "cell_type": "code",
   "execution_count": 15,
   "metadata": {},
   "outputs": [],
   "source": [
    "#applying the forloop\n",
    "Company_names=[]\n",
    "for i in companies_tags:\n",
    "    Company_names.append(i.text)\n",
    "company_names = Company_names[0::3]"
   ]
  },
  {
   "cell_type": "code",
   "execution_count": 30,
   "metadata": {},
   "outputs": [
    {
     "data": {
      "text/plain": [
       "['Ericsson',\n",
       " 'Innovacer',\n",
       " 'Crowe',\n",
       " 'Data Patterns',\n",
       " 'Algo8 AI Pvt. Ltd.',\n",
       " 'Biz2Credit Inc',\n",
       " 'Ginger Webs Pvt. Ltd.',\n",
       " 'Flip Robo Technologies',\n",
       " 'Salasar New Age Technologies',\n",
       " 'Techlive']"
      ]
     },
     "execution_count": 30,
     "metadata": {},
     "output_type": "execute_result"
    }
   ],
   "source": [
    "COMPANY =company_names[:10]\n",
    "COMPANY"
   ]
  },
  {
   "cell_type": "code",
   "execution_count": 20,
   "metadata": {},
   "outputs": [
    {
     "data": {
      "text/plain": [
       "[<selenium.webdriver.remote.webelement.WebElement (session=\"17f32be0475e1e6bbb12d10de727ecca\", element=\"61f18aff-120f-4687-be9a-ed98697816ae\")>,\n",
       " <selenium.webdriver.remote.webelement.WebElement (session=\"17f32be0475e1e6bbb12d10de727ecca\", element=\"8cf21dd5-f985-48e2-8aed-fde0f541c598\")>,\n",
       " <selenium.webdriver.remote.webelement.WebElement (session=\"17f32be0475e1e6bbb12d10de727ecca\", element=\"908ec537-164b-4a1e-b77c-7ba09b4da069\")>,\n",
       " <selenium.webdriver.remote.webelement.WebElement (session=\"17f32be0475e1e6bbb12d10de727ecca\", element=\"46f6a364-48d4-466a-824e-4c3200722385\")>,\n",
       " <selenium.webdriver.remote.webelement.WebElement (session=\"17f32be0475e1e6bbb12d10de727ecca\", element=\"5fac451e-a744-4d80-83a0-d534cefa6ed6\")>,\n",
       " <selenium.webdriver.remote.webelement.WebElement (session=\"17f32be0475e1e6bbb12d10de727ecca\", element=\"b179514d-b741-4b50-85b8-2b2950506dd9\")>,\n",
       " <selenium.webdriver.remote.webelement.WebElement (session=\"17f32be0475e1e6bbb12d10de727ecca\", element=\"3e051f13-f715-4cb0-b5e5-b6a0912c4db5\")>,\n",
       " <selenium.webdriver.remote.webelement.WebElement (session=\"17f32be0475e1e6bbb12d10de727ecca\", element=\"e15a99ed-dde0-49a8-b658-0e9c5b388020\")>,\n",
       " <selenium.webdriver.remote.webelement.WebElement (session=\"17f32be0475e1e6bbb12d10de727ecca\", element=\"660907d0-112e-495f-85f0-731fbf5041c2\")>,\n",
       " <selenium.webdriver.remote.webelement.WebElement (session=\"17f32be0475e1e6bbb12d10de727ecca\", element=\"f2503fc0-f700-432f-9d9f-4845eed314b2\")>,\n",
       " <selenium.webdriver.remote.webelement.WebElement (session=\"17f32be0475e1e6bbb12d10de727ecca\", element=\"621649c5-37fa-47c8-8c02-522854ff529f\")>,\n",
       " <selenium.webdriver.remote.webelement.WebElement (session=\"17f32be0475e1e6bbb12d10de727ecca\", element=\"f1464f8a-daa2-4114-8c4f-8692710b3be6\")>,\n",
       " <selenium.webdriver.remote.webelement.WebElement (session=\"17f32be0475e1e6bbb12d10de727ecca\", element=\"6f36a6c7-0163-412d-8369-81833bf6bebc\")>,\n",
       " <selenium.webdriver.remote.webelement.WebElement (session=\"17f32be0475e1e6bbb12d10de727ecca\", element=\"dbf81864-35a7-4777-a7a1-e84e629774fa\")>,\n",
       " <selenium.webdriver.remote.webelement.WebElement (session=\"17f32be0475e1e6bbb12d10de727ecca\", element=\"8d4ce87f-269f-4863-95a9-e0f5dd56c09e\")>,\n",
       " <selenium.webdriver.remote.webelement.WebElement (session=\"17f32be0475e1e6bbb12d10de727ecca\", element=\"ced0b716-3c76-4a9e-b518-46f6ff2777bd\")>,\n",
       " <selenium.webdriver.remote.webelement.WebElement (session=\"17f32be0475e1e6bbb12d10de727ecca\", element=\"45e39231-4fba-4d52-91bf-7c284882fa65\")>,\n",
       " <selenium.webdriver.remote.webelement.WebElement (session=\"17f32be0475e1e6bbb12d10de727ecca\", element=\"1609bf92-def7-4219-8e8c-a9e09f6eda3b\")>,\n",
       " <selenium.webdriver.remote.webelement.WebElement (session=\"17f32be0475e1e6bbb12d10de727ecca\", element=\"03fb5c66-95e7-4a3a-84ba-175329bf2100\")>,\n",
       " <selenium.webdriver.remote.webelement.WebElement (session=\"17f32be0475e1e6bbb12d10de727ecca\", element=\"4d1e7d46-efff-4192-adf6-bcb4352e9e1f\")>,\n",
       " <selenium.webdriver.remote.webelement.WebElement (session=\"17f32be0475e1e6bbb12d10de727ecca\", element=\"c5f08ec2-4a64-4bad-b7ab-d2dbae795bd1\")>]"
      ]
     },
     "execution_count": 20,
     "metadata": {},
     "output_type": "execute_result"
    }
   ],
   "source": [
    "#scraping the rating tag\n",
    "ratings=driver.find_elements_by_xpath(\"//span[@class='css-19pjha7 e1cjmv6j1']\")\n",
    "ratings"
   ]
  },
  {
   "cell_type": "code",
   "execution_count": 28,
   "metadata": {},
   "outputs": [
    {
     "data": {
      "text/plain": [
       "['4.1', '3.8', '3.8', '3.0', '3.9', '4.3', '5.0', '3.1', '3.8', '3.8']"
      ]
     },
     "execution_count": 28,
     "metadata": {},
     "output_type": "execute_result"
    }
   ],
   "source": [
    "#applying the forloop\n",
    "rating=[]\n",
    "for i in ratings:\n",
    "    rating.append(i.text)\n",
    "RATING =rating[:10]\n",
    "RATING"
   ]
  },
  {
   "cell_type": "code",
   "execution_count": 22,
   "metadata": {},
   "outputs": [
    {
     "data": {
      "text/plain": [
       "[<selenium.webdriver.remote.webelement.WebElement (session=\"17f32be0475e1e6bbb12d10de727ecca\", element=\"48fb37f0-f2bb-462c-bf34-71ca81d2aecf\")>,\n",
       " <selenium.webdriver.remote.webelement.WebElement (session=\"17f32be0475e1e6bbb12d10de727ecca\", element=\"051faae9-df8f-43db-a296-3eefe309a4c5\")>,\n",
       " <selenium.webdriver.remote.webelement.WebElement (session=\"17f32be0475e1e6bbb12d10de727ecca\", element=\"4572698a-eb88-4fa7-bd0b-90eb7a259197\")>,\n",
       " <selenium.webdriver.remote.webelement.WebElement (session=\"17f32be0475e1e6bbb12d10de727ecca\", element=\"417e8c1b-fef9-4a8f-a365-d78421021ea5\")>,\n",
       " <selenium.webdriver.remote.webelement.WebElement (session=\"17f32be0475e1e6bbb12d10de727ecca\", element=\"2277eb15-e159-4539-9622-687c84ed0691\")>,\n",
       " <selenium.webdriver.remote.webelement.WebElement (session=\"17f32be0475e1e6bbb12d10de727ecca\", element=\"ed6aaf1b-d987-4592-84b7-6df10eca89fd\")>,\n",
       " <selenium.webdriver.remote.webelement.WebElement (session=\"17f32be0475e1e6bbb12d10de727ecca\", element=\"ffdf1a8d-1160-4a20-b781-fb5f0084d892\")>,\n",
       " <selenium.webdriver.remote.webelement.WebElement (session=\"17f32be0475e1e6bbb12d10de727ecca\", element=\"081b0728-b3dc-4e39-adb3-b5fb4b497cf4\")>,\n",
       " <selenium.webdriver.remote.webelement.WebElement (session=\"17f32be0475e1e6bbb12d10de727ecca\", element=\"897d7414-92f9-45d6-85ac-0885ad737b46\")>,\n",
       " <selenium.webdriver.remote.webelement.WebElement (session=\"17f32be0475e1e6bbb12d10de727ecca\", element=\"4f22ebf3-13ae-478e-aa21-55e522b83b8e\")>,\n",
       " <selenium.webdriver.remote.webelement.WebElement (session=\"17f32be0475e1e6bbb12d10de727ecca\", element=\"07d4b594-446e-4cc5-9e21-a63001c28472\")>,\n",
       " <selenium.webdriver.remote.webelement.WebElement (session=\"17f32be0475e1e6bbb12d10de727ecca\", element=\"e4ee02b0-b6ce-47f0-bc83-6bc446450107\")>,\n",
       " <selenium.webdriver.remote.webelement.WebElement (session=\"17f32be0475e1e6bbb12d10de727ecca\", element=\"b464530a-0a73-4630-91cd-b52bb701cb14\")>,\n",
       " <selenium.webdriver.remote.webelement.WebElement (session=\"17f32be0475e1e6bbb12d10de727ecca\", element=\"fc37c2d5-4e18-4abb-bc44-cdcc1a86def7\")>,\n",
       " <selenium.webdriver.remote.webelement.WebElement (session=\"17f32be0475e1e6bbb12d10de727ecca\", element=\"8bb683ea-6e4a-4e2f-9342-41880e15fd7e\")>,\n",
       " <selenium.webdriver.remote.webelement.WebElement (session=\"17f32be0475e1e6bbb12d10de727ecca\", element=\"cf1e72df-d5f1-41bb-94af-dcc863957109\")>,\n",
       " <selenium.webdriver.remote.webelement.WebElement (session=\"17f32be0475e1e6bbb12d10de727ecca\", element=\"c0979bc1-c981-44ad-aff1-73d754790009\")>,\n",
       " <selenium.webdriver.remote.webelement.WebElement (session=\"17f32be0475e1e6bbb12d10de727ecca\", element=\"53b0b2f6-fb22-4b24-9879-22d1c266bca0\")>,\n",
       " <selenium.webdriver.remote.webelement.WebElement (session=\"17f32be0475e1e6bbb12d10de727ecca\", element=\"c7b16f5a-345f-41cb-aa0e-aec6d00c5365\")>,\n",
       " <selenium.webdriver.remote.webelement.WebElement (session=\"17f32be0475e1e6bbb12d10de727ecca\", element=\"c175e590-2e03-4177-bb3a-f927e23e3fde\")>,\n",
       " <selenium.webdriver.remote.webelement.WebElement (session=\"17f32be0475e1e6bbb12d10de727ecca\", element=\"419c7913-45cf-4438-b085-6763d34ad541\")>,\n",
       " <selenium.webdriver.remote.webelement.WebElement (session=\"17f32be0475e1e6bbb12d10de727ecca\", element=\"3eafe74e-c093-4555-8325-7e535f56e0f2\")>,\n",
       " <selenium.webdriver.remote.webelement.WebElement (session=\"17f32be0475e1e6bbb12d10de727ecca\", element=\"312476a5-7f6c-47c7-a218-b6a937ea714c\")>,\n",
       " <selenium.webdriver.remote.webelement.WebElement (session=\"17f32be0475e1e6bbb12d10de727ecca\", element=\"c55ef1f0-36c7-42cd-bd59-c2e0263229c2\")>,\n",
       " <selenium.webdriver.remote.webelement.WebElement (session=\"17f32be0475e1e6bbb12d10de727ecca\", element=\"d413ad0f-e395-454b-b020-3920670346d6\")>,\n",
       " <selenium.webdriver.remote.webelement.WebElement (session=\"17f32be0475e1e6bbb12d10de727ecca\", element=\"9eb7d4d0-2700-4ff8-95a5-2cc3f2746f22\")>,\n",
       " <selenium.webdriver.remote.webelement.WebElement (session=\"17f32be0475e1e6bbb12d10de727ecca\", element=\"44bf3635-60cc-41e8-a268-62918e43c3a5\")>,\n",
       " <selenium.webdriver.remote.webelement.WebElement (session=\"17f32be0475e1e6bbb12d10de727ecca\", element=\"a6d91cdc-8479-418a-ba21-f2f8501b874e\")>,\n",
       " <selenium.webdriver.remote.webelement.WebElement (session=\"17f32be0475e1e6bbb12d10de727ecca\", element=\"cbe7e4c7-b2ea-46cf-a086-2bd21df7d7f5\")>,\n",
       " <selenium.webdriver.remote.webelement.WebElement (session=\"17f32be0475e1e6bbb12d10de727ecca\", element=\"3fbbf471-4fe0-42ce-8a75-e5f826274c07\")>]"
      ]
     },
     "execution_count": 22,
     "metadata": {},
     "output_type": "execute_result"
    }
   ],
   "source": [
    "no_days=driver.find_elements_by_xpath(\"//div[@class='d-flex align-items-end pl-std css-mi55ob']\")\n",
    "no_days"
   ]
  },
  {
   "cell_type": "code",
   "execution_count": 29,
   "metadata": {},
   "outputs": [
    {
     "data": {
      "text/plain": [
       "['6d', '1d', '27d', '15d', '11d', '30d+', '19d', '10d', '30d+', '30d+']"
      ]
     },
     "execution_count": 29,
     "metadata": {},
     "output_type": "execute_result"
    }
   ],
   "source": [
    "#applying the forloop\n",
    "No_of_days=[]\n",
    "for i in no_days:\n",
    "    No_of_days.append(i.text)\n",
    "DAYS =No_of_days[:10]\n",
    "DAYS"
   ]
  },
  {
   "cell_type": "code",
   "execution_count": 31,
   "metadata": {},
   "outputs": [],
   "source": [
    "#appling the dataframe\n",
    "jobs=pd.DataFrame({})\n",
    "jobs['company']=COMPANY\n",
    "jobs['days']= DAYS\n",
    "jobs['rating']=RATING\n"
   ]
  },
  {
   "cell_type": "code",
   "execution_count": 32,
   "metadata": {},
   "outputs": [
    {
     "data": {
      "text/html": [
       "<div>\n",
       "<style scoped>\n",
       "    .dataframe tbody tr th:only-of-type {\n",
       "        vertical-align: middle;\n",
       "    }\n",
       "\n",
       "    .dataframe tbody tr th {\n",
       "        vertical-align: top;\n",
       "    }\n",
       "\n",
       "    .dataframe thead th {\n",
       "        text-align: right;\n",
       "    }\n",
       "</style>\n",
       "<table border=\"1\" class=\"dataframe\">\n",
       "  <thead>\n",
       "    <tr style=\"text-align: right;\">\n",
       "      <th></th>\n",
       "      <th>company</th>\n",
       "      <th>days</th>\n",
       "      <th>rating</th>\n",
       "    </tr>\n",
       "  </thead>\n",
       "  <tbody>\n",
       "    <tr>\n",
       "      <th>0</th>\n",
       "      <td>Ericsson</td>\n",
       "      <td>6d</td>\n",
       "      <td>4.1</td>\n",
       "    </tr>\n",
       "    <tr>\n",
       "      <th>1</th>\n",
       "      <td>Innovacer</td>\n",
       "      <td>1d</td>\n",
       "      <td>3.8</td>\n",
       "    </tr>\n",
       "    <tr>\n",
       "      <th>2</th>\n",
       "      <td>Crowe</td>\n",
       "      <td>27d</td>\n",
       "      <td>3.8</td>\n",
       "    </tr>\n",
       "    <tr>\n",
       "      <th>3</th>\n",
       "      <td>Data Patterns</td>\n",
       "      <td>15d</td>\n",
       "      <td>3.0</td>\n",
       "    </tr>\n",
       "    <tr>\n",
       "      <th>4</th>\n",
       "      <td>Algo8 AI Pvt. Ltd.</td>\n",
       "      <td>11d</td>\n",
       "      <td>3.9</td>\n",
       "    </tr>\n",
       "    <tr>\n",
       "      <th>5</th>\n",
       "      <td>Biz2Credit Inc</td>\n",
       "      <td>30d+</td>\n",
       "      <td>4.3</td>\n",
       "    </tr>\n",
       "    <tr>\n",
       "      <th>6</th>\n",
       "      <td>Ginger Webs Pvt. Ltd.</td>\n",
       "      <td>19d</td>\n",
       "      <td>5.0</td>\n",
       "    </tr>\n",
       "    <tr>\n",
       "      <th>7</th>\n",
       "      <td>Flip Robo Technologies</td>\n",
       "      <td>10d</td>\n",
       "      <td>3.1</td>\n",
       "    </tr>\n",
       "    <tr>\n",
       "      <th>8</th>\n",
       "      <td>Salasar New Age Technologies</td>\n",
       "      <td>30d+</td>\n",
       "      <td>3.8</td>\n",
       "    </tr>\n",
       "    <tr>\n",
       "      <th>9</th>\n",
       "      <td>Techlive</td>\n",
       "      <td>30d+</td>\n",
       "      <td>3.8</td>\n",
       "    </tr>\n",
       "  </tbody>\n",
       "</table>\n",
       "</div>"
      ],
      "text/plain": [
       "                        company  days rating\n",
       "0                      Ericsson    6d    4.1\n",
       "1                     Innovacer    1d    3.8\n",
       "2                         Crowe   27d    3.8\n",
       "3                 Data Patterns   15d    3.0\n",
       "4            Algo8 AI Pvt. Ltd.   11d    3.9\n",
       "5                Biz2Credit Inc  30d+    4.3\n",
       "6         Ginger Webs Pvt. Ltd.   19d    5.0\n",
       "7        Flip Robo Technologies   10d    3.1\n",
       "8  Salasar New Age Technologies  30d+    3.8\n",
       "9                      Techlive  30d+    3.8"
      ]
     },
     "execution_count": 32,
     "metadata": {},
     "output_type": "execute_result"
    }
   ],
   "source": [
    "#the data set\n",
    "jobs"
   ]
  },
  {
   "cell_type": "code",
   "execution_count": null,
   "metadata": {},
   "outputs": [],
   "source": []
  },
  {
   "cell_type": "markdown",
   "metadata": {},
   "source": [
    "# Write a python program to scrape the salary data for Data Scientist designation in Noida location"
   ]
  },
  {
   "cell_type": "code",
   "execution_count": 71,
   "metadata": {},
   "outputs": [],
   "source": [
    "#importing the libraries\n",
    "import selenium\n",
    "import pandas as pd\n",
    "from selenium import webdriver"
   ]
  },
  {
   "cell_type": "code",
   "execution_count": 72,
   "metadata": {},
   "outputs": [],
   "source": [
    "#importing the driver\n",
    "driver =webdriver.Chrome(r\"C:\\Users\\pavan\\Downloads\\chromedriver_win32\\chromedriver.exe\")"
   ]
  },
  {
   "cell_type": "code",
   "execution_count": 73,
   "metadata": {},
   "outputs": [],
   "source": [
    "#importing the url\n",
    "url = 'https://www.glassdoor.co.in/Salaries/index.htm'\n",
    "driver.get(url)"
   ]
  },
  {
   "cell_type": "code",
   "execution_count": 74,
   "metadata": {},
   "outputs": [
    {
     "data": {
      "text/plain": [
       "<selenium.webdriver.remote.webelement.WebElement (session=\"545c94532d82daa3688855f5a81d2578\", element=\"e3cdace5-0ec3-4df5-aca7-d597aa29823d\")>"
      ]
     },
     "execution_count": 74,
     "metadata": {},
     "output_type": "execute_result"
    }
   ],
   "source": [
    "#importing the keyword\n",
    "search_job = driver.find_element_by_id('KeywordSearch')\n",
    "search_job"
   ]
  },
  {
   "cell_type": "code",
   "execution_count": 75,
   "metadata": {},
   "outputs": [],
   "source": [
    "search_job.send_keys('Data Scientist')"
   ]
  },
  {
   "cell_type": "code",
   "execution_count": 78,
   "metadata": {},
   "outputs": [],
   "source": [
    "#impoting the location tag\n",
    "search_loc = driver.find_element_by_id('LocationSearch')\n",
    "search_loc.send_keys('Noida')"
   ]
  },
  {
   "cell_type": "code",
   "execution_count": 79,
   "metadata": {},
   "outputs": [],
   "source": [
    "#clicking the search button\n",
    "search_btn = driver.find_element_by_xpath(\"//button[@class='gd-btn-mkt']\")\n",
    "search_btn.click()"
   ]
  },
  {
   "cell_type": "code",
   "execution_count": 104,
   "metadata": {},
   "outputs": [],
   "source": [
    "Company=company[0:20]"
   ]
  },
  {
   "cell_type": "code",
   "execution_count": 94,
   "metadata": {},
   "outputs": [],
   "source": [
    "#applying the forloop\n",
    "avg_salary=[]\n",
    "rating=driver.find_elements_by_xpath(\"//div[@class='col-12 col-lg-4 px-lg-0 d-flex align-items-baseline']\")\n",
    "for i in rating:\n",
    "    avg_salary.append(i.text)\n"
   ]
  },
  {
   "cell_type": "code",
   "execution_count": 95,
   "metadata": {},
   "outputs": [
    {
     "data": {
      "text/plain": [
       "['₹6,81,824\\n /yr',\n",
       " '₹7,92,804\\n /yr',\n",
       " '₹20,00,000\\n /yr',\n",
       " '₹x,xx,xxx\\n /yr',\n",
       " '₹xx,xx,xxx\\n /yr',\n",
       " '₹xx,xx,xxx\\n /yr',\n",
       " '₹xx,xxx\\n /mo',\n",
       " '₹xx,xx,xxx\\n /yr',\n",
       " '₹xx,xx,xxx\\n /yr',\n",
       " '₹xx,xx,xxx\\n /yr',\n",
       " '₹xx,xx,xxx\\n /yr',\n",
       " '₹x,xx,xxx\\n /yr',\n",
       " '₹xx,xxx\\n /mo',\n",
       " '₹x,xx,xxx\\n /yr',\n",
       " '₹x,xx,xxx\\n /yr',\n",
       " '₹x,xx,xxx\\n /yr',\n",
       " '₹xx,xx,xxx\\n /yr',\n",
       " '₹x,xx,xxx\\n /yr',\n",
       " '₹xx,xx,xxx\\n /yr',\n",
       " '₹xx,xx,xxx\\n /yr']"
      ]
     },
     "execution_count": 95,
     "metadata": {},
     "output_type": "execute_result"
    }
   ],
   "source": [
    "avg_salary"
   ]
  },
  {
   "cell_type": "code",
   "execution_count": 102,
   "metadata": {},
   "outputs": [
    {
     "data": {
      "text/plain": [
       "['₹86T\\n₹14L',\n",
       " '₹5L\\n₹72L',\n",
       " '₹10L\\n₹21L',\n",
       " '₹xL\\n₹xxL',\n",
       " '₹xL\\n₹xxL',\n",
       " '₹xL\\n₹xxL',\n",
       " '₹xxT\\n₹xL',\n",
       " '₹xxL\\n₹xxL',\n",
       " '₹xxL\\n₹xxL',\n",
       " '₹xxL\\n₹xxL',\n",
       " '₹xxL\\n₹xxL',\n",
       " '₹xL\\n₹xxL',\n",
       " '₹xxT\\n₹xL',\n",
       " '₹xL\\n₹xxL',\n",
       " '₹xL\\n₹xxL',\n",
       " '₹xL\\n₹xxL',\n",
       " '₹xL\\n₹xxL',\n",
       " '₹xL\\n₹xxL',\n",
       " '₹xL\\n₹xxL',\n",
       " '₹xL\\n₹xxL']"
      ]
     },
     "execution_count": 102,
     "metadata": {},
     "output_type": "execute_result"
    }
   ],
   "source": [
    "#applying the forloop\n",
    "salary_range=[]\n",
    "rating=driver.find_elements_by_xpath(\"//div[@class='d-flex mt-xxsm css-79elbk epuxyqn0']\")\n",
    "for i in rating:\n",
    "    salary_range.append(i.text)\n",
    "salary_range"
   ]
  },
  {
   "cell_type": "code",
   "execution_count": 105,
   "metadata": {},
   "outputs": [],
   "source": [
    "#appling the dataframe\n",
    "salary_data=pd.DataFrame({})\n",
    "salary_data['company']=Company\n",
    "salary_data['avg_salary']=avg_salary\n",
    "salary_data['range']=salary_range\n"
   ]
  },
  {
   "cell_type": "code",
   "execution_count": 106,
   "metadata": {},
   "outputs": [
    {
     "data": {
      "text/html": [
       "<div>\n",
       "<style scoped>\n",
       "    .dataframe tbody tr th:only-of-type {\n",
       "        vertical-align: middle;\n",
       "    }\n",
       "\n",
       "    .dataframe tbody tr th {\n",
       "        vertical-align: top;\n",
       "    }\n",
       "\n",
       "    .dataframe thead th {\n",
       "        text-align: right;\n",
       "    }\n",
       "</style>\n",
       "<table border=\"1\" class=\"dataframe\">\n",
       "  <thead>\n",
       "    <tr style=\"text-align: right;\">\n",
       "      <th></th>\n",
       "      <th>company</th>\n",
       "      <th>avg_salary</th>\n",
       "      <th>range</th>\n",
       "    </tr>\n",
       "  </thead>\n",
       "  <tbody>\n",
       "    <tr>\n",
       "      <th>0</th>\n",
       "      <td>IBM</td>\n",
       "      <td>₹6,81,824\\n /yr</td>\n",
       "      <td>₹86T\\n₹14L</td>\n",
       "    </tr>\n",
       "    <tr>\n",
       "      <th>1</th>\n",
       "      <td>Tata Consultancy Services</td>\n",
       "      <td>₹7,92,804\\n /yr</td>\n",
       "      <td>₹5L\\n₹72L</td>\n",
       "    </tr>\n",
       "    <tr>\n",
       "      <th>2</th>\n",
       "      <td>Accenture</td>\n",
       "      <td>₹20,00,000\\n /yr</td>\n",
       "      <td>₹10L\\n₹21L</td>\n",
       "    </tr>\n",
       "    <tr>\n",
       "      <th>3</th>\n",
       "      <td>Delhivery</td>\n",
       "      <td>₹x,xx,xxx\\n /yr</td>\n",
       "      <td>₹xL\\n₹xxL</td>\n",
       "    </tr>\n",
       "    <tr>\n",
       "      <th>4</th>\n",
       "      <td>Ericsson-Worldwide</td>\n",
       "      <td>₹xx,xx,xxx\\n /yr</td>\n",
       "      <td>₹xL\\n₹xxL</td>\n",
       "    </tr>\n",
       "  </tbody>\n",
       "</table>\n",
       "</div>"
      ],
      "text/plain": [
       "                     company        avg_salary       range\n",
       "0                        IBM   ₹6,81,824\\n /yr  ₹86T\\n₹14L\n",
       "1  Tata Consultancy Services   ₹7,92,804\\n /yr   ₹5L\\n₹72L\n",
       "2                  Accenture  ₹20,00,000\\n /yr  ₹10L\\n₹21L\n",
       "3                  Delhivery   ₹x,xx,xxx\\n /yr   ₹xL\\n₹xxL\n",
       "4         Ericsson-Worldwide  ₹xx,xx,xxx\\n /yr   ₹xL\\n₹xxL"
      ]
     },
     "execution_count": 106,
     "metadata": {},
     "output_type": "execute_result"
    }
   ],
   "source": [
    "#the data set\n",
    "salary_data.head()"
   ]
  },
  {
   "cell_type": "code",
   "execution_count": null,
   "metadata": {},
   "outputs": [],
   "source": []
  },
  {
   "cell_type": "markdown",
   "metadata": {},
   "source": [
    "# Scrape data of first 100 sunglasses listings on flipkart.com. You have to scrape four attributes:\n"
   ]
  },
  {
   "cell_type": "code",
   "execution_count": 1,
   "metadata": {},
   "outputs": [],
   "source": [
    "#importing the libraries\n",
    "import selenium\n",
    "import pandas as pd\n",
    "from selenium import webdriver\n",
    "import time\n",
    "from selenium.common.exceptions import ElementNotInteractableException, NoSuchElementException"
   ]
  },
  {
   "cell_type": "code",
   "execution_count": 2,
   "metadata": {},
   "outputs": [],
   "source": [
    "#importing the url\n",
    "driver =webdriver.Chrome(r\"C:\\Users\\pavan\\Downloads\\chromedriver_win32\\chromedriver.exe\")\n",
    "url = 'https://www.flipkart.com/search?q=sunglasses&sid=26x&as=on&as-show=on&otracker=AS_QueryStore_OrganicAutoSuggest_1_2_na_na_na&otracker1=AS_QueryStore_OrganicAutoSuggest_1_2_na_na_na&as-pos=1&as-type=RECENT&suggestionId=sunglasses%7CSunglasses&requestId=b3f10c38-d189-4264-9e64-d1979dfc9cdd&as-backfill=on'\n",
    "driver.get(url)\n"
   ]
  },
  {
   "cell_type": "code",
   "execution_count": 3,
   "metadata": {},
   "outputs": [],
   "source": [
    "#applying the forloop\n",
    "brand_name=[]\n",
    "for i in range(0,4):\n",
    "    brand=driver.find_elements_by_xpath(\"//div[@class='_2WkVRV']\")\n",
    "    for i in brand:\n",
    "        brand_name.append(i.text)\n",
    "    next_button=driver.find_element_by_xpath(\"//a[@class='_1LKTO3']//span\")\n",
    "    next_button.click()\n",
    "    time.sleep(2)\n",
    "    "
   ]
  },
  {
   "cell_type": "code",
   "execution_count": 4,
   "metadata": {},
   "outputs": [],
   "source": [
    "brand_names=brand_name[:100]"
   ]
  },
  {
   "cell_type": "code",
   "execution_count": 5,
   "metadata": {},
   "outputs": [],
   "source": [
    "#applying the forloop\n",
    "product_description=[]\n",
    "for i in range(0,4):\n",
    "    description=driver.find_elements_by_xpath(\"//a[@class='IRpwTa']\")\n",
    "    for i in description:\n",
    "        product_description.append(i.text)\n",
    "    next_button=driver.find_element_by_xpath(\"//a[@class='_1LKTO3']//span\")\n",
    "    next_button.click()\n",
    "    time.sleep(2)"
   ]
  },
  {
   "cell_type": "code",
   "execution_count": 6,
   "metadata": {},
   "outputs": [],
   "source": [
    "Product_description=product_description[:100]"
   ]
  },
  {
   "cell_type": "code",
   "execution_count": null,
   "metadata": {},
   "outputs": [],
   "source": [
    "#applying the forloop\n",
    "price=[]\n",
    "for i in range(0,4):\n",
    "    price_tag=driver.find_elements_by_xpath(\"//div[@class='_30jeq3']\")\n",
    "    for i in price_tag:\n",
    "        price.append(i.text)\n",
    "    next_button=driver.find_element_by_xpath(\"//a[@class='_1LKTO3']//span\")\n",
    "    next_button.click()\n",
    "    time.sleep(2)"
   ]
  },
  {
   "cell_type": "code",
   "execution_count": 8,
   "metadata": {},
   "outputs": [],
   "source": [
    "Price=price[:100]"
   ]
  },
  {
   "cell_type": "code",
   "execution_count": 9,
   "metadata": {},
   "outputs": [],
   "source": [
    "#applying the forloop\n",
    "discount=[]\n",
    "for i in range(0,4):\n",
    "    discount_tag=driver.find_elements_by_xpath(\"//div[@class='_3Ay6Sb']\")\n",
    "    for i in discount_tag:\n",
    "        discount.append(i.text)\n",
    "    next_button=driver.find_element_by_xpath(\"//a[@class='_1LKTO3']//span\")\n",
    "    next_button.click()\n",
    "    time.sleep(2)"
   ]
  },
  {
   "cell_type": "code",
   "execution_count": 10,
   "metadata": {},
   "outputs": [],
   "source": [
    "Discount=discount[:100]"
   ]
  },
  {
   "cell_type": "code",
   "execution_count": 11,
   "metadata": {},
   "outputs": [],
   "source": [
    "#appling the dataframe\n",
    "sunglasses=pd.DataFrame({})\n",
    "sunglasses['brand']=brand_names\n",
    "sunglasses['product_description']=Product_description\n",
    "sunglasses['price']=Price\n",
    "sunglasses['discount']=Discount\n"
   ]
  },
  {
   "cell_type": "code",
   "execution_count": 12,
   "metadata": {},
   "outputs": [
    {
     "data": {
      "text/html": [
       "<div>\n",
       "<style scoped>\n",
       "    .dataframe tbody tr th:only-of-type {\n",
       "        vertical-align: middle;\n",
       "    }\n",
       "\n",
       "    .dataframe tbody tr th {\n",
       "        vertical-align: top;\n",
       "    }\n",
       "\n",
       "    .dataframe thead th {\n",
       "        text-align: right;\n",
       "    }\n",
       "</style>\n",
       "<table border=\"1\" class=\"dataframe\">\n",
       "  <thead>\n",
       "    <tr style=\"text-align: right;\">\n",
       "      <th></th>\n",
       "      <th>brand</th>\n",
       "      <th>product_description</th>\n",
       "      <th>price</th>\n",
       "      <th>discount</th>\n",
       "    </tr>\n",
       "  </thead>\n",
       "  <tbody>\n",
       "    <tr>\n",
       "      <th>0</th>\n",
       "      <td>Wrogn</td>\n",
       "      <td>Mirrored Wayfarer Sunglasses (51)</td>\n",
       "      <td>₹663</td>\n",
       "      <td>79% off</td>\n",
       "    </tr>\n",
       "    <tr>\n",
       "      <th>1</th>\n",
       "      <td>Fravy</td>\n",
       "      <td>Mirrored, UV Protection Wayfarer Sunglasses (F...</td>\n",
       "      <td>₹284</td>\n",
       "      <td>34% off</td>\n",
       "    </tr>\n",
       "    <tr>\n",
       "      <th>2</th>\n",
       "      <td>kingsunglasses</td>\n",
       "      <td>UV Protection Wayfarer Sunglasses (Free Size)</td>\n",
       "      <td>₹299</td>\n",
       "      <td>81% off</td>\n",
       "    </tr>\n",
       "    <tr>\n",
       "      <th>3</th>\n",
       "      <td>Fastrack</td>\n",
       "      <td>UV Protection Rectangular Sunglasses (Free Size)</td>\n",
       "      <td>₹758</td>\n",
       "      <td>84% off</td>\n",
       "    </tr>\n",
       "    <tr>\n",
       "      <th>4</th>\n",
       "      <td>Fastrack</td>\n",
       "      <td>UV Protection Aviator Sunglasses (54)</td>\n",
       "      <td>₹513</td>\n",
       "      <td>85% off</td>\n",
       "    </tr>\n",
       "    <tr>\n",
       "      <th>...</th>\n",
       "      <td>...</td>\n",
       "      <td>...</td>\n",
       "      <td>...</td>\n",
       "      <td>...</td>\n",
       "    </tr>\n",
       "    <tr>\n",
       "      <th>95</th>\n",
       "      <td>ROYAL SON</td>\n",
       "      <td>UV Protection Rectangular Sunglasses (55)</td>\n",
       "      <td>₹854</td>\n",
       "      <td>83% off</td>\n",
       "    </tr>\n",
       "    <tr>\n",
       "      <th>96</th>\n",
       "      <td>Fastrack</td>\n",
       "      <td>UV Protection, Gradient Butterfly Sunglasses (60)</td>\n",
       "      <td>₹612</td>\n",
       "      <td>80% off</td>\n",
       "    </tr>\n",
       "    <tr>\n",
       "      <th>97</th>\n",
       "      <td>kingsunglasses</td>\n",
       "      <td>UV Protection Wayfarer Sunglasses (Free Size)</td>\n",
       "      <td>₹225</td>\n",
       "      <td>79% off</td>\n",
       "    </tr>\n",
       "    <tr>\n",
       "      <th>98</th>\n",
       "      <td>kingsunglasses</td>\n",
       "      <td>UV Protection Rectangular Sunglasses (Free Size)</td>\n",
       "      <td>₹349</td>\n",
       "      <td>78% off</td>\n",
       "    </tr>\n",
       "    <tr>\n",
       "      <th>99</th>\n",
       "      <td>ROYAL SON</td>\n",
       "      <td>UV Protection Aviator Sunglasses (58)</td>\n",
       "      <td>₹349</td>\n",
       "      <td>82% off</td>\n",
       "    </tr>\n",
       "  </tbody>\n",
       "</table>\n",
       "<p>100 rows × 4 columns</p>\n",
       "</div>"
      ],
      "text/plain": [
       "             brand                                product_description price  \\\n",
       "0            Wrogn                  Mirrored Wayfarer Sunglasses (51)  ₹663   \n",
       "1            Fravy  Mirrored, UV Protection Wayfarer Sunglasses (F...  ₹284   \n",
       "2   kingsunglasses      UV Protection Wayfarer Sunglasses (Free Size)  ₹299   \n",
       "3         Fastrack   UV Protection Rectangular Sunglasses (Free Size)  ₹758   \n",
       "4         Fastrack              UV Protection Aviator Sunglasses (54)  ₹513   \n",
       "..             ...                                                ...   ...   \n",
       "95       ROYAL SON          UV Protection Rectangular Sunglasses (55)  ₹854   \n",
       "96        Fastrack  UV Protection, Gradient Butterfly Sunglasses (60)  ₹612   \n",
       "97  kingsunglasses      UV Protection Wayfarer Sunglasses (Free Size)  ₹225   \n",
       "98  kingsunglasses   UV Protection Rectangular Sunglasses (Free Size)  ₹349   \n",
       "99       ROYAL SON              UV Protection Aviator Sunglasses (58)  ₹349   \n",
       "\n",
       "   discount  \n",
       "0   79% off  \n",
       "1   34% off  \n",
       "2   81% off  \n",
       "3   84% off  \n",
       "4   85% off  \n",
       "..      ...  \n",
       "95  83% off  \n",
       "96  80% off  \n",
       "97  79% off  \n",
       "98  78% off  \n",
       "99  82% off  \n",
       "\n",
       "[100 rows x 4 columns]"
      ]
     },
     "execution_count": 12,
     "metadata": {},
     "output_type": "execute_result"
    }
   ],
   "source": [
    "#the data set\n",
    "sunglasses.head(100)"
   ]
  },
  {
   "cell_type": "code",
   "execution_count": null,
   "metadata": {},
   "outputs": [],
   "source": []
  },
  {
   "cell_type": "markdown",
   "metadata": {},
   "source": [
    "# Scrape 100 reviews data from flipkart.com for iphone11 phone. You have to go the link"
   ]
  },
  {
   "cell_type": "code",
   "execution_count": 47,
   "metadata": {},
   "outputs": [],
   "source": [
    "#importing the libraries\n",
    "import selenium\n",
    "import pandas as pd\n",
    "from selenium import webdriver\n",
    "import time\n",
    "from selenium.common.exceptions import ElementNotInteractableException, NoSuchElementException"
   ]
  },
  {
   "cell_type": "code",
   "execution_count": 48,
   "metadata": {},
   "outputs": [],
   "source": [
    "#importing the driver\n",
    "driver =webdriver.Chrome(r\"C:\\Users\\pavan\\Downloads\\chromedriver_win32\\chromedriver.exe\")\n"
   ]
  },
  {
   "cell_type": "code",
   "execution_count": 50,
   "metadata": {},
   "outputs": [],
   "source": [
    "#importing the url\n",
    "url = 'https://www.flipkart.com/search?q=sneakers&sid=osp%2Ccil%2Ce1f&as=on&as-show=on&otracker=AS_QueryStore_OrganicAutoSuggest_1_5_na_na_na&otracker1=AS_QueryStore_OrganicAutoSuggest_1_5_na_na_na&as-pos=1&as-type=RECENT&suggestionId=sneakers%7CMen%27s+Casual+Shoes&requestId=2258a67d-f219-4199-994e-3b087b19d2ef&as-backfill=on'\n",
    "driver.get(url)\n"
   ]
  },
  {
   "cell_type": "code",
   "execution_count": 51,
   "metadata": {},
   "outputs": [],
   "source": [
    "#applying the forloop\n",
    "brand_name=[]\n",
    "for i in range(0,4):\n",
    "    brand=driver.find_elements_by_xpath(\"//div[@class='_2WkVRV']\")\n",
    "    for i in brand:\n",
    "        brand_name.append(i.text)\n",
    "    next_button=driver.find_element_by_xpath(\"//a[@class='_1LKTO3']//span\")\n",
    "    next_button.click()\n",
    "    time.sleep(2)\n",
    "    "
   ]
  },
  {
   "cell_type": "code",
   "execution_count": 52,
   "metadata": {},
   "outputs": [],
   "source": [
    "brand_names=brand_name[:100]"
   ]
  },
  {
   "cell_type": "code",
   "execution_count": 53,
   "metadata": {},
   "outputs": [],
   "source": [
    "#applying the forloop\n",
    "product_description=[]\n",
    "for i in range(0,4):\n",
    "    description=driver.find_elements_by_xpath(\"//a[@class='IRpwTa']\")\n",
    "    for i in description:\n",
    "        product_description.append(i.text)\n",
    "    next_button=driver.find_element_by_xpath(\"//a[@class='_1LKTO3']//span\")\n",
    "    next_button.click()\n",
    "    time.sleep(2)"
   ]
  },
  {
   "cell_type": "code",
   "execution_count": 54,
   "metadata": {},
   "outputs": [],
   "source": [
    "Product_description=product_description[:100]"
   ]
  },
  {
   "cell_type": "code",
   "execution_count": 55,
   "metadata": {},
   "outputs": [],
   "source": [
    "#applying the forloop\n",
    "price=[]\n",
    "for i in range(0,4):\n",
    "    price_tag=driver.find_elements_by_xpath(\"//div[@class='_30jeq3']\")\n",
    "    for i in price_tag:\n",
    "        price.append(i.text)\n",
    "    next_button=driver.find_element_by_xpath(\"//a[@class='_1LKTO3']//span\")\n",
    "    next_button.click()\n",
    "    time.sleep(2)"
   ]
  },
  {
   "cell_type": "code",
   "execution_count": 56,
   "metadata": {},
   "outputs": [],
   "source": [
    "Price=price[:100]"
   ]
  },
  {
   "cell_type": "code",
   "execution_count": 57,
   "metadata": {},
   "outputs": [],
   "source": [
    "#applying the forloop\n",
    "discount=[]\n",
    "for i in range(0,4):\n",
    "    discount_tag=driver.find_elements_by_xpath(\"//div[@class='_3Ay6Sb']\")\n",
    "    for i in discount_tag:\n",
    "        discount.append(i.text)\n",
    "    next_button=driver.find_element_by_xpath(\"//a[@class='_1LKTO3']//span\")\n",
    "    next_button.click()\n",
    "    time.sleep(2)"
   ]
  },
  {
   "cell_type": "code",
   "execution_count": 58,
   "metadata": {},
   "outputs": [],
   "source": [
    "Discount=discount[:100]"
   ]
  },
  {
   "cell_type": "code",
   "execution_count": 60,
   "metadata": {},
   "outputs": [],
   "source": [
    "#appling the dataframe\n",
    "sneakers=pd.DataFrame({})\n",
    "sneakers['brand']=brand_names\n",
    "sneakers['product_description']=Product_description\n",
    "sneakers['price']=Price\n",
    "sneakers['discount']=Discount"
   ]
  },
  {
   "cell_type": "code",
   "execution_count": 62,
   "metadata": {},
   "outputs": [
    {
     "data": {
      "text/html": [
       "<div>\n",
       "<style scoped>\n",
       "    .dataframe tbody tr th:only-of-type {\n",
       "        vertical-align: middle;\n",
       "    }\n",
       "\n",
       "    .dataframe tbody tr th {\n",
       "        vertical-align: top;\n",
       "    }\n",
       "\n",
       "    .dataframe thead th {\n",
       "        text-align: right;\n",
       "    }\n",
       "</style>\n",
       "<table border=\"1\" class=\"dataframe\">\n",
       "  <thead>\n",
       "    <tr style=\"text-align: right;\">\n",
       "      <th></th>\n",
       "      <th>brand</th>\n",
       "      <th>product_description</th>\n",
       "      <th>price</th>\n",
       "      <th>discount</th>\n",
       "    </tr>\n",
       "  </thead>\n",
       "  <tbody>\n",
       "    <tr>\n",
       "      <th>0</th>\n",
       "      <td>BRUTON</td>\n",
       "      <td>Raptor Sneakers For Men</td>\n",
       "      <td>₹423</td>\n",
       "      <td>40% off</td>\n",
       "    </tr>\n",
       "    <tr>\n",
       "      <th>1</th>\n",
       "      <td>tigonis</td>\n",
       "      <td>Casual Sneakers Shoes For Men Sneakers For Men</td>\n",
       "      <td>₹429</td>\n",
       "      <td>79% off</td>\n",
       "    </tr>\n",
       "    <tr>\n",
       "      <th>2</th>\n",
       "      <td>Robbie jones</td>\n",
       "      <td>Original Luxury Branded Fashionable Men's Casu...</td>\n",
       "      <td>₹379</td>\n",
       "      <td>62% off</td>\n",
       "    </tr>\n",
       "    <tr>\n",
       "      <th>3</th>\n",
       "      <td>ASTEROID</td>\n",
       "      <td>Sneakers For Men</td>\n",
       "      <td>₹499</td>\n",
       "      <td>75% off</td>\n",
       "    </tr>\n",
       "    <tr>\n",
       "      <th>4</th>\n",
       "      <td>Numenzo</td>\n",
       "      <td>Combo Pack of 4 Casual Shoes Sneakers For Men</td>\n",
       "      <td>₹398</td>\n",
       "      <td>60% off</td>\n",
       "    </tr>\n",
       "    <tr>\n",
       "      <th>...</th>\n",
       "      <td>...</td>\n",
       "      <td>...</td>\n",
       "      <td>...</td>\n",
       "      <td>...</td>\n",
       "    </tr>\n",
       "    <tr>\n",
       "      <th>95</th>\n",
       "      <td>bluemaker</td>\n",
       "      <td>Combo Pack Of 4 Casual Shoes Loafer Shoes Snea...</td>\n",
       "      <td>₹499</td>\n",
       "      <td>66% off</td>\n",
       "    </tr>\n",
       "    <tr>\n",
       "      <th>96</th>\n",
       "      <td>Chevit</td>\n",
       "      <td>Casual Sneakers White Shoes For Men Sneakers F...</td>\n",
       "      <td>₹389</td>\n",
       "      <td>22% off</td>\n",
       "    </tr>\n",
       "    <tr>\n",
       "      <th>97</th>\n",
       "      <td>Chevit</td>\n",
       "      <td>Casual , Partywear Sneakers Shoes For Men's An...</td>\n",
       "      <td>₹759</td>\n",
       "      <td>69% off</td>\n",
       "    </tr>\n",
       "    <tr>\n",
       "      <th>98</th>\n",
       "      <td>believe</td>\n",
       "      <td>casual for men (blue 09) Sneakers For Men</td>\n",
       "      <td>₹449</td>\n",
       "      <td>55% off</td>\n",
       "    </tr>\n",
       "    <tr>\n",
       "      <th>99</th>\n",
       "      <td>India hub</td>\n",
       "      <td>Synthetic Leather Casual Partywear Wedding Sne...</td>\n",
       "      <td>₹449</td>\n",
       "      <td>40% off</td>\n",
       "    </tr>\n",
       "  </tbody>\n",
       "</table>\n",
       "<p>100 rows × 4 columns</p>\n",
       "</div>"
      ],
      "text/plain": [
       "           brand                                product_description price  \\\n",
       "0         BRUTON                            Raptor Sneakers For Men  ₹423   \n",
       "1        tigonis     Casual Sneakers Shoes For Men Sneakers For Men  ₹429   \n",
       "2   Robbie jones  Original Luxury Branded Fashionable Men's Casu...  ₹379   \n",
       "3       ASTEROID                                   Sneakers For Men  ₹499   \n",
       "4        Numenzo      Combo Pack of 4 Casual Shoes Sneakers For Men  ₹398   \n",
       "..           ...                                                ...   ...   \n",
       "95     bluemaker  Combo Pack Of 4 Casual Shoes Loafer Shoes Snea...  ₹499   \n",
       "96        Chevit  Casual Sneakers White Shoes For Men Sneakers F...  ₹389   \n",
       "97        Chevit  Casual , Partywear Sneakers Shoes For Men's An...  ₹759   \n",
       "98       believe          casual for men (blue 09) Sneakers For Men  ₹449   \n",
       "99     India hub  Synthetic Leather Casual Partywear Wedding Sne...  ₹449   \n",
       "\n",
       "   discount  \n",
       "0   40% off  \n",
       "1   79% off  \n",
       "2   62% off  \n",
       "3   75% off  \n",
       "4   60% off  \n",
       "..      ...  \n",
       "95  66% off  \n",
       "96  22% off  \n",
       "97  69% off  \n",
       "98  55% off  \n",
       "99  40% off  \n",
       "\n",
       "[100 rows x 4 columns]"
      ]
     },
     "execution_count": 62,
     "metadata": {},
     "output_type": "execute_result"
    }
   ],
   "source": [
    "#the data set\n",
    "sneakers"
   ]
  },
  {
   "cell_type": "code",
   "execution_count": null,
   "metadata": {},
   "outputs": [],
   "source": []
  },
  {
   "cell_type": "markdown",
   "metadata": {},
   "source": [
    "# Scrape data for first 100 sneakers you find when you visit flipkart.com and search for “sneakers” in the search field."
   ]
  },
  {
   "cell_type": "code",
   "execution_count": 125,
   "metadata": {},
   "outputs": [],
   "source": [
    "#importing the libraries\n",
    "import selenium\n",
    "import pandas as pd\n",
    "from selenium import webdriver\n",
    "import time\n",
    "from selenium.common.exceptions import ElementNotInteractableException, NoSuchElementException"
   ]
  },
  {
   "cell_type": "code",
   "execution_count": 126,
   "metadata": {},
   "outputs": [],
   "source": [
    "#importing the driver\n",
    "driver =webdriver.Chrome(r\"C:\\Users\\pavan\\Downloads\\chromedriver_win32\\chromedriver.exe\")\n"
   ]
  },
  {
   "cell_type": "code",
   "execution_count": 127,
   "metadata": {},
   "outputs": [],
   "source": [
    "#importing the url\n",
    "url='https://www.myntra.com/shoes'\n",
    "driver.get(url)"
   ]
  },
  {
   "cell_type": "code",
   "execution_count": 128,
   "metadata": {},
   "outputs": [],
   "source": [
    "#applying the price filter\n",
    "price_filter = driver.find_element_by_xpath('/html/body/div[2]/div/div[1]/main/div[3]/div[1]/section/div/div[5]/ul/li[2]/label')\n",
    "price_filter.click()"
   ]
  },
  {
   "cell_type": "code",
   "execution_count": 129,
   "metadata": {},
   "outputs": [],
   "source": [
    "#applying the colour filter\n",
    "colour_filter = driver.find_element_by_xpath('/html/body/div[2]/div/div[1]/main/div[3]/div[1]/section/div/div[6]/ul/li[1]/label')\n",
    "colour_filter.click()"
   ]
  },
  {
   "cell_type": "code",
   "execution_count": 130,
   "metadata": {},
   "outputs": [],
   "source": [
    "#applying the forloop\n",
    "brand_name=[]\n",
    "for i in range(0,4):\n",
    "    brand=driver.find_elements_by_xpath(\"//h3[@class='product-brand']\")\n",
    "    for i in brand:\n",
    "        brand_name.append(i.text)\n",
    "    next_button=driver.find_element_by_xpath(\"//li[@class='pagination-next']\")\n",
    "    next_button.click()\n",
    "    time.sleep(2)\n",
    "    "
   ]
  },
  {
   "cell_type": "code",
   "execution_count": 131,
   "metadata": {},
   "outputs": [],
   "source": [
    "brand_names=brand_name[:100]"
   ]
  },
  {
   "cell_type": "code",
   "execution_count": 132,
   "metadata": {},
   "outputs": [],
   "source": [
    "#applying the forloop\n",
    "product_description=[]\n",
    "for i in range(0,4):\n",
    "    description=driver.find_elements_by_xpath(\"//h4[@class='product-product']\")\n",
    "    for i in description:\n",
    "        product_description.append(i.text)\n",
    "    next_button=driver.find_element_by_xpath(\"//li[@class='pagination-next']\")\n",
    "    next_button.click()\n",
    "    time.sleep(2)"
   ]
  },
  {
   "cell_type": "code",
   "execution_count": 133,
   "metadata": {},
   "outputs": [],
   "source": [
    "Product_description=product_description[:100]"
   ]
  },
  {
   "cell_type": "code",
   "execution_count": 134,
   "metadata": {},
   "outputs": [],
   "source": [
    "#applying the forloop\n",
    "price=[]\n",
    "for i in range(0,2):\n",
    "    price_tag=driver.find_elements_by_xpath(\"//div[@class='product-price']\")\n",
    "    for i in price_tag:\n",
    "        price.append(i.text)\n",
    "    next_button=driver.find_element_by_xpath(\"//li[@class='pagination-next']\")\n",
    "    next_button.click()\n",
    "    time.sleep(2)"
   ]
  },
  {
   "cell_type": "code",
   "execution_count": 135,
   "metadata": {},
   "outputs": [],
   "source": [
    "Price=price[:100]"
   ]
  },
  {
   "cell_type": "code",
   "execution_count": 136,
   "metadata": {},
   "outputs": [],
   "source": [
    "#appling the dataframe\n",
    "shoes=pd.DataFrame({})\n",
    "shoes['brand']=brand_names\n",
    "shoes['product_description']=Product_description\n",
    "shoes['price']=Price\n"
   ]
  },
  {
   "cell_type": "code",
   "execution_count": 137,
   "metadata": {},
   "outputs": [
    {
     "data": {
      "text/html": [
       "<div>\n",
       "<style scoped>\n",
       "    .dataframe tbody tr th:only-of-type {\n",
       "        vertical-align: middle;\n",
       "    }\n",
       "\n",
       "    .dataframe tbody tr th {\n",
       "        vertical-align: top;\n",
       "    }\n",
       "\n",
       "    .dataframe thead th {\n",
       "        text-align: right;\n",
       "    }\n",
       "</style>\n",
       "<table border=\"1\" class=\"dataframe\">\n",
       "  <thead>\n",
       "    <tr style=\"text-align: right;\">\n",
       "      <th></th>\n",
       "      <th>brand</th>\n",
       "      <th>product_description</th>\n",
       "      <th>price</th>\n",
       "    </tr>\n",
       "  </thead>\n",
       "  <tbody>\n",
       "    <tr>\n",
       "      <th>0</th>\n",
       "      <td>Nike</td>\n",
       "      <td>Men Solid Leather Formal Brogues</td>\n",
       "      <td>Rs. 9995</td>\n",
       "    </tr>\n",
       "    <tr>\n",
       "      <th>1</th>\n",
       "      <td>Nike</td>\n",
       "      <td></td>\n",
       "      <td>Rs. 11800</td>\n",
       "    </tr>\n",
       "    <tr>\n",
       "      <th>2</th>\n",
       "      <td>ALDO</td>\n",
       "      <td>Men Patent Leather Sneakers</td>\n",
       "      <td>Rs. 12990</td>\n",
       "    </tr>\n",
       "    <tr>\n",
       "      <th>3</th>\n",
       "      <td>Nike</td>\n",
       "      <td>Women Arizona Flats</td>\n",
       "      <td>Rs. 10990</td>\n",
       "    </tr>\n",
       "    <tr>\n",
       "      <th>4</th>\n",
       "      <td>Nike</td>\n",
       "      <td>Women Textured Sneakers</td>\n",
       "      <td>Rs. 7999</td>\n",
       "    </tr>\n",
       "    <tr>\n",
       "      <th>...</th>\n",
       "      <td>...</td>\n",
       "      <td>...</td>\n",
       "      <td>...</td>\n",
       "    </tr>\n",
       "    <tr>\n",
       "      <th>95</th>\n",
       "      <td>Kenneth Cole</td>\n",
       "      <td>Leather Wedge Mules</td>\n",
       "      <td>Rs. 10990</td>\n",
       "    </tr>\n",
       "    <tr>\n",
       "      <th>96</th>\n",
       "      <td>J.FONTINI</td>\n",
       "      <td>Leather Wedge Sandals</td>\n",
       "      <td>Rs. 9990</td>\n",
       "    </tr>\n",
       "    <tr>\n",
       "      <th>97</th>\n",
       "      <td>Heel &amp; Buckle London</td>\n",
       "      <td>Women Lola Wedges</td>\n",
       "      <td>Rs. 6990</td>\n",
       "    </tr>\n",
       "    <tr>\n",
       "      <th>98</th>\n",
       "      <td>J.FONTINI</td>\n",
       "      <td>Leather Lana Heels</td>\n",
       "      <td>Rs. 6990</td>\n",
       "    </tr>\n",
       "    <tr>\n",
       "      <th>99</th>\n",
       "      <td>Bugatti</td>\n",
       "      <td>Women Animal Print Sneakers</td>\n",
       "      <td>Rs. 6993Rs. 9990(30% OFF)</td>\n",
       "    </tr>\n",
       "  </tbody>\n",
       "</table>\n",
       "<p>100 rows × 3 columns</p>\n",
       "</div>"
      ],
      "text/plain": [
       "                   brand               product_description  \\\n",
       "0                   Nike  Men Solid Leather Formal Brogues   \n",
       "1                   Nike                                     \n",
       "2                   ALDO       Men Patent Leather Sneakers   \n",
       "3                   Nike               Women Arizona Flats   \n",
       "4                   Nike           Women Textured Sneakers   \n",
       "..                   ...                               ...   \n",
       "95          Kenneth Cole               Leather Wedge Mules   \n",
       "96             J.FONTINI             Leather Wedge Sandals   \n",
       "97  Heel & Buckle London                 Women Lola Wedges   \n",
       "98             J.FONTINI                Leather Lana Heels   \n",
       "99               Bugatti       Women Animal Print Sneakers   \n",
       "\n",
       "                        price  \n",
       "0                    Rs. 9995  \n",
       "1                   Rs. 11800  \n",
       "2                   Rs. 12990  \n",
       "3                   Rs. 10990  \n",
       "4                    Rs. 7999  \n",
       "..                        ...  \n",
       "95                  Rs. 10990  \n",
       "96                   Rs. 9990  \n",
       "97                   Rs. 6990  \n",
       "98                   Rs. 6990  \n",
       "99  Rs. 6993Rs. 9990(30% OFF)  \n",
       "\n",
       "[100 rows x 3 columns]"
      ]
     },
     "execution_count": 137,
     "metadata": {},
     "output_type": "execute_result"
    }
   ],
   "source": [
    "#the data set\n",
    "shoes"
   ]
  },
  {
   "cell_type": "code",
   "execution_count": null,
   "metadata": {},
   "outputs": [],
   "source": []
  },
  {
   "cell_type": "markdown",
   "metadata": {},
   "source": [
    "# Go to the link - https://www.myntra.com/shoesSet Price filter to “Rs. 6649 to Rs. 13099” , Color filter to “Black”, as shown in the below imag"
   ]
  },
  {
   "cell_type": "code",
   "execution_count": 1,
   "metadata": {},
   "outputs": [],
   "source": [
    "#importing the libraries\n",
    "import selenium\n",
    "import pandas as pd\n",
    "from selenium import webdriver\n",
    "import time\n",
    "from selenium.common.exceptions import ElementNotInteractableException, NoSuchElementException"
   ]
  },
  {
   "cell_type": "code",
   "execution_count": 2,
   "metadata": {},
   "outputs": [],
   "source": [
    "#importing the driver\n",
    "driver =webdriver.Chrome(r\"C:\\Users\\pavan\\Downloads\\chromedriver_win32\\chromedriver.exe\")\n"
   ]
  },
  {
   "cell_type": "code",
   "execution_count": 4,
   "metadata": {},
   "outputs": [],
   "source": [
    "#importing the url\n",
    "url='https://www.amazon.in/s?k=laptops&ref=nb_sb_noss_2'\n",
    "driver.get(url)"
   ]
  },
  {
   "cell_type": "code",
   "execution_count": 5,
   "metadata": {},
   "outputs": [],
   "source": [
    "#applying the generation filter\n",
    "generation_filter = driver.find_element_by_xpath('/html/body/div[1]/div[2]/div[1]/div/div[2]/div/div[3]/span/div[1]/span/div/div/div[6]/ul[1]/li[26]/span/a/span')\n",
    "generation_filter.click()"
   ]
  },
  {
   "cell_type": "code",
   "execution_count": 6,
   "metadata": {},
   "outputs": [],
   "source": [
    "#applying the generation filter\n",
    "generation_filter = driver.find_element_by_xpath('/html/body/div[1]/div[2]/div[1]/div/div[2]/div/div[3]/span/div[1]/span/div/div/div[6]/ul[1]/li[28]/span/a/span')\n",
    "generation_filter.click()"
   ]
  },
  {
   "cell_type": "code",
   "execution_count": 7,
   "metadata": {},
   "outputs": [
    {
     "data": {
      "text/plain": [
       "[<selenium.webdriver.remote.webelement.WebElement (session=\"fbf9249c67055a67f026e5eaae4945a4\", element=\"05df4d16-c1df-4521-8a32-d88b9934396f\")>,\n",
       " <selenium.webdriver.remote.webelement.WebElement (session=\"fbf9249c67055a67f026e5eaae4945a4\", element=\"fd3eaf5b-8ac9-4ab6-93e9-4978fbd8ad10\")>,\n",
       " <selenium.webdriver.remote.webelement.WebElement (session=\"fbf9249c67055a67f026e5eaae4945a4\", element=\"2f789c5b-3855-436b-9b0d-789cefc9c555\")>,\n",
       " <selenium.webdriver.remote.webelement.WebElement (session=\"fbf9249c67055a67f026e5eaae4945a4\", element=\"102cb724-78a0-43f6-b22d-97e9b22fca62\")>,\n",
       " <selenium.webdriver.remote.webelement.WebElement (session=\"fbf9249c67055a67f026e5eaae4945a4\", element=\"d29709af-e10a-4255-9c2f-976d725c8de6\")>,\n",
       " <selenium.webdriver.remote.webelement.WebElement (session=\"fbf9249c67055a67f026e5eaae4945a4\", element=\"726d86fc-030e-447a-9207-99d0fd9edc6c\")>,\n",
       " <selenium.webdriver.remote.webelement.WebElement (session=\"fbf9249c67055a67f026e5eaae4945a4\", element=\"ea713b4e-d554-4fd6-815a-4f517afc5720\")>,\n",
       " <selenium.webdriver.remote.webelement.WebElement (session=\"fbf9249c67055a67f026e5eaae4945a4\", element=\"78666ff9-3a04-4a22-afa1-b19773324369\")>,\n",
       " <selenium.webdriver.remote.webelement.WebElement (session=\"fbf9249c67055a67f026e5eaae4945a4\", element=\"cb58eb89-7b94-4799-8a97-4698cb0f7d17\")>,\n",
       " <selenium.webdriver.remote.webelement.WebElement (session=\"fbf9249c67055a67f026e5eaae4945a4\", element=\"124c5dad-7f6f-4410-b9ce-d3102f40160a\")>,\n",
       " <selenium.webdriver.remote.webelement.WebElement (session=\"fbf9249c67055a67f026e5eaae4945a4\", element=\"a248e82d-c7e2-421c-ad3b-63b489db2b1c\")>,\n",
       " <selenium.webdriver.remote.webelement.WebElement (session=\"fbf9249c67055a67f026e5eaae4945a4\", element=\"e1aea026-0b89-4d90-86c9-d14091eafd13\")>,\n",
       " <selenium.webdriver.remote.webelement.WebElement (session=\"fbf9249c67055a67f026e5eaae4945a4\", element=\"31effaec-5e4c-4760-a6fd-fde654e252a2\")>,\n",
       " <selenium.webdriver.remote.webelement.WebElement (session=\"fbf9249c67055a67f026e5eaae4945a4\", element=\"0e1b4677-b3ac-432b-9bcf-a2a4fa3e28ed\")>,\n",
       " <selenium.webdriver.remote.webelement.WebElement (session=\"fbf9249c67055a67f026e5eaae4945a4\", element=\"5d1aed7e-ed86-44e7-a0ad-c232945f9838\")>,\n",
       " <selenium.webdriver.remote.webelement.WebElement (session=\"fbf9249c67055a67f026e5eaae4945a4\", element=\"c47c9924-4f69-480e-bc60-ab4998bf6d2b\")>,\n",
       " <selenium.webdriver.remote.webelement.WebElement (session=\"fbf9249c67055a67f026e5eaae4945a4\", element=\"d433fb1d-ab23-44ed-b3da-ec1f3c327e5a\")>,\n",
       " <selenium.webdriver.remote.webelement.WebElement (session=\"fbf9249c67055a67f026e5eaae4945a4\", element=\"4cd5685e-57c1-4a52-a0da-05d6ace58658\")>,\n",
       " <selenium.webdriver.remote.webelement.WebElement (session=\"fbf9249c67055a67f026e5eaae4945a4\", element=\"b20a8c6c-8617-4d5c-ba63-717894996ce3\")>,\n",
       " <selenium.webdriver.remote.webelement.WebElement (session=\"fbf9249c67055a67f026e5eaae4945a4\", element=\"4ca41902-6e52-43eb-bb07-816f7d134ab2\")>,\n",
       " <selenium.webdriver.remote.webelement.WebElement (session=\"fbf9249c67055a67f026e5eaae4945a4\", element=\"44bf6a17-39a3-4b83-af9b-2caacb73c906\")>,\n",
       " <selenium.webdriver.remote.webelement.WebElement (session=\"fbf9249c67055a67f026e5eaae4945a4\", element=\"b59cea38-e6f2-4720-a71e-aee71409ae9f\")>,\n",
       " <selenium.webdriver.remote.webelement.WebElement (session=\"fbf9249c67055a67f026e5eaae4945a4\", element=\"bec559b9-b536-428c-9c0d-c01f9bd6934b\")>,\n",
       " <selenium.webdriver.remote.webelement.WebElement (session=\"fbf9249c67055a67f026e5eaae4945a4\", element=\"a3a6e87e-0233-49af-b557-0ce60fc56215\")>,\n",
       " <selenium.webdriver.remote.webelement.WebElement (session=\"fbf9249c67055a67f026e5eaae4945a4\", element=\"ea7b0a30-29b4-44d3-964b-6aeff728cc11\")>,\n",
       " <selenium.webdriver.remote.webelement.WebElement (session=\"fbf9249c67055a67f026e5eaae4945a4\", element=\"2ad292e2-b91d-47a2-a6b1-b4d0e0ab33a5\")>,\n",
       " <selenium.webdriver.remote.webelement.WebElement (session=\"fbf9249c67055a67f026e5eaae4945a4\", element=\"41d71638-2d80-4a70-8c27-f974a3e2c87b\")>,\n",
       " <selenium.webdriver.remote.webelement.WebElement (session=\"fbf9249c67055a67f026e5eaae4945a4\", element=\"448c83d3-a06a-497e-b384-0b44705346cd\")>,\n",
       " <selenium.webdriver.remote.webelement.WebElement (session=\"fbf9249c67055a67f026e5eaae4945a4\", element=\"18fd6197-f962-4649-9588-28f04d43ed2a\")>,\n",
       " <selenium.webdriver.remote.webelement.WebElement (session=\"fbf9249c67055a67f026e5eaae4945a4\", element=\"b57d79bc-9668-426e-9d5c-b59d2e81bd24\")>]"
      ]
     },
     "execution_count": 7,
     "metadata": {},
     "output_type": "execute_result"
    }
   ],
   "source": [
    "#scraping the job tag\n",
    "title_tags=driver.find_elements_by_xpath(\"//h2[@class='a-size-mini a-spacing-none a-color-base s-line-clamp-2']\")\n",
    "title_tags"
   ]
  },
  {
   "cell_type": "code",
   "execution_count": 13,
   "metadata": {},
   "outputs": [],
   "source": [
    "#applying the forloop\n",
    "title_names=[]\n",
    "for i in title_tags:\n",
    "    title_names.append(i.text)\n",
    "title_name=title_names[:10]"
   ]
  },
  {
   "cell_type": "code",
   "execution_count": 26,
   "metadata": {},
   "outputs": [
    {
     "data": {
      "text/plain": [
       "[<selenium.webdriver.remote.webelement.WebElement (session=\"fbf9249c67055a67f026e5eaae4945a4\", element=\"363c7848-6b05-4fa2-b3a2-f427c45cebf7\")>,\n",
       " <selenium.webdriver.remote.webelement.WebElement (session=\"fbf9249c67055a67f026e5eaae4945a4\", element=\"f689e5e0-7682-4248-aaa5-8ceb44b8d996\")>,\n",
       " <selenium.webdriver.remote.webelement.WebElement (session=\"fbf9249c67055a67f026e5eaae4945a4\", element=\"0a3e12bc-6985-47c7-a781-9ae53b55708a\")>,\n",
       " <selenium.webdriver.remote.webelement.WebElement (session=\"fbf9249c67055a67f026e5eaae4945a4\", element=\"7a5f9ef4-7e6e-4b0a-95e2-9269803524bd\")>,\n",
       " <selenium.webdriver.remote.webelement.WebElement (session=\"fbf9249c67055a67f026e5eaae4945a4\", element=\"c2073822-d042-4b7f-9da1-359c682149d3\")>,\n",
       " <selenium.webdriver.remote.webelement.WebElement (session=\"fbf9249c67055a67f026e5eaae4945a4\", element=\"1efbdb4f-ea4c-4e85-b68f-d9c98bc59ebb\")>,\n",
       " <selenium.webdriver.remote.webelement.WebElement (session=\"fbf9249c67055a67f026e5eaae4945a4\", element=\"888d5531-06c2-4618-a4ec-ea037fdf5e48\")>,\n",
       " <selenium.webdriver.remote.webelement.WebElement (session=\"fbf9249c67055a67f026e5eaae4945a4\", element=\"378a09ce-67e4-4d00-8eec-505903691a31\")>,\n",
       " <selenium.webdriver.remote.webelement.WebElement (session=\"fbf9249c67055a67f026e5eaae4945a4\", element=\"af1d56f5-1c7f-47cd-86b7-9343b1fb4c2f\")>,\n",
       " <selenium.webdriver.remote.webelement.WebElement (session=\"fbf9249c67055a67f026e5eaae4945a4\", element=\"c9a82738-2ece-4817-b7c9-093db527d596\")>,\n",
       " <selenium.webdriver.remote.webelement.WebElement (session=\"fbf9249c67055a67f026e5eaae4945a4\", element=\"8c5ae849-7582-4652-b21e-528bc2d558a9\")>,\n",
       " <selenium.webdriver.remote.webelement.WebElement (session=\"fbf9249c67055a67f026e5eaae4945a4\", element=\"ddf0b914-f7e3-4587-8088-818192742f5b\")>,\n",
       " <selenium.webdriver.remote.webelement.WebElement (session=\"fbf9249c67055a67f026e5eaae4945a4\", element=\"87a9417a-9998-4b50-9a56-20610add906c\")>,\n",
       " <selenium.webdriver.remote.webelement.WebElement (session=\"fbf9249c67055a67f026e5eaae4945a4\", element=\"b20c6c65-6097-466f-a2e1-1d5c5ac5d33d\")>,\n",
       " <selenium.webdriver.remote.webelement.WebElement (session=\"fbf9249c67055a67f026e5eaae4945a4\", element=\"67ce0e39-d454-4f41-8528-fd6e3b0da6f3\")>,\n",
       " <selenium.webdriver.remote.webelement.WebElement (session=\"fbf9249c67055a67f026e5eaae4945a4\", element=\"a2b1e9b1-4b1c-4ed2-ac79-b04dd2d63e25\")>,\n",
       " <selenium.webdriver.remote.webelement.WebElement (session=\"fbf9249c67055a67f026e5eaae4945a4\", element=\"871c1797-76aa-4397-b80e-54f6300c3404\")>,\n",
       " <selenium.webdriver.remote.webelement.WebElement (session=\"fbf9249c67055a67f026e5eaae4945a4\", element=\"34a29b0b-af81-45c0-afbc-80fd642c89fe\")>,\n",
       " <selenium.webdriver.remote.webelement.WebElement (session=\"fbf9249c67055a67f026e5eaae4945a4\", element=\"81e183d7-7cc4-4fe0-94a0-abbf478e2748\")>,\n",
       " <selenium.webdriver.remote.webelement.WebElement (session=\"fbf9249c67055a67f026e5eaae4945a4\", element=\"15b032f8-2032-4376-80bc-393d93e15772\")>,\n",
       " <selenium.webdriver.remote.webelement.WebElement (session=\"fbf9249c67055a67f026e5eaae4945a4\", element=\"824e2122-6f13-4175-ab21-bd460cbea195\")>,\n",
       " <selenium.webdriver.remote.webelement.WebElement (session=\"fbf9249c67055a67f026e5eaae4945a4\", element=\"db565a40-1783-492b-8bbd-4e496bb00891\")>,\n",
       " <selenium.webdriver.remote.webelement.WebElement (session=\"fbf9249c67055a67f026e5eaae4945a4\", element=\"6e643974-4dcf-4f13-b558-d5cd8a772b4d\")>,\n",
       " <selenium.webdriver.remote.webelement.WebElement (session=\"fbf9249c67055a67f026e5eaae4945a4\", element=\"e8bb192b-ed99-4081-bd78-bf9414963f77\")>,\n",
       " <selenium.webdriver.remote.webelement.WebElement (session=\"fbf9249c67055a67f026e5eaae4945a4\", element=\"1dbd1461-86e6-48e7-9079-eef637ddfb6c\")>,\n",
       " <selenium.webdriver.remote.webelement.WebElement (session=\"fbf9249c67055a67f026e5eaae4945a4\", element=\"a36206f9-784a-480b-b990-92b3c3ec5705\")>,\n",
       " <selenium.webdriver.remote.webelement.WebElement (session=\"fbf9249c67055a67f026e5eaae4945a4\", element=\"e6fcec5a-e4ec-4ff5-80ce-eb6fc3837278\")>,\n",
       " <selenium.webdriver.remote.webelement.WebElement (session=\"fbf9249c67055a67f026e5eaae4945a4\", element=\"98fa02c8-d27a-4640-8f6e-e45f4cc506f6\")>,\n",
       " <selenium.webdriver.remote.webelement.WebElement (session=\"fbf9249c67055a67f026e5eaae4945a4\", element=\"a2108e90-cc10-4746-8697-10f518f4f363\")>]"
      ]
     },
     "execution_count": 26,
     "metadata": {},
     "output_type": "execute_result"
    }
   ],
   "source": [
    "# scraping the price tag\n",
    "price_tags=driver.find_elements_by_xpath(\"//span[@class='a-price-whole']\")\n",
    "price_tags"
   ]
  },
  {
   "cell_type": "code",
   "execution_count": 27,
   "metadata": {},
   "outputs": [],
   "source": [
    "#applying the forloop\n",
    "price=[]\n",
    "for i in price_tags:\n",
    "    price.append(i.text)\n",
    "Price=price[:10]"
   ]
  },
  {
   "cell_type": "code",
   "execution_count": 28,
   "metadata": {},
   "outputs": [],
   "source": [
    "#importing the url\n",
    "urls=[]\n",
    "for i in driver.find_elements_by_xpath(\"//a[@class='a-link-normal s-no-outline']\"):\n",
    "    urls.append(i.get_attribute(\"href\"))"
   ]
  },
  {
   "cell_type": "code",
   "execution_count": 29,
   "metadata": {},
   "outputs": [
    {
     "data": {
      "text/plain": [
       "['https://www.amazon.in/b/ref=sxts_spks_0_0_844d1565-95c4-4594-95a6-c04886921656?node=1375424031&pd_rd_w=OAQ4l&pf_rd_p=844d1565-95c4-4594-95a6-c04886921656&pf_rd_r=FDS4AE4757WKK5ZWAY0G&pd_rd_r=e67126d4-c193-46b9-8e6f-70f6a29196cb&pd_rd_wg=EETki&qid=1625884346',\n",
       " 'https://www.amazon.in/gp/slredirect/picassoRedirect.html/ref=pa_sp_atf_computers_sr_pg1_1?ie=UTF8&adId=A05808253755H7YWZ0AS3&url=%2FLenovo-Legion-Windows-Graphics-81YU002AIN%2Fdp%2FB08FJCRGPR%2Fref%3Dsr_1_1_sspa%3Fdchild%3D1%26keywords%3Dlaptops%26qid%3D1625884346%26refinements%3Dp_n_feature_thirteen_browse-bin%253A12598163031%257C16757432031%26rnid%3D12598141031%26s%3Dcomputers%26sr%3D1-1-spons%26psc%3D1&qualifier=1625884346&id=7652622080878574&widgetName=sp_atf',\n",
       " 'https://www.amazon.in/gp/slredirect/picassoRedirect.html/ref=pa_sp_atf_computers_sr_pg1_1?ie=UTF8&adId=A02562643LJBEQ9GMLC96&url=%2FNotebook-Horizon-i7-10510U-Graphics-XMA1904-AF%2Fdp%2FB089F2W1KW%2Fref%3Dsr_1_2_sspa%3Fdchild%3D1%26keywords%3Dlaptops%26qid%3D1625884346%26refinements%3Dp_n_feature_thirteen_browse-bin%253A12598163031%257C16757432031%26rnid%3D12598141031%26s%3Dcomputers%26sr%3D1-2-spons%26psc%3D1&qualifier=1625884346&id=7652622080878574&widgetName=sp_atf',\n",
       " 'https://www.amazon.in/HP-Pavilion-Touchscreen-Convertible-14-dw1040TU/dp/B08R843NHL/ref=sr_1_3?dchild=1&keywords=laptops&qid=1625884346&refinements=p_n_feature_thirteen_browse-bin%3A12598163031%7C16757432031&rnid=12598141031&s=computers&sr=1-3',\n",
       " 'https://www.amazon.in/HP-Pavilion-Graphics-35-56cms-14-dv0058TU/dp/B08WB857GB/ref=sr_1_4?dchild=1&keywords=laptops&qid=1625884346&refinements=p_n_feature_thirteen_browse-bin%3A12598163031%7C16757432031&rnid=12598141031&s=computers&sr=1-4',\n",
       " 'https://www.amazon.in/Inspiron-5593-15-6-inch-i7-1065G7-Graphics/dp/B07ZG4S91Z/ref=sr_1_5?dchild=1&keywords=laptops&qid=1625884346&refinements=p_n_feature_thirteen_browse-bin%3A12598163031%7C16757432031&rnid=12598141031&s=computers&sr=1-5',\n",
       " 'https://www.amazon.in/Notebook-Horizon-i7-10510U-Graphics-XMA1904-AF/dp/B089F2W1KW/ref=sr_1_6?dchild=1&keywords=laptops&qid=1625884346&refinements=p_n_feature_thirteen_browse-bin%3A12598163031%7C16757432031&rnid=12598141031&s=computers&sr=1-6',\n",
       " 'https://www.amazon.in/HP-Pavilion-Processor-15-6-inch-15-dk1509TX/dp/B08ZN7GBQ5/ref=sr_1_7?dchild=1&keywords=laptops&qid=1625884346&refinements=p_n_feature_thirteen_browse-bin%3A12598163031%7C16757432031&rnid=12598141031&s=computers&sr=1-7',\n",
       " 'https://www.amazon.in/Lenovo-IdeaPad-15-6-inch-Windows-81Y400VAIN/dp/B08PV48PYW/ref=sr_1_8?dchild=1&keywords=laptops&qid=1625884346&refinements=p_n_feature_thirteen_browse-bin%3A12598163031%7C16757432031&rnid=12598141031&s=computers&sr=1-8',\n",
       " 'https://www.amazon.in/Dell-7567-15-6-inch-i7-7700HQ-Microsoft/dp/B0749KG8XG/ref=sr_1_9?dchild=1&keywords=laptops&qid=1625884346&refinements=p_n_feature_thirteen_browse-bin%3A12598163031%7C16757432031&rnid=12598141031&s=computers&sr=1-9',\n",
       " 'https://www.amazon.in/ASUS-VivoBook-i7-1165G7-Graphics-S433EA-AM702TS/dp/B08SN9GJXH/ref=sr_1_10?dchild=1&keywords=laptops&qid=1625884346&refinements=p_n_feature_thirteen_browse-bin%3A12598163031%7C16757432031&rnid=12598141031&s=computers&sr=1-10',\n",
       " 'https://www.amazon.in/Dell-i7-1165G7-Inspiron-5410-D560469WIN9S/dp/B095S9NJ4S/ref=sr_1_11?dchild=1&keywords=laptops&qid=1625884346&refinements=p_n_feature_thirteen_browse-bin%3A12598163031%7C16757432031&rnid=12598141031&s=computers&sr=1-11',\n",
       " 'https://www.amazon.in/GF63-Thin-10SCSR-019IN-i7-10750H-9S7-16R412-019/dp/B0897SXQNN/ref=sr_1_12?dchild=1&keywords=laptops&qid=1625884346&refinements=p_n_feature_thirteen_browse-bin%3A12598163031%7C16757432031&rnid=12598141031&s=computers&sr=1-12',\n",
       " 'https://www.amazon.in/Lenovo-Legion-Gaming-GeForce-81SY00U7IN/dp/B092MRQCJ6/ref=sr_1_13?dchild=1&keywords=laptops&qid=1625884346&refinements=p_n_feature_thirteen_browse-bin%3A12598163031%7C16757432031&rnid=12598141031&s=computers&sr=1-13',\n",
       " 'https://www.amazon.in/Dell-1366x768-Integrated-Graphics-Latitude/dp/B09752NVNF/ref=sr_1_14?dchild=1&keywords=laptops&qid=1625884346&refinements=p_n_feature_thirteen_browse-bin%3A12598163031%7C16757432031&rnid=12598141031&s=computers&sr=1-14',\n",
       " 'https://www.amazon.in/gp/slredirect/picassoRedirect.html/ref=pa_sp_mtf_computers_sr_pg1_1?ie=UTF8&adId=A05810051XY0FATC051KI&url=%2FDell-Alienware-m15-R3-15-6-inch%2Fdp%2FB08BZR715W%2Fref%3Dsr_1_15_sspa%3Fdchild%3D1%26keywords%3Dlaptops%26qid%3D1625884346%26refinements%3Dp_n_feature_thirteen_browse-bin%253A12598163031%257C16757432031%26rnid%3D12598141031%26s%3Dcomputers%26sr%3D1-15-spons%26psc%3D1&qualifier=1625884346&id=7652622080878574&widgetName=sp_mtf',\n",
       " 'https://www.amazon.in/gp/slredirect/picassoRedirect.html/ref=pa_sp_mtf_computers_sr_pg1_1?ie=UTF8&adId=A0574697AGZ73PUBQN0I&url=%2FHP-Pavilion-Processor-15-6-inch-15-dk1509TX%2Fdp%2FB08ZN7GBQ5%2Fref%3Dsr_1_16_sspa%3Fdchild%3D1%26keywords%3Dlaptops%26qid%3D1625884346%26refinements%3Dp_n_feature_thirteen_browse-bin%253A12598163031%257C16757432031%26rnid%3D12598141031%26s%3Dcomputers%26sr%3D1-16-spons%26psc%3D1&qualifier=1625884346&id=7652622080878574&widgetName=sp_mtf',\n",
       " 'https://www.amazon.in/Renewed-HP-15-6-Inch-Graphics-Zbook/dp/B09128J5VT/ref=sr_1_17?dchild=1&keywords=laptops&qid=1625884346&refinements=p_n_feature_thirteen_browse-bin%3A12598163031%7C16757432031&rnid=12598141031&s=computers&sr=1-17',\n",
       " 'https://www.amazon.in/Dell-TOUCHSCREEN-Integrated-Graphics-Latitude/dp/B097YXR7SZ/ref=sr_1_18?dchild=1&keywords=laptops&qid=1625884346&refinements=p_n_feature_thirteen_browse-bin%3A12598163031%7C16757432031&rnid=12598141031&s=computers&sr=1-18',\n",
       " 'https://www.amazon.in/Dell-1366x768-Integrated-Graphics-Latitude/dp/B0974W4W9W/ref=sr_1_19?dchild=1&keywords=laptops&qid=1625884346&refinements=p_n_feature_thirteen_browse-bin%3A12598163031%7C16757432031&rnid=12598141031&s=computers&sr=1-19',\n",
       " 'https://www.amazon.in/Dell-TOUCHSCREEN-Integrated-Graphics-Latitude/dp/B097YZ1WWC/ref=sr_1_20?dchild=1&keywords=laptops&qid=1625884346&refinements=p_n_feature_thirteen_browse-bin%3A12598163031%7C16757432031&rnid=12598141031&s=computers&sr=1-20',\n",
       " 'https://www.amazon.in/Dell-1366x768-Integrated-Graphics-Latitude/dp/B0974WWK87/ref=sr_1_21?dchild=1&keywords=laptops&qid=1625884346&refinements=p_n_feature_thirteen_browse-bin%3A12598163031%7C16757432031&rnid=12598141031&s=computers&sr=1-21',\n",
       " 'https://www.amazon.in/Dell-Inspiron-i7-1165G7-Integrated-D560414WIN9S/dp/B0919LL313/ref=sr_1_22?dchild=1&keywords=laptops&qid=1625884346&refinements=p_n_feature_thirteen_browse-bin%3A12598163031%7C16757432031&rnid=12598141031&s=computers&sr=1-22',\n",
       " 'https://www.amazon.in/Dell-TOUCHSCREEN-Integrated-Graphics-Latitude/dp/B097YY81J6/ref=sr_1_23?dchild=1&keywords=laptops&qid=1625884346&refinements=p_n_feature_thirteen_browse-bin%3A12598163031%7C16757432031&rnid=12598141031&s=computers&sr=1-23',\n",
       " 'https://www.amazon.in/Nexstgo-NP15N1IN008P-15-6-inch-i7-8550U-Integrated/dp/B07KGP3HP3/ref=sr_1_24?dchild=1&keywords=laptops&qid=1625884346&refinements=p_n_feature_thirteen_browse-bin%3A12598163031%7C16757432031&rnid=12598141031&s=computers&sr=1-24',\n",
       " 'https://www.amazon.in/Dell-35-56cms-1366x768-Integrated-Graphics/dp/B097PL7VX8/ref=sr_1_25?dchild=1&keywords=laptops&qid=1625884346&refinements=p_n_feature_thirteen_browse-bin%3A12598163031%7C16757432031&rnid=12598141031&s=computers&sr=1-25',\n",
       " 'https://www.amazon.in/Lenovo-Touchscreen-Fingerprint-Aluminium-82BH004HIN/dp/B08P3M22QQ/ref=sr_1_26?dchild=1&keywords=laptops&qid=1625884346&refinements=p_n_feature_thirteen_browse-bin%3A12598163031%7C16757432031&rnid=12598141031&s=computers&sr=1-26',\n",
       " 'https://www.amazon.in/Lenovo-Touchscreen-Fingerprint-Graphite-82HS0092IN/dp/B08WRZQBQ6/ref=sr_1_27?dchild=1&keywords=laptops&qid=1625884346&refinements=p_n_feature_thirteen_browse-bin%3A12598163031%7C16757432031&rnid=12598141031&s=computers&sr=1-27',\n",
       " 'https://www.amazon.in/Dell-1366x768-Integrated-Graphics-Latitude/dp/B0974XBX64/ref=sr_1_28?dchild=1&keywords=laptops&qid=1625884346&refinements=p_n_feature_thirteen_browse-bin%3A12598163031%7C16757432031&rnid=12598141031&s=computers&sr=1-28',\n",
       " 'https://www.amazon.in/gp/slredirect/picassoRedirect.html/ref=pa_sp_btf_computers_sr_pg1_1?ie=UTF8&adId=A05809812DV8P4414935R&url=%2FDell-15-6inch-i7-10750H-Warranty-D560250WIN9BE%2Fdp%2FB08HYPRST4%2Fref%3Dsr_1_29_sspa%3Fdchild%3D1%26keywords%3Dlaptops%26qid%3D1625884346%26refinements%3Dp_n_feature_thirteen_browse-bin%253A12598163031%257C16757432031%26rnid%3D12598141031%26s%3Dcomputers%26sr%3D1-29-spons%26psc%3D1&qualifier=1625884346&id=7652622080878574&widgetName=sp_btf',\n",
       " 'https://www.amazon.in/gp/slredirect/picassoRedirect.html/ref=pa_sp_btf_computers_sr_pg1_1?ie=UTF8&adId=A05814731HU5OO0SAJXI0&url=%2FASUS-i7-10870H-Graphics-Original-G512LV-HN222T%2Fdp%2FB08QJTD4W8%2Fref%3Dsr_1_30_sspa%3Fdchild%3D1%26keywords%3Dlaptops%26qid%3D1625884346%26refinements%3Dp_n_feature_thirteen_browse-bin%253A12598163031%257C16757432031%26rnid%3D12598141031%26s%3Dcomputers%26sr%3D1-30-spons%26psc%3D1&qualifier=1625884346&id=7652622080878574&widgetName=sp_btf']"
      ]
     },
     "execution_count": 29,
     "metadata": {},
     "output_type": "execute_result"
    }
   ],
   "source": [
    "urls"
   ]
  },
  {
   "cell_type": "code",
   "execution_count": 35,
   "metadata": {},
   "outputs": [],
   "source": [
    "#applying the forloop\n",
    "for i in urls[:10]:\n",
    "    driver.get(i)\n",
    "    time.sleep(3)\n",
    "    try:\n",
    "        rating= driver.find_element_by_xpath(\"//span[@class='a-size-medium a-color-base']\")\n",
    "        RATING.append(rating.text)\n",
    "    except NoSuchElementException:\n",
    "        RATING.append('-')"
   ]
  },
  {
   "cell_type": "code",
   "execution_count": 40,
   "metadata": {},
   "outputs": [
    {
     "data": {
      "text/plain": [
       "['-',\n",
       " '2.8 out of 5',\n",
       " '4.4 out of 5',\n",
       " '3.9 out of 5',\n",
       " '4.5 out of 5',\n",
       " '3.7 out of 5',\n",
       " '4.4 out of 5',\n",
       " '4.2 out of 5',\n",
       " '4.4 out of 5',\n",
       " '2.7 out of 5']"
      ]
     },
     "execution_count": 40,
     "metadata": {},
     "output_type": "execute_result"
    }
   ],
   "source": [
    "Rating=RATING[23:]\n",
    "Rating"
   ]
  },
  {
   "cell_type": "code",
   "execution_count": 42,
   "metadata": {},
   "outputs": [],
   "source": [
    "#appling the dataframe\n",
    "laptops=pd.DataFrame({})\n",
    "laptops['title']=title_name\n",
    "laptops['rating']=Rating\n",
    "laptops['price']=Price"
   ]
  },
  {
   "cell_type": "code",
   "execution_count": 43,
   "metadata": {},
   "outputs": [
    {
     "data": {
      "text/html": [
       "<div>\n",
       "<style scoped>\n",
       "    .dataframe tbody tr th:only-of-type {\n",
       "        vertical-align: middle;\n",
       "    }\n",
       "\n",
       "    .dataframe tbody tr th {\n",
       "        vertical-align: top;\n",
       "    }\n",
       "\n",
       "    .dataframe thead th {\n",
       "        text-align: right;\n",
       "    }\n",
       "</style>\n",
       "<table border=\"1\" class=\"dataframe\">\n",
       "  <thead>\n",
       "    <tr style=\"text-align: right;\">\n",
       "      <th></th>\n",
       "      <th>title</th>\n",
       "      <th>rating</th>\n",
       "      <th>price</th>\n",
       "    </tr>\n",
       "  </thead>\n",
       "  <tbody>\n",
       "    <tr>\n",
       "      <th>0</th>\n",
       "      <td>Lenovo Legion 7 10th Gen Intel Core i7 15.6 in...</td>\n",
       "      <td>-</td>\n",
       "      <td>2,00,000</td>\n",
       "    </tr>\n",
       "    <tr>\n",
       "      <th>1</th>\n",
       "      <td>Mi Notebook Horizon Edition 14 Intel Core i7-1...</td>\n",
       "      <td>2.8 out of 5</td>\n",
       "      <td>59,999</td>\n",
       "    </tr>\n",
       "    <tr>\n",
       "      <th>2</th>\n",
       "      <td>HP Pavilion x360 (2021) 14\" (35.56cms) FHD Tou...</td>\n",
       "      <td>4.4 out of 5</td>\n",
       "      <td>76,990</td>\n",
       "    </tr>\n",
       "    <tr>\n",
       "      <th>3</th>\n",
       "      <td>HP Pavilion (2021) Thin &amp; Light 11th Gen Core ...</td>\n",
       "      <td>3.9 out of 5</td>\n",
       "      <td>84,990</td>\n",
       "    </tr>\n",
       "    <tr>\n",
       "      <th>4</th>\n",
       "      <td>DELL Inspiron 5593 15.6\" (39.62cms) Laptop (10...</td>\n",
       "      <td>4.5 out of 5</td>\n",
       "      <td>82,990</td>\n",
       "    </tr>\n",
       "    <tr>\n",
       "      <th>5</th>\n",
       "      <td>Mi Notebook Horizon Edition 14 Intel Core i7-1...</td>\n",
       "      <td>3.7 out of 5</td>\n",
       "      <td>59,999</td>\n",
       "    </tr>\n",
       "    <tr>\n",
       "      <th>6</th>\n",
       "      <td>HP Pavilion Gaming 10th Gen Intel Core i7 Proc...</td>\n",
       "      <td>4.4 out of 5</td>\n",
       "      <td>86,990</td>\n",
       "    </tr>\n",
       "    <tr>\n",
       "      <th>7</th>\n",
       "      <td>Lenovo IdeaPad Gaming 3 10th Gen Intel Core i7...</td>\n",
       "      <td>4.2 out of 5</td>\n",
       "      <td>84,300</td>\n",
       "    </tr>\n",
       "    <tr>\n",
       "      <th>8</th>\n",
       "      <td>Dell Inspiron 15 Gaming 7567 15.6-inch Laptop ...</td>\n",
       "      <td>4.4 out of 5</td>\n",
       "      <td>79,990</td>\n",
       "    </tr>\n",
       "    <tr>\n",
       "      <th>9</th>\n",
       "      <td>ASUS VivoBook S S14 Intel Core i7-1165G7 11th ...</td>\n",
       "      <td>2.7 out of 5</td>\n",
       "      <td>76,990</td>\n",
       "    </tr>\n",
       "  </tbody>\n",
       "</table>\n",
       "</div>"
      ],
      "text/plain": [
       "                                               title        rating     price\n",
       "0  Lenovo Legion 7 10th Gen Intel Core i7 15.6 in...             -  2,00,000\n",
       "1  Mi Notebook Horizon Edition 14 Intel Core i7-1...  2.8 out of 5    59,999\n",
       "2  HP Pavilion x360 (2021) 14\" (35.56cms) FHD Tou...  4.4 out of 5    76,990\n",
       "3  HP Pavilion (2021) Thin & Light 11th Gen Core ...  3.9 out of 5    84,990\n",
       "4  DELL Inspiron 5593 15.6\" (39.62cms) Laptop (10...  4.5 out of 5    82,990\n",
       "5  Mi Notebook Horizon Edition 14 Intel Core i7-1...  3.7 out of 5    59,999\n",
       "6  HP Pavilion Gaming 10th Gen Intel Core i7 Proc...  4.4 out of 5    86,990\n",
       "7  Lenovo IdeaPad Gaming 3 10th Gen Intel Core i7...  4.2 out of 5    84,300\n",
       "8  Dell Inspiron 15 Gaming 7567 15.6-inch Laptop ...  4.4 out of 5    79,990\n",
       "9  ASUS VivoBook S S14 Intel Core i7-1165G7 11th ...  2.7 out of 5    76,990"
      ]
     },
     "execution_count": 43,
     "metadata": {},
     "output_type": "execute_result"
    }
   ],
   "source": [
    "#the data set\n",
    "laptops"
   ]
  },
  {
   "cell_type": "code",
   "execution_count": null,
   "metadata": {},
   "outputs": [],
   "source": []
  },
  {
   "cell_type": "markdown",
   "metadata": {},
   "source": [
    "# Go to webpage https://www.amazon.in/Enter “Laptop” in the search field and then click the search icon.Then set CPU Type filter to “Intel Core i7” and “Intel Core i9” as shown in the below image"
   ]
  },
  {
   "cell_type": "code",
   "execution_count": 44,
   "metadata": {},
   "outputs": [],
   "source": [
    "#importing the libraries\n",
    "import selenium\n",
    "import pandas as pd\n",
    "from selenium import webdriver\n",
    "import time\n",
    "from selenium.common.exceptions import ElementNotInteractableException, NoSuchElementException"
   ]
  },
  {
   "cell_type": "code",
   "execution_count": 45,
   "metadata": {},
   "outputs": [],
   "source": [
    "#importing the driver\n",
    "driver =webdriver.Chrome(r\"C:\\Users\\pavan\\Downloads\\chromedriver_win32\\chromedriver.exe\")"
   ]
  },
  {
   "cell_type": "code",
   "execution_count": 47,
   "metadata": {},
   "outputs": [],
   "source": [
    "#importing the url\n",
    "url='https://www.flipkart.com/apple-iphone-11-black-64-gb-includes-earpods-power-adapter/product-reviews/itm0f37c2240b217?pid=MOBFKCTSVZAXUHGR&lid=LSTMOBFKCTSVZAXUHGREPBFGI&marketplace=FLIPKART'\n",
    "driver.get(url)"
   ]
  },
  {
   "cell_type": "code",
   "execution_count": 63,
   "metadata": {},
   "outputs": [],
   "source": [
    "#applying the forloop\n",
    "RATING=[]\n",
    "for i in range(0,10):\n",
    "    rating=driver.find_elements_by_xpath(\"//div[@class='_3LWZlK _1BLPMq']\")\n",
    "    for i in rating:\n",
    "        RATING.append(i.text)\n",
    "    next_button=driver.find_element_by_xpath(\"//a[@class='_1LKTO3']\")\n",
    "    next_button.click()\n",
    "    time.sleep(2)"
   ]
  },
  {
   "cell_type": "code",
   "execution_count": 66,
   "metadata": {},
   "outputs": [],
   "source": [
    "#applying the forloop\n",
    "Review_summary=[]\n",
    "for i in range(0,10):\n",
    "    review=driver.find_elements_by_xpath(\"//p[@class='_2-N8zT']\")\n",
    "    for i in review:\n",
    "        Review_summary.append(i.text)\n",
    "    next_button=driver.find_element_by_xpath(\"//a[@class='_1LKTO3']\")\n",
    "    next_button.click()\n",
    "    time.sleep(2)"
   ]
  },
  {
   "cell_type": "code",
   "execution_count": 68,
   "metadata": {},
   "outputs": [],
   "source": [
    "#applying the forloop\n",
    "full_review=[]\n",
    "for i in range(0,10):\n",
    "    review=driver.find_elements_by_xpath(\"//div[@class='t-ZTKy']\")\n",
    "    for i in review:\n",
    "        full_review.append(i.text)\n",
    "    next_button=driver.find_element_by_xpath(\"//a[@class='_1LKTO3']\")\n",
    "    next_button.click()\n",
    "    time.sleep(2)"
   ]
  },
  {
   "cell_type": "code",
   "execution_count": 69,
   "metadata": {},
   "outputs": [],
   "source": [
    "#appling the dataframe\n",
    "iphone11_review=pd.DataFrame({})\n",
    "iphone11_review['rating']=RATING\n",
    "iphone11_review['review_summary']=Review_summary\n",
    "iphone11_review['full_review']=full_review"
   ]
  },
  {
   "cell_type": "code",
   "execution_count": 70,
   "metadata": {},
   "outputs": [
    {
     "data": {
      "text/html": [
       "<div>\n",
       "<style scoped>\n",
       "    .dataframe tbody tr th:only-of-type {\n",
       "        vertical-align: middle;\n",
       "    }\n",
       "\n",
       "    .dataframe tbody tr th {\n",
       "        vertical-align: top;\n",
       "    }\n",
       "\n",
       "    .dataframe thead th {\n",
       "        text-align: right;\n",
       "    }\n",
       "</style>\n",
       "<table border=\"1\" class=\"dataframe\">\n",
       "  <thead>\n",
       "    <tr style=\"text-align: right;\">\n",
       "      <th></th>\n",
       "      <th>rating</th>\n",
       "      <th>review_summary</th>\n",
       "      <th>full_review</th>\n",
       "    </tr>\n",
       "  </thead>\n",
       "  <tbody>\n",
       "    <tr>\n",
       "      <th>0</th>\n",
       "      <td>5</td>\n",
       "      <td>Perfect product!</td>\n",
       "      <td>The Best Phone for the Money\\n\\nThe iPhone 11 ...</td>\n",
       "    </tr>\n",
       "    <tr>\n",
       "      <th>1</th>\n",
       "      <td>5</td>\n",
       "      <td>Worth every penny</td>\n",
       "      <td>Amazing phone with great cameras and better ba...</td>\n",
       "    </tr>\n",
       "    <tr>\n",
       "      <th>2</th>\n",
       "      <td>5</td>\n",
       "      <td>Perfect product!</td>\n",
       "      <td>Previously I was using one plus 3t it was a gr...</td>\n",
       "    </tr>\n",
       "    <tr>\n",
       "      <th>3</th>\n",
       "      <td>5</td>\n",
       "      <td>Highly recommended</td>\n",
       "      <td>This is my first iOS phone. I am very happy wi...</td>\n",
       "    </tr>\n",
       "    <tr>\n",
       "      <th>4</th>\n",
       "      <td>5</td>\n",
       "      <td>Worth every penny</td>\n",
       "      <td>Really satisfied with the Product I received.....</td>\n",
       "    </tr>\n",
       "    <tr>\n",
       "      <th>...</th>\n",
       "      <td>...</td>\n",
       "      <td>...</td>\n",
       "      <td>...</td>\n",
       "    </tr>\n",
       "    <tr>\n",
       "      <th>95</th>\n",
       "      <td>5</td>\n",
       "      <td>Simply awesome</td>\n",
       "      <td>Amazing Powerful and Durable Gadget.\\n\\nI’m am...</td>\n",
       "    </tr>\n",
       "    <tr>\n",
       "      <th>96</th>\n",
       "      <td>4</td>\n",
       "      <td>Terrific</td>\n",
       "      <td>So far it’s been an AMAZING experience coming ...</td>\n",
       "    </tr>\n",
       "    <tr>\n",
       "      <th>97</th>\n",
       "      <td>5</td>\n",
       "      <td>Highly recommended</td>\n",
       "      <td>i11 is worthy to buy, too much happy with the ...</td>\n",
       "    </tr>\n",
       "    <tr>\n",
       "      <th>98</th>\n",
       "      <td>5</td>\n",
       "      <td>Nice product</td>\n",
       "      <td>iphone 11 is a very good phone to buy only if ...</td>\n",
       "    </tr>\n",
       "    <tr>\n",
       "      <th>99</th>\n",
       "      <td>5</td>\n",
       "      <td>Wonderful</td>\n",
       "      <td>It’s a must buy who is looking for an upgrade ...</td>\n",
       "    </tr>\n",
       "  </tbody>\n",
       "</table>\n",
       "<p>100 rows × 3 columns</p>\n",
       "</div>"
      ],
      "text/plain": [
       "   rating      review_summary  \\\n",
       "0       5    Perfect product!   \n",
       "1       5   Worth every penny   \n",
       "2       5    Perfect product!   \n",
       "3       5  Highly recommended   \n",
       "4       5   Worth every penny   \n",
       "..    ...                 ...   \n",
       "95      5      Simply awesome   \n",
       "96      4            Terrific   \n",
       "97      5  Highly recommended   \n",
       "98      5        Nice product   \n",
       "99      5           Wonderful   \n",
       "\n",
       "                                          full_review  \n",
       "0   The Best Phone for the Money\\n\\nThe iPhone 11 ...  \n",
       "1   Amazing phone with great cameras and better ba...  \n",
       "2   Previously I was using one plus 3t it was a gr...  \n",
       "3   This is my first iOS phone. I am very happy wi...  \n",
       "4   Really satisfied with the Product I received.....  \n",
       "..                                                ...  \n",
       "95  Amazing Powerful and Durable Gadget.\\n\\nI’m am...  \n",
       "96  So far it’s been an AMAZING experience coming ...  \n",
       "97  i11 is worthy to buy, too much happy with the ...  \n",
       "98  iphone 11 is a very good phone to buy only if ...  \n",
       "99  It’s a must buy who is looking for an upgrade ...  \n",
       "\n",
       "[100 rows x 3 columns]"
      ]
     },
     "execution_count": 70,
     "metadata": {},
     "output_type": "execute_result"
    }
   ],
   "source": [
    "#the data set\n",
    "iphone11_review"
   ]
  },
  {
   "cell_type": "code",
   "execution_count": null,
   "metadata": {},
   "outputs": [],
   "source": []
  }
 ],
 "metadata": {
  "kernelspec": {
   "display_name": "Python 3",
   "language": "python",
   "name": "python3"
  },
  "language_info": {
   "codemirror_mode": {
    "name": "ipython",
    "version": 3
   },
   "file_extension": ".py",
   "mimetype": "text/x-python",
   "name": "python",
   "nbconvert_exporter": "python",
   "pygments_lexer": "ipython3",
   "version": "3.8.5"
  }
 },
 "nbformat": 4,
 "nbformat_minor": 4
}
